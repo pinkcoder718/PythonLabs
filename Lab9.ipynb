{
 "cells": [
  {
   "cell_type": "markdown",
   "source": [
    "<b>19BTRCR007 <br>\r\n",
    "Myil Vaughanan V L"
   ],
   "metadata": {}
  },
  {
   "cell_type": "markdown",
   "source": [
    "<b><h1> LAB PROGRAM 9: </h1></b> <br>\r\n",
    "Write and run a program:<br> \r\n",
    "a. To elaborate file operations such as, opening a file, reading from it, writing to it, closing it, and various file methods<br>\r\n",
    "b. To elaborate file and directory management such as creating a directory, renaming it, listing all directories and working with them <br>\r\n",
    "c. To elaborate exception handling with python built in commands such as try, except, finally"
   ],
   "metadata": {}
  },
  {
   "cell_type": "markdown",
   "source": [
    "## a] For Text files\r\n",
    "1. Default mode of accessing a file will be read mode\r\n",
    "2. r mode - Opens a file for reading only, only if the file is in existence, else returns error\r\n",
    "3. w mode - Writes into the file, or overrides a file that is already in existence, or creates a new file when file is not in existence\r\n",
    "4. a mode - Appends at the end of the file, if no file is present it creates a new file\r\n",
    "5. r+ mode - Read and Write for an existing file\r\n",
    "6. w+ mode - Read and Write, if file doesn't exist creates new file\r\n",
    "7. a+ mode - Read or Appnd data into the same file\r\n",
    "8. x mode - Opens a file for exclusive creation\r\n",
    "\r\n",
    "\r\n"
   ],
   "metadata": {}
  },
  {
   "cell_type": "code",
   "execution_count": 18,
   "source": [
    "print(\"File Operations on Text File using r, w, a and x modes:\\n\")\r\n",
    "\r\n",
    "file1 = open(\"D://Study//Certificates and Online Courses//Python//Ex_Files_Learning_Python_Upd//Exercise Files//Ch4//textfile.txt\", 'r')\r\n",
    "data = file1.read()\r\n",
    "print(\"\\nFile is being read, content of the file is: \\n'{}'\".format(data))\r\n",
    "file1.close()\r\n",
    "\r\n",
    "file1 = open(\"D://Study//Certificates and Online Courses//Python//Ex_Files_Learning_Python_Upd//Exercise Files//Ch4//textfile.txt\", 'w')\r\n",
    "print(\"\\nOverwritting the existing file\")\r\n",
    "file1.write(\"Hello, Happy Ozone day\")\r\n",
    "file1.close()\r\n",
    "\r\n",
    "file1 = open(\"D://Study//Certificates and Online Courses//Python//Ex_Files_Learning_Python_Upd//Exercise Files//Ch4//textfile.txt\", 'a')\r\n",
    "print(\"Current Position of pointer\",file1.tell()) #shows the position of pointer\r\n",
    "print(\"\\nAppending over the existing file\")\r\n",
    "file1.write(\"\\nProtect Ozone by planting trees\")\r\n",
    "\r\n",
    "try:\r\n",
    "    file1 = open(\"D://Study//Certificates and Online Courses//Python//Ex_Files_Learning_Python_Upd//Exercise Files//Ch4//textfile.txt\", 'x')\r\n",
    "except Exception as e:\r\n",
    "    print(\"\\nWe will get '{}' error, because the file is already in existence\".format(e))\r\n",
    "\r\n"
   ],
   "outputs": [
    {
     "output_type": "stream",
     "name": "stdout",
     "text": [
      "File Operations on Text File using r, w, a and x modes:\n",
      "\n",
      "\n",
      "File is being read, content of the file is: \n",
      "'Hello, Happy Ozone day\n",
      "Protect Ozone by planting trees'\n",
      "\n",
      "Overwritting the existing file\n",
      "Current Position of pointer 22\n",
      "\n",
      "Appending over the existing file\n",
      "\n",
      "We will get '[Errno 17] File exists: 'D://Study//Certificates and Online Courses//Python//Ex_Files_Learning_Python_Upd//Exercise Files//Ch4//textfile.txt'' error, because the file is already in existence\n"
     ]
    }
   ],
   "metadata": {}
  },
  {
   "cell_type": "markdown",
   "source": [
    "## a] For Binary files\r\n",
    "1. Default mode of accessing a file will be read mode\r\n",
    "2. rb mode - Opens a file for reading only, only if the file is in existence, else returns error\r\n",
    "3. wb mode - Writes into the file, or overrides a file that is already in existence, or creates a new file when file is not in existence\r\n",
    "4. ab mode - Appends at the end of the file, if no file is present it creates a new file\r\n",
    "5. rb+ mode - Read and Write for an existing file\r\n",
    "6. wb+ mode - Read and Write, if file doesn't exist creates new file\r\n",
    "7. ab+ mode - Read or Appnd data into the same file\r\n",
    "8. xb mode - Opens a file for exclusive creation\r\n",
    "\r\n",
    "\r\n"
   ],
   "metadata": {}
  },
  {
   "cell_type": "code",
   "execution_count": 20,
   "source": [
    "print(\"File Operations on Binary File using rb, wb and ab modes\\n\")\r\n",
    "\r\n",
    "file2 = open(\"D://Study//Certificates and Online Courses//Python//Ex_Files_Learning_Python_Upd//Exercise Files//Ch4//textfile2.txt\", 'rb')\r\n",
    "print(\"\\nReading a Binary file\")\r\n",
    "data = file2.read()\r\n",
    "print(data)\r\n",
    "file2.close()\r\n",
    "\r\n",
    "file2 = open(\"D://Study//Certificates and Online Courses//Python//Ex_Files_Learning_Python_Upd//Exercise Files//Ch4//textfile2.txt\", 'wb')\r\n",
    "print(\"\\nOverwritting into a Binary file\")\r\n",
    "a = [2, 4, 6, 8]\r\n",
    "a_list = bytearray(a)\r\n",
    "file2.write(a_list)\r\n",
    "file2.close()\r\n",
    "\r\n",
    "\r\n",
    "file2 = open(\"D://Study//Certificates and Online Courses//Python//Ex_Files_Learning_Python_Upd//Exercise Files//Ch4//textfile2.txt\", 'ab')\r\n",
    "print(\"\\nBefore moving cursor\",file2.tell()) #shows the position of pointer\r\n",
    "file2.seek(0, 0)\r\n",
    "print(\"After moving cursor\",file2.tell())\r\n",
    "print(\"\\nAppending over the existing file\")\r\n",
    "a = [1, 3, 5, 7]\r\n",
    "a_list = bytearray(a)\r\n",
    "file2.write(a_list)\r\n",
    "file2.close()\r\n",
    "\r\n",
    "try:\r\n",
    "    file2 = open(\"D://Study//Certificates and Online Courses//Python//Ex_Files_Learning_Python_Upd//Exercise Files//Ch4//textfile.txt\", 'xb')\r\n",
    "except Exception as e:\r\n",
    "    print(\"\\nWe will get {} error, because the binary file is already in existence\".format(e))\r\n"
   ],
   "outputs": [
    {
     "output_type": "stream",
     "name": "stdout",
     "text": [
      "File Operations on Binary File using rb, wb and ab modes\n",
      "\n",
      "\n",
      "Reading a Binary file\n",
      "b'\\x02\\x04\\x06\\x08\\x01\\x03\\x05\\x07'\n",
      "\n",
      "Overwritting into a Binary file\n",
      "\n",
      "Before moving cursor 4\n",
      "After moving cursor 0\n",
      "\n",
      "Appending over the existing file\n",
      "\n",
      "We will get [Errno 17] File exists: 'D://Study//Certificates and Online Courses//Python//Ex_Files_Learning_Python_Upd//Exercise Files//Ch4//textfile.txt' error, because the binary file is already in existence\n"
     ]
    }
   ],
   "metadata": {}
  },
  {
   "cell_type": "markdown",
   "source": [
    "## b]"
   ],
   "metadata": {}
  },
  {
   "cell_type": "code",
   "execution_count": 3,
   "source": [
    "import os\r\n",
    "\r\n",
    "# Printing the current working directory\r\n",
    "print(\"Current Working Directory is:\",os.getcwd())\r\n",
    "\r\n",
    "# Creating a new directory called D2D Programming\r\n",
    "print(\"\\nCreating a new Folder in the current working directory\")\r\n",
    "os.mkdir(\"D2D Programming\")\r\n",
    "\r\n",
    "# Renaming the directory in Python\r\n",
    "print(\"\\nRenaming the directory\")\r\n",
    "os.rename(\"D2D Programming\", \"Day2Day\")\r\n",
    "\r\n",
    "# Listing all the files in the current working directory\r\n",
    "print(\"\\nFiles present in the cwd are:\",os.listdir())\r\n"
   ],
   "outputs": [
    {
     "output_type": "stream",
     "name": "stdout",
     "text": [
      "Current Working Directory is: d:\\Programming\\Python-Notebooks-main\\Python-Notebooks-main\\College Stuff\\PythonforDS\\LAB\n",
      "\n",
      "Creating a new Folder in the current working directory\n",
      "\n",
      "Renaming the directory\n",
      "\n",
      "Files present in the cwd are: ['Day2Day', 'Lab1.ipynb', 'Lab2.ipynb', 'Lab3.ipynb', 'Lab5.ipynb', 'Lab6.ipynb', 'Lab7.ipynb']\n"
     ]
    }
   ],
   "metadata": {}
  },
  {
   "cell_type": "markdown",
   "source": [
    "## c]"
   ],
   "metadata": {}
  },
  {
   "cell_type": "code",
   "execution_count": 4,
   "source": [
    "# finally block - with Exception\r\n",
    "\r\n",
    "a = 5\r\n",
    "b = 0\r\n",
    "try:\r\n",
    "    print(\"{}/{} = {}\".format(a,b,a/b))\r\n",
    "except Exception:\r\n",
    "    print(\"We cannot divide a number by 0\")\r\n",
    "else:\r\n",
    "    print(\"Process is complete\") # DOESN'T Execute\r\n",
    "finally:\r\n",
    "    print(\"This is the finally block\") # Executes w/o Exception\r\n"
   ],
   "outputs": [
    {
     "output_type": "stream",
     "name": "stdout",
     "text": [
      "We cannot divide a number by 0\n",
      "This is the finally block\n"
     ]
    }
   ],
   "metadata": {}
  },
  {
   "cell_type": "code",
   "execution_count": 5,
   "source": [
    "# finally block - No Exception\r\n",
    "\r\n",
    "a = 5\r\n",
    "b = 10\r\n",
    "try:\r\n",
    "    print(\"{}/{} = {}\".format(a,b,a/b))\r\n",
    "except Exception:\r\n",
    "    print(\"We cannot divide a number by 0\")\r\n",
    "else:\r\n",
    "    print(\"Process is complete\") \r\n",
    "finally:\r\n",
    "    print(\"This is the finally block\") # Executes w/o Exception\r\n"
   ],
   "outputs": [
    {
     "output_type": "stream",
     "name": "stdout",
     "text": [
      "5/10 = 0.5\n",
      "Process is complete\n",
      "This is the finally block\n"
     ]
    }
   ],
   "metadata": {}
  }
 ],
 "metadata": {
  "orig_nbformat": 4,
  "language_info": {
   "name": "python",
   "version": "3.8.10",
   "mimetype": "text/x-python",
   "codemirror_mode": {
    "name": "ipython",
    "version": 3
   },
   "pygments_lexer": "ipython3",
   "nbconvert_exporter": "python",
   "file_extension": ".py"
  },
  "kernelspec": {
   "name": "python3",
   "display_name": "Python 3.8.10 64-bit ('My_enviroment': conda)"
  },
  "interpreter": {
   "hash": "fb3892b00b79664a70d11c0a8e6958c6397afea78e7a3809587c8dd80409c80e"
  }
 },
 "nbformat": 4,
 "nbformat_minor": 2
}