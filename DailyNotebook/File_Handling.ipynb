{
 "cells": [
  {
   "cell_type": "markdown",
   "metadata": {},
   "source": [
    "## Pickle Module"
   ]
  },
  {
   "cell_type": "markdown",
   "metadata": {},
   "source": [
    "<h3>It is used for serailizing: </h3><br>\n",
    "-> dump() | Pickling - It is used to convert Python objects for writing data in a binary file.<br>\n",
    "&nbsp;&nbsp;&nbsp;&nbsp;&nbsp;&nbsp;The file in which data are to be dumped, needs to be opened in binary write/append mode<br>\n",
    "-> load() | Unpickling - It is used to load data from the binary file. <br>\n",
    "&nbsp;&nbsp;&nbsp;&nbsp;&nbsp;&nbsp;The file to be loaded is opened in binary read mode<br>"
   ]
  },
  {
   "cell_type": "code",
   "execution_count": 4,
   "metadata": {},
   "outputs": [
    {
     "name": "stdout",
     "output_type": "stream",
     "text": [
      "Data Written successfully\n"
     ]
    }
   ],
   "source": [
    "import pickle\n",
    "a = [1,2,3,4,5]\n",
    "fp = open(\"D://Study//Certificates and Online Courses//Python//Ex_Files_Learning_Python_Upd//Exercise Files//Ch4//sample.dat\", 'wb')\n",
    "pickle.dump(a, fp)\n",
    "print('Data Written successfully')\n",
    "fp.close()"
   ]
  },
  {
   "cell_type": "code",
   "execution_count": 5,
   "metadata": {},
   "outputs": [
    {
     "name": "stdout",
     "output_type": "stream",
     "text": [
      "b'\\x80\\x04\\x95\\x0f\\x00\\x00\\x00\\x00\\x00\\x00\\x00]\\x94(K\\x01K\\x02K\\x03K\\x04K\\x05e.'\n"
     ]
    }
   ],
   "source": [
    "fp = open(\"D://Study//Certificates and Online Courses//Python//Ex_Files_Learning_Python_Upd//Exercise Files//Ch4//sample.dat\", 'rb')\n",
    "data = fp.read()\n",
    "print(data)\n",
    "fp.close()"
   ]
  },
  {
   "cell_type": "code",
   "execution_count": 6,
   "metadata": {},
   "outputs": [
    {
     "name": "stdout",
     "output_type": "stream",
     "text": [
      "[1, 2, 3, 4, 5]\n"
     ]
    }
   ],
   "source": [
    "fp = open(\"D://Study//Certificates and Online Courses//Python//Ex_Files_Learning_Python_Upd//Exercise Files//Ch4//sample.dat\", 'rb')\n",
    "data = pickle.load(fp)\n",
    "print(data)\n",
    "fp.close()"
   ]
  },
  {
   "cell_type": "code",
   "execution_count": 7,
   "metadata": {},
   "outputs": [
    {
     "name": "stdout",
     "output_type": "stream",
     "text": [
      "Data Written successfully\n"
     ]
    }
   ],
   "source": [
    "a = {1:'Myil',2:'Sunaina',3:'Jaydeep',4:'Shivam',5:'Sunny Kumar'}\n",
    "fp = open(\"D://Study//Certificates and Online Courses//Python//Ex_Files_Learning_Python_Upd//Exercise Files//Ch4//sample.dat\", 'wb')\n",
    "pickle.dump(a, fp)\n",
    "print('Data Written successfully')\n",
    "fp.close()"
   ]
  },
  {
   "cell_type": "code",
   "execution_count": 8,
   "metadata": {},
   "outputs": [
    {
     "name": "stdout",
     "output_type": "stream",
     "text": [
      "{1: 'Myil', 2: 'Sunaina', 3: 'Jaydeep', 4: 'Shivam', 5: 'Sunny Kumar'}\n"
     ]
    }
   ],
   "source": [
    "fp = open(\"D://Study//Certificates and Online Courses//Python//Ex_Files_Learning_Python_Upd//Exercise Files//Ch4//sample.dat\", 'rb')\n",
    "data = pickle.load(fp)\n",
    "print(data)\n",
    "fp.close()"
   ]
  },
  {
   "cell_type": "code",
   "execution_count": 3,
   "metadata": {},
   "outputs": [
    {
     "data": {
      "text/plain": [
       "True"
      ]
     },
     "execution_count": 3,
     "metadata": {},
     "output_type": "execute_result"
    }
   ],
   "source": [
    "x = 20\n",
    "y = 100\n",
    "(x ** 5 > 150) or (y < 100)"
   ]
  },
  {
   "cell_type": "code",
   "execution_count": 5,
   "metadata": {},
   "outputs": [
    {
     "ename": "AttributeError",
     "evalue": "'str' object has no attribute 'isoweekday'",
     "output_type": "error",
     "traceback": [
      "\u001b[1;31m---------------------------------------------------------------------------\u001b[0m",
      "\u001b[1;31mAttributeError\u001b[0m                            Traceback (most recent call last)",
      "\u001b[1;32m<ipython-input-5-3a2a0d75199b>\u001b[0m in \u001b[0;36m<module>\u001b[1;34m\u001b[0m\n\u001b[0;32m      2\u001b[0m \u001b[1;33m\u001b[0m\u001b[0m\n\u001b[0;32m      3\u001b[0m \u001b[0mdt\u001b[0m\u001b[1;33m=\u001b[0m\u001b[1;34m'17-Oct-2020'\u001b[0m\u001b[1;33m\u001b[0m\u001b[1;33m\u001b[0m\u001b[0m\n\u001b[1;32m----> 4\u001b[1;33m \u001b[0mprint\u001b[0m\u001b[1;33m(\u001b[0m\u001b[0mdt\u001b[0m\u001b[1;33m.\u001b[0m\u001b[0misoweekday\u001b[0m\u001b[1;33m(\u001b[0m\u001b[1;33m)\u001b[0m\u001b[1;33m)\u001b[0m\u001b[1;33m\u001b[0m\u001b[1;33m\u001b[0m\u001b[0m\n\u001b[0m",
      "\u001b[1;31mAttributeError\u001b[0m: 'str' object has no attribute 'isoweekday'"
     ]
    }
   ],
   "source": [
    "import datetime\n",
    "\n",
    "dt='17-Oct-2020'\n",
    "print(dt.isoweekday())"
   ]
  },
  {
   "cell_type": "code",
   "execution_count": null,
   "metadata": {},
   "outputs": [],
   "source": []
  }
 ],
 "metadata": {
  "interpreter": {
   "hash": "68ef0cbb7566aa593dcd3f5111786a059cda34786a7268098f84ee2f369b1e0d"
  },
  "kernelspec": {
   "display_name": "Python 3.8.8 64-bit ('base': conda)",
   "name": "python3"
  },
  "language_info": {
   "codemirror_mode": {
    "name": "ipython",
    "version": 3
   },
   "file_extension": ".py",
   "mimetype": "text/x-python",
   "name": "python",
   "nbconvert_exporter": "python",
   "pygments_lexer": "ipython3",
   "version": "3.8.8"
  },
  "orig_nbformat": 4
 },
 "nbformat": 4,
 "nbformat_minor": 2
}
