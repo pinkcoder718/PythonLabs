{
  "cells": [
    {
      "cell_type": "markdown",
      "metadata": {
        "id": "RNsDiHTvIRVc"
      },
      "source": [
        "<b><h1>print() Function</h1>"
      ]
    },
    {
      "cell_type": "code",
      "execution_count": null,
      "metadata": {
        "id": "Z8qq9eAMIRVf",
        "outputId": "44fcf4b3-d47c-490d-eadf-1f72a3ad3d93"
      },
      "outputs": [
        {
          "name": "stdout",
          "output_type": "stream",
          "text": [
            "Welcome to Python Programming\n",
            "Fifth Semester Data Science\n"
          ]
        }
      ],
      "source": [
        "print(\"Welcome to Python Programming\")\n",
        "print(\"Fifth Semester Data Science\")"
      ]
    },
    {
      "cell_type": "code",
      "execution_count": null,
      "metadata": {
        "id": "n66GMuiJIRVh",
        "outputId": "1059e40f-433e-4667-bd3d-f8bb1aa82f46"
      },
      "outputs": [
        {
          "name": "stdout",
          "output_type": "stream",
          "text": [
            "Python Programming\n"
          ]
        }
      ],
      "source": [
        "print(\"Python\", \"Programming\")"
      ]
    },
    {
      "cell_type": "code",
      "execution_count": null,
      "metadata": {
        "id": "6zaw5dIcIRVi",
        "outputId": "761cf69e-8750-4b8f-9ec1-d1cd20b105b5"
      },
      "outputs": [
        {
          "name": "stdout",
          "output_type": "stream",
          "text": [
            "Python$Programming\n"
          ]
        }
      ],
      "source": [
        "print(\"Python\", \"Programming\", sep='$') # sep has a default value of ' ' "
      ]
    },
    {
      "cell_type": "code",
      "execution_count": null,
      "metadata": {
        "id": "nHHyyljGIRVi",
        "outputId": "a79eaaa5-398f-4160-d16c-3629528ca93e"
      },
      "outputs": [
        {
          "name": "stdout",
          "output_type": "stream",
          "text": [
            "Welcome Aman\n"
          ]
        }
      ],
      "source": [
        "a=\"Aman\"\n",
        "print(f'Welcome {a}')"
      ]
    },
    {
      "cell_type": "code",
      "execution_count": null,
      "metadata": {
        "id": "9Fvfeq67IRVj",
        "outputId": "67e49c7a-9386-4d68-d9bd-3e44c1facc22"
      },
      "outputs": [
        {
          "name": "stdout",
          "output_type": "stream",
          "text": [
            "Welcome Aman\n"
          ]
        }
      ],
      "source": [
        "print('Welcome {}'.format(a))"
      ]
    },
    {
      "cell_type": "code",
      "execution_count": null,
      "metadata": {
        "id": "nFxt_MrEIRVj",
        "outputId": "888838e5-e7c7-4691-8db7-c8b0373b0d28"
      },
      "outputs": [
        {
          "name": "stdout",
          "output_type": "stream",
          "text": [
            "Welcome     to Python Programming\n"
          ]
        }
      ],
      "source": [
        "print(\"Welcome \\\n",
        "    to Python Programming\")"
      ]
    },
    {
      "cell_type": "code",
      "execution_count": null,
      "metadata": {
        "id": "Q0J75f7RIRVk",
        "outputId": "b2d56cbd-d751-4671-a1a4-6ccd2266867d"
      },
      "outputs": [
        {
          "name": "stdout",
          "output_type": "stream",
          "text": [
            "Welcome\n",
            "to Python Programming\n"
          ]
        }
      ],
      "source": [
        "print(\"\"\"Welcome\n",
        "to Python Programming\"\"\")"
      ]
    },
    {
      "cell_type": "markdown",
      "metadata": {
        "id": "HajwXRT1IRVk"
      },
      "source": [
        "<b><h1>input() Function</h1>"
      ]
    },
    {
      "cell_type": "code",
      "execution_count": null,
      "metadata": {
        "id": "iSWXP8X7IRVl",
        "outputId": "0071452f-1077-4949-a900-861cbc214317"
      },
      "outputs": [
        {
          "name": "stdout",
          "output_type": "stream",
          "text": [
            "7\n"
          ]
        }
      ],
      "source": [
        "var = input(\"a number\")\n",
        "print(var)"
      ]
    },
    {
      "cell_type": "markdown",
      "metadata": {
        "id": "t-zKII3qIRVl"
      },
      "source": [
        "<b><h1>Python Variables</h1>\n",
        "A variable is a container for a value\n",
        "In Python, we don't define the type of the variable. It is assumed on the basis of the value it holds.\n",
        "Hence it is called a dynamically-typed Language"
      ]
    },
    {
      "cell_type": "code",
      "execution_count": null,
      "metadata": {
        "id": "UoW7IFQjIRVm",
        "outputId": "bf678e3a-ddfb-4696-f17e-e79b250e249b"
      },
      "outputs": [
        {
          "name": "stdout",
          "output_type": "stream",
          "text": [
            "40\n"
          ]
        },
        {
          "data": {
            "text/plain": [
              "int"
            ]
          },
          "execution_count": 15,
          "metadata": {},
          "output_type": "execute_result"
        }
      ],
      "source": [
        "x= 40\n",
        "print(x) \n",
        "type(x)"
      ]
    },
    {
      "cell_type": "code",
      "execution_count": null,
      "metadata": {
        "id": "rAllC7tEIRVm",
        "outputId": "4f93a832-ef94-4c78-e537-29e00d644190"
      },
      "outputs": [
        {
          "name": "stdout",
          "output_type": "stream",
          "text": [
            "Hello\n"
          ]
        },
        {
          "data": {
            "text/plain": [
              "str"
            ]
          },
          "execution_count": 16,
          "metadata": {},
          "output_type": "execute_result"
        }
      ],
      "source": [
        "x= 'Hello'\n",
        "print(x)\n",
        "type(x)"
      ]
    },
    {
      "cell_type": "code",
      "execution_count": null,
      "metadata": {
        "id": "Ey6D5uEnIRVn",
        "outputId": "7fc42526-114b-471f-e9e6-e7c0c87c549d"
      },
      "outputs": [
        {
          "name": "stdout",
          "output_type": "stream",
          "text": [
            "4.0\n"
          ]
        },
        {
          "data": {
            "text/plain": [
              "float"
            ]
          },
          "execution_count": 17,
          "metadata": {},
          "output_type": "execute_result"
        }
      ],
      "source": [
        "x= 4.0\n",
        "print(x) \n",
        "type(x)"
      ]
    },
    {
      "cell_type": "markdown",
      "metadata": {
        "id": "czUA-Q5CIRVn"
      },
      "source": [
        "<b><h1>Multiple Assignment</h1>"
      ]
    },
    {
      "cell_type": "code",
      "execution_count": null,
      "metadata": {
        "id": "-ugorc33IRVn",
        "outputId": "b4d39513-1f78-4c44-da35-3ae5bb755bf7"
      },
      "outputs": [
        {
          "name": "stdout",
          "output_type": "stream",
          "text": [
            "20 Bangalore\n"
          ]
        }
      ],
      "source": [
        "age, city = 20, 'Bangalore'\n",
        "print(age, city)"
      ]
    },
    {
      "cell_type": "code",
      "execution_count": null,
      "metadata": {
        "id": "6WhLpt5VIRVn",
        "outputId": "a8f6d316-ae29-414d-bf45-6ec308fe4bce"
      },
      "outputs": [
        {
          "name": "stdout",
          "output_type": "stream",
          "text": [
            "7 7 7\n"
          ]
        }
      ],
      "source": [
        "a=b=c=7\n",
        "print(a,b,c)"
      ]
    },
    {
      "cell_type": "markdown",
      "metadata": {
        "id": "FOejZaU_IRVo"
      },
      "source": [
        "<b><h1>Swapping Variables</h1>"
      ]
    },
    {
      "cell_type": "code",
      "execution_count": null,
      "metadata": {
        "id": "xQbn6NxrIRVo",
        "outputId": "d3db554e-7172-4ce9-d0e2-639ecc94d6e9"
      },
      "outputs": [
        {
          "name": "stdout",
          "output_type": "stream",
          "text": [
            "red blue\n"
          ]
        }
      ],
      "source": [
        "a,b = 'red', 'blue'\n",
        "print(a,b)"
      ]
    },
    {
      "cell_type": "code",
      "execution_count": null,
      "metadata": {
        "id": "ukJgZFSsIRVo",
        "outputId": "86d5fe8d-9dd9-48f8-d609-9d64637fc9fb"
      },
      "outputs": [
        {
          "name": "stdout",
          "output_type": "stream",
          "text": [
            "blue red\n"
          ]
        }
      ],
      "source": [
        "a,b = b,a\n",
        "print(a,b)"
      ]
    },
    {
      "cell_type": "markdown",
      "metadata": {
        "id": "D_TN1cgRIRVp"
      },
      "source": [
        "<b><h1>Python Data Types</h1> <br>\n",
        "1. Numbers    : int, float, complex, <u>Long(discontinued from Python 3.x)</u><br>\n",
        "2. Strings    : Any value within the \" \" or ' ' is a String <br>\n",
        "3. Lists      : It is a collection of values which are mutable and are contained with [] <br>\n",
        "4. Tuples     : It is a collection of values which are immutable and are contained within () <br>\n",
        "5. Dictionary : Declared in key-value pairs which are contained within {} <br>\n",
        "6. Bool       : Can store either True or False <br>\n",
        "7. Sets       : It can have a list of unique values contained within {} <br>"
      ]
    },
    {
      "cell_type": "code",
      "execution_count": null,
      "metadata": {
        "id": "oMx3YuhcIRVp",
        "outputId": "591e7ef1-0171-4c32-c2d2-a6e79a39839d"
      },
      "outputs": [
        {
          "name": "stdout",
          "output_type": "stream",
          "text": [
            "7 7.9 (7+9j)\n",
            "Type of a = <class 'int'>\n",
            "<class 'float'>\n",
            "<class 'complex'>\n"
          ]
        }
      ],
      "source": [
        "# Numeric data type\n",
        "a = 7\n",
        "b = 7.9\n",
        "c = 7+9j\n",
        "print(\" Value of a = \",a,\"\\n Value of b = \",b,\"\\n Value of c = \",c)\n",
        "print(\" Type of a = \",type(a))\n",
        "print(\" Type of b = \",type(b))\n",
        "print(\" Type of c = \",type(c))"
      ]
    },
    {
      "cell_type": "code",
      "execution_count": null,
      "metadata": {
        "id": "M7asFQ5FIRVp",
        "outputId": "89348717-208e-4779-b71a-fa225c3c839e"
      },
      "outputs": [
        {
          "name": "stdout",
          "output_type": "stream",
          "text": [
            "Python\n"
          ]
        },
        {
          "data": {
            "text/plain": [
              "str"
            ]
          },
          "execution_count": 6,
          "metadata": {},
          "output_type": "execute_result"
        }
      ],
      "source": [
        "#Strings\n",
        "a = \"Python\"\n",
        "print(\" Value of a = \",a)\n",
        "print(\" Type of a = \",type(a))"
      ]
    },
    {
      "cell_type": "code",
      "execution_count": null,
      "metadata": {
        "id": "98XTZvNnIRVp",
        "outputId": "7a746ecf-eec3-4697-d5e6-a7ba14c26012"
      },
      "outputs": [
        {
          "name": "stdout",
          "output_type": "stream",
          "text": [
            "[1, 2, 'a']\n"
          ]
        },
        {
          "data": {
            "text/plain": [
              "list"
            ]
          },
          "execution_count": 10,
          "metadata": {},
          "output_type": "execute_result"
        }
      ],
      "source": [
        "#lists\n",
        "a = [1,2,'a']\n",
        "print(\" Value of a = \",a)\n",
        "print(\" Type of a = \",type(a))"
      ]
    },
    {
      "cell_type": "code",
      "execution_count": null,
      "metadata": {
        "id": "dtxwz-AlIRVq",
        "outputId": "46c1aa10-afcc-4772-dd0f-2f5421ba7384"
      },
      "outputs": [
        {
          "name": "stdout",
          "output_type": "stream",
          "text": [
            " Value of a =  {1, 2, 3, 4, 5}\n",
            " Type of a =  <class 'set'>\n"
          ]
        }
      ],
      "source": [
        "#Set\n",
        "a = {1,2,3,3,4,5,5}\n",
        "print(\" Value of a = \",a)\n",
        "print(\" Type of a = \",type(a))"
      ]
    },
    {
      "cell_type": "code",
      "execution_count": null,
      "metadata": {
        "id": "PUidrgMfIRVq",
        "outputId": "a54e3095-5b28-428c-ce06-a73f87413bd3"
      },
      "outputs": [
        {
          "name": "stdout",
          "output_type": "stream",
          "text": [
            " Value of a =  {'a': 7, 'b': 'Seven'}\n",
            " Type of a =  <class 'dict'>\n"
          ]
        }
      ],
      "source": [
        "#Dictionary\n",
        "a = {'a':7 , 'b':'Seven'}\n",
        "print(\" Value of a = \",a)\n",
        "print(\" Type of a = \",type(a))"
      ]
    },
    {
      "cell_type": "code",
      "execution_count": null,
      "metadata": {
        "id": "11c52JnPIRVq",
        "outputId": "b8d4d95b-7120-4440-be37-7857416b0d42"
      },
      "outputs": [
        {
          "name": "stdout",
          "output_type": "stream",
          "text": [
            " Value of a =  False\n",
            " Type of a =  <class 'bool'>\n"
          ]
        }
      ],
      "source": [
        "#Bool\n",
        "a = 7>9\n",
        "print(\" Value of a = \",a)\n",
        "print(\" Type of a = \",type(a))"
      ]
    },
    {
      "cell_type": "code",
      "execution_count": null,
      "metadata": {
        "id": "xYqiZxcuIRVq",
        "outputId": "a6f5191d-660a-4b43-8aa9-ab124cbad20c"
      },
      "outputs": [
        {
          "name": "stdout",
          "output_type": "stream",
          "text": [
            " Value of a =  (1, 2, 3, 'Python')\n",
            " Type of a =  <class 'tuple'>\n"
          ]
        }
      ],
      "source": [
        "#Tuples\n",
        "a = (1,2,3,'Python')\n",
        "print(\" Value of a = \",a)\n",
        "print(\" Type of a = \",type(a))"
      ]
    },
    {
      "cell_type": "markdown",
      "metadata": {
        "id": "1Fd3wTY0IRVq"
      },
      "source": [
        "<b><h1>Type Conversions</h1> <br>"
      ]
    },
    {
      "cell_type": "code",
      "execution_count": null,
      "metadata": {
        "id": "fiTV5xikIRVr",
        "outputId": "c78dbdc5-64da-42cb-de02-85db5543f0a4"
      },
      "outputs": [
        {
          "name": "stdout",
          "output_type": "stream",
          "text": [
            "3\n",
            "3.0\n",
            "3.56\n",
            "True\n",
            "{1, 2, 3}\n",
            "['1', '2', '3']\n",
            "(1, 2, 4)\n"
          ]
        }
      ],
      "source": [
        "print(int(3.56))\n",
        "print(float(3))\n",
        "print(str(3.56))\n",
        "print(bool(3.56))\n",
        "print(set([1,2,3]))\n",
        "print(list(\"123\"))\n",
        "print(tuple({1,2,2,4}))"
      ]
    },
    {
      "cell_type": "code",
      "execution_count": null,
      "metadata": {
        "id": "LGtWsa2vIRVr"
      },
      "outputs": [],
      "source": [
        ""
      ]
    },
    {
      "cell_type": "markdown",
      "metadata": {
        "id": "wlbOMBFEIRVr"
      },
      "source": [
        "<h2> Comparison Operators"
      ]
    },
    {
      "cell_type": "code",
      "execution_count": null,
      "metadata": {
        "id": "Lp_bGHxaIRVr"
      },
      "outputs": [],
      "source": [
        "a = 7\n",
        "b = 9\n",
        "c = a"
      ]
    },
    {
      "cell_type": "code",
      "execution_count": null,
      "metadata": {
        "id": "hI9KzwAsIRVr",
        "outputId": "0d0f9572-20c7-42a8-d9b2-ebb08dda5f6b"
      },
      "outputs": [
        {
          "name": "stdout",
          "output_type": "stream",
          "text": [
            "True\n",
            "False\n",
            "True\n",
            "False\n",
            "False\n",
            "True\n"
          ]
        }
      ],
      "source": [
        "print(a<b)\n",
        "print(a>b)\n",
        "print(a<=b)\n",
        "print(a>=b)\n",
        "print(a == b)   \n",
        "print(a!=b)     "
      ]
    },
    {
      "cell_type": "markdown",
      "metadata": {
        "id": "-UCk92wxIRVr"
      },
      "source": [
        "<h2> Bitwise Operators"
      ]
    },
    {
      "cell_type": "code",
      "execution_count": null,
      "metadata": {
        "id": "ivVTx38SIRVs",
        "outputId": "d09f0521-6d18-454c-95e8-211cbc3c3472"
      },
      "outputs": [
        {
          "name": "stdout",
          "output_type": "stream",
          "text": [
            "Logical AND            = 1\n",
            "Logical OR of a and b  = 15\n",
            "Logical XOR of a and b = 14\n",
            "Logical NOT of a       = -8\n",
            "Logical NOT of b       = -10\n"
          ]
        }
      ],
      "source": [
        "print(\"Logical AND            =\",a&b)\n",
        "print(\"Logical OR of a and b  =\",a|b)\n",
        "print(\"Logical XOR of a and b =\",a^b)\n",
        "print(\"Logical NOT of a       =\",~a)\n",
        "print(\"Logical NOT of b       =\",~b)\n"
      ]
    },
    {
      "cell_type": "markdown",
      "metadata": {
        "id": "SaqQz3PeIRVs"
      },
      "source": [
        "<h2> Arithemetic Operators"
      ]
    },
    {
      "cell_type": "code",
      "execution_count": null,
      "metadata": {
        "id": "5bWzllbmIRVs",
        "outputId": "75849750-11fb-4923-c31b-36064c0eda4f"
      },
      "outputs": [
        {
          "name": "stdout",
          "output_type": "stream",
          "text": [
            "Sum               =  16\n",
            "Difference        =  -2\n",
            "Product           =  63\n",
            "Quotient          =  0.7777777777777778\n",
            "Remainder         =  7\n",
            "Floor Division    =  0\n",
            "a to the power of =  40353607\n"
          ]
        }
      ],
      "source": [
        "print(\"Sum               = \",a+b)\n",
        "print(\"Difference        = \",a-b)\n",
        "print(\"Product           = \",a*b)\n",
        "print(\"Quotient          = \",a/b)\n",
        "print(\"Remainder         = \",a%b)   \n",
        "print(\"Floor Division    = \",a//b)\n",
        "print(\"a to the power of = \",a**b)    \n"
      ]
    },
    {
      "cell_type": "markdown",
      "metadata": {
        "id": "2kBMubMaIRVs"
      },
      "source": [
        "<h2> Identity Operators"
      ]
    },
    {
      "cell_type": "code",
      "execution_count": null,
      "metadata": {
        "id": "0JzsqrLgIRVs",
        "outputId": "7ee146f8-3c7d-422a-cdff-bad7d7b05d1e"
      },
      "outputs": [
        {
          "name": "stdout",
          "output_type": "stream",
          "text": [
            "ID of a 140733149620304\n",
            "ID of b 140733149620368\n",
            "ID of c 140733149620304\n"
          ]
        }
      ],
      "source": [
        "print(\"ID of a\", id(a))\n",
        "print(\"ID of b\", id(b))\n",
        "print(\"ID of c\", id(c))"
      ]
    },
    {
      "cell_type": "code",
      "execution_count": null,
      "metadata": {
        "id": "RkHDH3TIIRVt",
        "outputId": "24759f38-8437-44b4-956f-635a8923ec98"
      },
      "outputs": [
        {
          "name": "stdout",
          "output_type": "stream",
          "text": [
            "False\n",
            "True\n",
            "True\n"
          ]
        }
      ],
      "source": [
        "# is compares the ID of the numbers\n",
        "print(a is b)\n",
        "print(a is c)\n",
        "print(a is not b)"
      ]
    },
    {
      "cell_type": "code",
      "execution_count": null,
      "metadata": {
        "id": "31MX-CwAIRVt"
      },
      "outputs": [],
      "source": [
        "d = [1,2,3,4,5]"
      ]
    },
    {
      "cell_type": "code",
      "execution_count": null,
      "metadata": {
        "id": "mxjReEVzIRVt",
        "outputId": "72ce1d39-c69b-4c27-c5b9-d32cd3c17389"
      },
      "outputs": [
        {
          "name": "stdout",
          "output_type": "stream",
          "text": [
            "True\n",
            "False\n",
            "True\n"
          ]
        }
      ],
      "source": [
        "# in checks if the value is present within some object\n",
        "print(3 in d)\n",
        "print(6 in d)\n",
        "print(7 not in d)"
      ]
    },
    {
      "cell_type": "markdown",
      "metadata": {
        "id": "7j6_UW2OIRVt"
      },
      "source": [
        "<h2> Logical Operators"
      ]
    },
    {
      "cell_type": "code",
      "execution_count": null,
      "metadata": {
        "id": "8qsspPXqIRVt"
      },
      "outputs": [],
      "source": [
        "print(a>b and a>c)\n",
        "print(b>c and b>a)\n",
        "print()"
      ]
    },
    {
      "cell_type": "markdown",
      "metadata": {
        "id": "aCmDPFeUIRVt"
      },
      "source": [
        "<h1> Design a Python program to find the average of best two marks out of three marks taken as input (without using any control statements)"
      ]
    },
    {
      "cell_type": "code",
      "execution_count": null,
      "metadata": {
        "id": "bGM0tGM-IRVt"
      },
      "outputs": [],
      "source": [
        "import math as m"
      ]
    },
    {
      "cell_type": "markdown",
      "metadata": {
        "id": "n7rtxo2oIRVu"
      },
      "source": [
        "<h2>Eliminate the smallest number and find the average"
      ]
    },
    {
      "cell_type": "code",
      "execution_count": null,
      "metadata": {
        "id": "tVxMNrhDIRVu",
        "outputId": "01a6dafd-feb8-449c-acc2-49e6548ebf0f"
      },
      "outputs": [
        {
          "data": {
            "text/plain": [
              "11.5"
            ]
          },
          "execution_count": 3,
          "metadata": {},
          "output_type": "execute_result"
        }
      ],
      "source": [
        "a=10\n",
        "b=11\n",
        "c=12\n",
        "smallest = min(a,b,c)\n",
        "average = (a+b+c-smallest)/2\n",
        "average"
      ]
    },
    {
      "cell_type": "markdown",
      "metadata": {
        "id": "YJZqgM0IIRVu"
      },
      "source": [
        "<h2> Find the Area of a triangle"
      ]
    },
    {
      "cell_type": "code",
      "execution_count": null,
      "metadata": {
        "id": "f6840I9-IRVu",
        "outputId": "316f6229-dd32-4ee1-c9f7-54f47cfb7bec"
      },
      "outputs": [
        {
          "data": {
            "text/plain": [
              "51.521233486786784"
            ]
          },
          "execution_count": 8,
          "metadata": {},
          "output_type": "execute_result"
        }
      ],
      "source": [
        "#with sqrt()\n",
        "s= (a+b+c)/2\n",
        "area = m.sqrt((s-a)*(s-b)*(s-c)*s)\n",
        "area"
      ]
    },
    {
      "cell_type": "code",
      "execution_count": null,
      "metadata": {
        "id": "U6PqRTK9IRVu",
        "outputId": "3087d89e-9d55-4c4b-8647-08f9bddf2ace"
      },
      "outputs": [
        {
          "data": {
            "text/plain": [
              "51.521233486786784"
            ]
          },
          "execution_count": 7,
          "metadata": {},
          "output_type": "execute_result"
        }
      ],
      "source": [
        "#without sqrt()\n",
        "area = ((s-a)*(s-b)*(s-c)*s)**0.5\n",
        "area"
      ]
    },
    {
      "cell_type": "markdown",
      "metadata": {
        "id": "ZLIkfBAsIRVu"
      },
      "source": [
        "<h2>FUNCTIONS IN PYTHON:</h2>\n",
        "<br>1. <u>Function defition</u>: A statement that creates a new function, specifying its name, parameters and the statements it contains\n",
        "<br>2. <u>header</u>: The first line of a function definition\n",
        "<br>3. <u>body</u>: The sequence of statements inside the function definition\n",
        "<br>4. <u>parameter</u>: A name inside a function to refer to the value passed as an argument.\n",
        "<br>5. <u>function call</u>: A statement that runs a function. It consists of the function name followed by an argument list in parentheses.\n",
        "<br>6. <u>argument</u>: A value provided to a function when the function is called. This value is assigned to the corresponding parameter in the fund\n",
        "<br>7. <u>local variable</u>: A variable defined inside a function. A local variable can only be used inside its function.\n",
        "<br>8. <u>return value</u>: The result of a function. If a function call is used as an expression, the return value is the value of the expression.\n",
        "<br>9. <u>fruitful function</u>: A function that returns a value.\n",
        "<br>10. <u>void function</u>: A function that always returns None.\n",
        "<br>11. <u>None</u>: A special value returned by void functions."
      ]
    },
    {
      "cell_type": "markdown",
      "metadata": {
        "id": "d89XhsyPIRVv"
      },
      "source": [
        "<h2> TYPES OF FUNCTIONS IN PYTHON </h2> <br>\n",
        "1. User Defined Function <br>\n",
        "2. Built-in Function"
      ]
    },
    {
      "cell_type": "markdown",
      "metadata": {
        "id": "XpdENWGOIRVv"
      },
      "source": [
        "<h2> Control Statements"
      ]
    },
    {
      "cell_type": "markdown",
      "metadata": {
        "id": "XRv6PHmzIRVv"
      },
      "source": [
        "if-elif-if"
      ]
    },
    {
      "cell_type": "markdown",
      "metadata": {
        "id": "nc72GZp_IRVv"
      },
      "source": [
        "<h2> While loop in Python </h2>\n",
        "-> Entry controlled loop <br>\n",
        "-> syntax: <br>\n",
        "    while expression: <br>\n",
        "            statement(s)"
      ]
    },
    {
      "cell_type": "markdown",
      "metadata": {
        "id": "dedwXq9CIRVv"
      },
      "source": [
        ""
      ]
    },
    {
      "cell_type": "code",
      "execution_count": null,
      "metadata": {
        "id": "F2pw1ajMIRVv",
        "outputId": "9d2f9cd0-c3a5-4e13-9732-2a73305f0129"
      },
      "outputs": [
        {
          "name": "stdout",
          "output_type": "stream",
          "text": [
            "Hello\n",
            "Hello\n",
            "Hello, welcome to\n",
            "           the string in Python\n",
            "                        Fifth Sem Data Science Students\n"
          ]
        }
      ],
      "source": [
        "my_string = 'Hello'\n",
        "print(my_string)\n",
        "\n",
        "my_string = \"Hello\"\n",
        "print(my_string)\n",
        "\n",
        "# triple quotes string can extend multiple lines\n",
        "my_string = \"\"\"Hello, welcome to\n",
        "           the string in Python\n",
        "                        Fifth Sem Data Science Students\"\"\"\n",
        "print(my_string)\n"
      ]
    },
    {
      "cell_type": "code",
      "execution_count": null,
      "metadata": {
        "id": "qH4pw2AxIRVw",
        "outputId": "3f72e2f4-ddc8-4c2f-b052-3cf9a3096655"
      },
      "outputs": [
        {
          "name": "stdout",
          "output_type": "stream",
          "text": [
            "str =  University\n",
            "str[0] =  U\n",
            "str[-1] =  y\n",
            "str[1:5] =  nive\n",
            "str[5:-2] =  rsi\n",
            "t\n"
          ]
        }
      ],
      "source": [
        "str = 'University'\n",
        "print('str = ', str)\n",
        "\n",
        "#first character\n",
        "print('str[0] = ', str[0])\n",
        "\n",
        "#last character\n",
        "print('str[-1] = ', str[-1])\n",
        "\n",
        "#slicing 2nd to 5th character\n",
        "print('str[1:5] = ', str[1:5])\n",
        "\n",
        "#slicing 6th to 2nd last character\n",
        "print('str[5:-2] = ', str[5:-2])\n",
        "print(str[-2])"
      ]
    },
    {
      "cell_type": "code",
      "execution_count": null,
      "metadata": {
        "id": "HnV6KtsaIRVw",
        "outputId": "31961f5b-28fd-48cf-80d7-93f44516cedc"
      },
      "outputs": [
        {
          "name": "stdout",
          "output_type": "stream",
          "text": [
            "12\n"
          ]
        }
      ],
      "source": [
        "#len(): The len() method returns the length of a string.\n",
        "str = \"Data Science\"\n",
        "print(len(str))"
      ]
    },
    {
      "cell_type": "code",
      "execution_count": null,
      "metadata": {
        "id": "-QAhQZVQIRVw",
        "outputId": "b9e3eb77-b336-451d-afa7-ac7ddbe5ac1f"
      },
      "outputs": [
        {
          "name": "stdout",
          "output_type": "stream",
          "text": [
            "3\n"
          ]
        }
      ],
      "source": [
        "a=\"a b\"\n",
        "print(len(a))"
      ]
    },
    {
      "cell_type": "code",
      "execution_count": null,
      "metadata": {
        "id": "-zNkIl2bIRVw",
        "outputId": "90d980d8-e0c8-4f21-a44c-ea13dea66aef"
      },
      "outputs": [
        {
          "name": "stdout",
          "output_type": "stream",
          "text": [
            "python programming\n"
          ]
        }
      ],
      "source": [
        "#lower(): The lower() method returns the string in lower case.\n",
        "\n",
        "str = \"Python Programming\"\n",
        "print(str.lower())\n"
      ]
    },
    {
      "cell_type": "code",
      "execution_count": null,
      "metadata": {
        "id": "yeAoXtxrIRVx",
        "outputId": "91a40f50-a5f7-430b-98ac-f34a351c1756"
      },
      "outputs": [
        {
          "name": "stdout",
          "output_type": "stream",
          "text": [
            "PYTHON PROGRAMMING\n"
          ]
        }
      ],
      "source": [
        "#upper(): The upper() method returns the string in upper case.\n",
        "\n",
        "str = \"Python Programming\"\n",
        "print(str.upper())\n"
      ]
    },
    {
      "cell_type": "code",
      "execution_count": null,
      "metadata": {
        "id": "gYs78AQbIRVx",
        "outputId": "85692362-1355-49c2-bb75-23974a6b22bd"
      },
      "outputs": [
        {
          "name": "stdout",
          "output_type": "stream",
          "text": [
            "Jello, World!\n"
          ]
        }
      ],
      "source": [
        "#replace(): The replace() method replaces a string with another string.\n",
        "\n",
        "a = \"Hello, World!\"\n",
        "print(a.replace(\"H\", \"J\"))\n"
      ]
    },
    {
      "cell_type": "code",
      "execution_count": null,
      "metadata": {
        "id": "3y0zMq4AIRVx",
        "outputId": "90e0092e-cf92-4ff1-9188-872340573fb5"
      },
      "outputs": [
        {
          "name": "stdout",
          "output_type": "stream",
          "text": [
            "Java Programming\n"
          ]
        }
      ],
      "source": [
        "str = \"Python Programming\"\n",
        "print(str.replace(\"Python\",\"Java\"))"
      ]
    },
    {
      "cell_type": "code",
      "execution_count": null,
      "metadata": {
        "id": "A9E4aZyYIRVx",
        "outputId": "d6b3839b-da16-4693-e621-fed86bf0c8f6"
      },
      "outputs": [
        {
          "name": "stdout",
          "output_type": "stream",
          "text": [
            "['Hello.', 'World!']\n"
          ]
        }
      ],
      "source": [
        "#split():The split() method splits the string into substrings if it finds instances of the separator.\n",
        "\n",
        "a = \"Hello. World!\"\n",
        "print(a.split(\" \")) "
      ]
    },
    {
      "cell_type": "code",
      "execution_count": null,
      "metadata": {
        "id": "m2P9EawtIRVx",
        "outputId": "1400a531-eeb3-433d-ed78-63da720e7490"
      },
      "outputs": [
        {
          "name": "stdout",
          "output_type": "stream",
          "text": [
            "['Hello. World!']\n"
          ]
        }
      ],
      "source": [
        "a = \"Hello. World!\"\n",
        "print(a.split(\",\")) "
      ]
    },
    {
      "cell_type": "code",
      "execution_count": null,
      "metadata": {
        "id": "qg9QsxRgIRVx",
        "outputId": "208a385b-0c87-4d63-f9b4-5e6816d0d7b0"
      },
      "outputs": [
        {
          "name": "stdout",
          "output_type": "stream",
          "text": [
            "Python Programming\n"
          ]
        }
      ],
      "source": [
        "#strip(): The strip() method removes any whitespace from the beginning or the end(eitherside).\n",
        "#lstrip() and rstrip() removes leading and trailing whitespace from string.\n",
        "\n",
        "str = \"     Python Programming   \"\n",
        "print(str.strip())"
      ]
    },
    {
      "cell_type": "code",
      "execution_count": null,
      "metadata": {
        "id": "GdZwPTa6IRVy",
        "outputId": "514d04ba-f231-4a28-ebf1-f9a710a94787"
      },
      "outputs": [
        {
          "name": "stdout",
          "output_type": "stream",
          "text": [
            "Python Programming   \n"
          ]
        }
      ],
      "source": [
        "str = \"     Python Programming   \"\n",
        "print(str.lstrip())"
      ]
    },
    {
      "cell_type": "code",
      "execution_count": null,
      "metadata": {
        "id": "xJEbYQVCIRVy",
        "outputId": "1f48774a-c4e7-4e72-be8d-8b0a36e6b739"
      },
      "outputs": [
        {
          "name": "stdout",
          "output_type": "stream",
          "text": [
            "     Python Programming\n"
          ]
        }
      ],
      "source": [
        "str = \"     Python Programming   \"\n",
        "print(str.rstrip())"
      ]
    },
    {
      "cell_type": "code",
      "execution_count": null,
      "metadata": {
        "id": "yaIEb6o7IRVy",
        "outputId": "a77665f8-676f-4850-c45f-2efa8ff7c907"
      },
      "outputs": [
        {
          "name": "stdout",
          "output_type": "stream",
          "text": [
            "        data        \n"
          ]
        }
      ],
      "source": [
        "#center(): The center() method will center align the string, using a specified character \n",
        "#(space is default) as the fill character.\n",
        "#Syntax:\n",
        "#string.center(length, character)\n",
        "\n",
        "txt = \"data\"\n",
        "x = txt.center(20)\n",
        "print(x)"
      ]
    },
    {
      "cell_type": "code",
      "execution_count": null,
      "metadata": {
        "id": "AHbfXx92IRVy",
        "outputId": "8a0cacf7-5839-426d-ae79-86bfc373151f"
      },
      "outputs": [
        {
          "name": "stdout",
          "output_type": "stream",
          "text": [
            "0\n"
          ]
        }
      ],
      "source": [
        "#count(): Return the number of times the value appears in the string\n",
        "#Syntax:\n",
        "#string.count(value, start, end)\n",
        "\n",
        "#value\tRequired. A String. The string to value to search for\n",
        "#start\tOptional. An Integer. The position to start the search. Default is 0\n",
        "#end\tOptional. An Integer. The position to end the search. Default is the end of the string\n",
        "\n",
        "\n",
        "txt = \"Python Programming\"\n",
        "x = txt.count(\"q\")\n",
        "print(x)\n",
        "\n"
      ]
    },
    {
      "cell_type": "code",
      "execution_count": null,
      "metadata": {
        "id": "-bN1rMQ4IRVy",
        "outputId": "6bc4fd70-0cbf-4b7a-8b94-bccf136600ca"
      },
      "outputs": [
        {
          "name": "stdout",
          "output_type": "stream",
          "text": [
            "4\n",
            "9\n",
            "-1\n"
          ]
        }
      ],
      "source": [
        "#find():The find() method finds the first occurrence of the specified value.\n",
        "#It returns -1 if the value is not found.\n",
        "\n",
        "#string.find(value, start, end)\n",
        "\n",
        "#value\tRequired. The value to search for\n",
        "#start\tOptional. Where to start the search. Default is 0\n",
        "#end\tOptional. Where to end the search. Default is to the end of the string\n",
        "\n",
        "txt = \"Python Programming\"\n",
        "x = txt.find(\"o\")\n",
        "print(x)\n",
        "\n",
        "txt = \"Python Programming\"\n",
        "x = txt.find(\"o\",7)\n",
        "print(x)\n",
        "\n",
        "txt = \"Python Programming\"\n",
        "x = txt.find(\"q\")\n",
        "print(x)\n"
      ]
    },
    {
      "cell_type": "code",
      "execution_count": null,
      "metadata": {
        "id": "Wwq4-GDGIRVy",
        "outputId": "1891a703-0d09-4dee-d994-c3d684cd446f"
      },
      "outputs": [
        {
          "name": "stdout",
          "output_type": "stream",
          "text": [
            "13\n"
          ]
        }
      ],
      "source": [
        "#rfind(): The rfind() method finds the last occurrence of the specified value.\n",
        "\n",
        "txt = \"Hello, welcome to my world.\"\n",
        "x = txt.rfind(\"e\")\n",
        "print(x)\n"
      ]
    },
    {
      "cell_type": "code",
      "execution_count": null,
      "metadata": {
        "id": "LWtdCNCdIRVz",
        "outputId": "36a06518-eb5c-48f6-ea3a-f6f029ec5f1b"
      },
      "outputs": [
        {
          "name": "stdout",
          "output_type": "stream",
          "text": [
            "8\n"
          ]
        }
      ],
      "source": [
        "#index():Same as find() except it returns exception, If not found.\n",
        "#The index() method finds the first occurrence of the specified value.\n",
        "#The index() method raises an exception if the value is not found.\n",
        "\n",
        "\n",
        "txt = \"Python Programming\"\n",
        "x = txt.index(\"r\")\n",
        "print(x)\n"
      ]
    },
    {
      "cell_type": "code",
      "execution_count": null,
      "metadata": {
        "id": "EOZWyNjYIRVz",
        "outputId": "86afbf41-2ae8-4a7f-9e0d-4b8cf5a5ea2b"
      },
      "outputs": [
        {
          "name": "stdout",
          "output_type": "stream",
          "text": [
            "14\n"
          ]
        }
      ],
      "source": [
        "#rindex(): The rindex() method finds the last occurrence of the specified value.\n",
        "txt = \"Python Programming\"\n",
        "x = txt.rindex(\"m\")\n",
        "print(x)\n"
      ]
    },
    {
      "cell_type": "code",
      "execution_count": null,
      "metadata": {
        "id": "tVVvISu1IRVz",
        "outputId": "5993ae7f-b807-4de2-fb31-35d06df1d0f7"
      },
      "outputs": [
        {
          "name": "stdout",
          "output_type": "stream",
          "text": [
            "pYTHON pROGRAMMING\n"
          ]
        }
      ],
      "source": [
        "#swapcase():Swaps cases, lower case becomes upper case and vice versa\n",
        "\n",
        "txt = \"Python Programming\"\n",
        "x=txt.swapcase()\n",
        "print(x)\n"
      ]
    },
    {
      "cell_type": "code",
      "execution_count": null,
      "metadata": {
        "id": "kx2kcnaTIRVz",
        "outputId": "1a3ceef9-9d80-4dd6-c94c-6e3713b8669e"
      },
      "outputs": [
        {
          "name": "stdout",
          "output_type": "stream",
          "text": [
            "welcome to python programming\n"
          ]
        }
      ],
      "source": [
        "#casefold():removes all case distinctions present in a string. It is used for caseless matching, \n",
        "#i.e. ignores cases when comparing.\n",
        "txt='Welcome to Python Programming'\n",
        "print(txt.casefold())\n"
      ]
    },
    {
      "cell_type": "code",
      "execution_count": null,
      "metadata": {
        "id": "VR6xTO28IRVz",
        "outputId": "8fce7a5a-3367-4878-e4d7-32fc937bfbd4"
      },
      "outputs": [
        {
          "name": "stdout",
          "output_type": "stream",
          "text": [
            "32\n",
            "97\n"
          ]
        }
      ],
      "source": [
        "#ord(): Converts character to a numeric code.\n",
        "\n",
        "print(ord(' '))   \n",
        "print(ord('a'))\n"
      ]
    },
    {
      "cell_type": "code",
      "execution_count": null,
      "metadata": {
        "id": "JJiO4BsPIRVz",
        "outputId": "73dcb272-ee1c-448c-ce35-2bdaa15c6aa9"
      },
      "outputs": [
        {
          "name": "stdout",
          "output_type": "stream",
          "text": [
            "a\n"
          ]
        }
      ],
      "source": [
        "#chr(): Coverts numeric code to character.\n",
        "print(chr(97))\n"
      ]
    },
    {
      "cell_type": "code",
      "execution_count": null,
      "metadata": {
        "id": "tVvNm-xCIRV0",
        "outputId": "12d3315a-2039-4cce-87ae-6a5c0033b34d"
      },
      "outputs": [
        {
          "name": "stdout",
          "output_type": "stream",
          "text": [
            "Welcome To Python Programming\n"
          ]
        }
      ],
      "source": [
        "#title():title() method will capitalize each word in a string.\n",
        "str=\"welcome to python programming\"\n",
        "print(str.title())\n"
      ]
    },
    {
      "cell_type": "code",
      "execution_count": null,
      "metadata": {
        "id": "lS4na7OFIRV0",
        "outputId": "8b0e4ca1-36e9-4422-8e7e-5266ed80b1b3"
      },
      "outputs": [
        {
          "name": "stdout",
          "output_type": "stream",
          "text": [
            "Welcome to python programming\n"
          ]
        }
      ],
      "source": [
        "str=\"welcome to python programming\"\n",
        "print(str.capitalize())\n"
      ]
    },
    {
      "cell_type": "code",
      "execution_count": null,
      "metadata": {
        "id": "Wp-3roaBIRV0",
        "outputId": "aa9e4e18-3b72-48a5-8b13-93ed7ed983ab"
      },
      "outputs": [
        {
          "name": "stdout",
          "output_type": "stream",
          "text": [
            "False\n",
            "Welcome Amar\n",
            "Welcome  Amar\n",
            "False\n",
            "False\n",
            "False\n",
            "False\n",
            "False\n",
            "False\n",
            "True\n",
            "True\n"
          ]
        }
      ],
      "source": [
        "#islower()\n",
        "s='Python'\n",
        "print(s.islower())\n",
        "\n",
        "#format string\n",
        "str=' Amar'\n",
        "print(f'Welcome{str}')\n",
        "print('Welcome {}'.format(str))\n",
        "\n",
        "#isupper()\n",
        "s='PYTHoN'\n",
        "print(s.isupper())\n",
        "\n",
        "#isdigit()\n",
        "s='1234a'\n",
        "print(s.isdigit())\n",
        "\n",
        "#isalnum()\n",
        "s='123abc!'\n",
        "print(s.isalnum())\n",
        "\n",
        "#isspace()\n",
        "s=' a  '\n",
        "print(s.isspace())\n",
        "\n",
        "#startswith()\n",
        "#endswith()\n",
        "s='Python'\n",
        "print(s.startswith('py'))\n",
        "print(s.endswith('ton'))\n",
        "\n",
        "#isalpha()\n",
        "str1 = \"Welcome\"  \n",
        "str2 = str1.isalpha()  \n",
        "print(str2)\n",
        "\n",
        "#isdigit()\n",
        "str1 = '12345'  \n",
        "str2 = str1.isdigit()  \n",
        "print(str2) \n",
        "\n"
      ]
    },
    {
      "cell_type": "code",
      "execution_count": null,
      "metadata": {
        "id": "Tn4sOYV8IRV0",
        "outputId": "0c3bd2c4-4e75-4706-b90a-27d5c2ec8718"
      },
      "outputs": [
        {
          "name": "stdout",
          "output_type": "stream",
          "text": [
            "True\n",
            "False\n"
          ]
        }
      ],
      "source": [
        "a = [81, 82, 83]\n",
        "b = [81, 82, 83]\n",
        "print(a == b)\n",
        "print(a is b)\n"
      ]
    },
    {
      "cell_type": "code",
      "execution_count": null,
      "metadata": {
        "id": "JM7k7s3kIRV0",
        "outputId": "a0a4cb2c-0ee5-4571-8a6a-4871b053567c"
      },
      "outputs": [
        {
          "name": "stdout",
          "output_type": "stream",
          "text": [
            "True\n",
            "True\n",
            "[81, 82, 83]\n",
            "[81, 82, 83]\n",
            "[5, 82, 83]\n",
            "[5, 82, 83]\n"
          ]
        }
      ],
      "source": [
        "b = a\n",
        "print(a == b)\n",
        "print(a is b)\n",
        "print(a)\n",
        "print(b)       \n",
        "b[0] = 5\n",
        "print(a)\n",
        "print(b)\n"
      ]
    },
    {
      "cell_type": "code",
      "execution_count": null,
      "metadata": {
        "id": "6yzSkhhxIRV1",
        "outputId": "01588f5b-5cf0-48ee-c9af-d8f59a3c1900"
      },
      "outputs": [
        {
          "name": "stdout",
          "output_type": "stream",
          "text": [
            "[81, 82, 83]\n",
            "1328761486976\n",
            "[81, 82, 83]\n",
            "1328761557824\n"
          ]
        }
      ],
      "source": [
        "a = [81, 82, 83]\n",
        "b = [81, 82, 83]\n",
        "print(a)\n",
        "print(id(a))\n",
        "print(b)\n",
        "print(id(b))"
      ]
    },
    {
      "cell_type": "code",
      "execution_count": null,
      "metadata": {
        "id": "gMIzZEd7IRV1",
        "outputId": "0e45f8dd-352a-4864-9d29-f603b6ff5144"
      },
      "outputs": [
        {
          "name": "stdout",
          "output_type": "stream",
          "text": [
            "True\n",
            "False\n",
            "[81, 82, 83]\n",
            "[81, 82, 83]\n",
            "[81, 82, 83]\n",
            "[5, 82, 83]\n"
          ]
        }
      ],
      "source": [
        "b = a[:]\n",
        "print(a == b)\n",
        "print(a is b)\n",
        "print(a)\n",
        "print(b)       \n",
        "b[0] = 5\n",
        "print(a)\n",
        "print(b)\n"
      ]
    },
    {
      "cell_type": "code",
      "execution_count": null,
      "metadata": {
        "id": "9HQGSGsvIRV1",
        "outputId": "1e7cc1ca-9dc9-45b2-9857-2d834ff3d3d0"
      },
      "outputs": [
        {
          "name": "stdout",
          "output_type": "stream",
          "text": [
            "str =  University\n",
            "str[0] =  U\n",
            "str[-1] =  y\n",
            "str[1:5] =  nive\n",
            "str[5:-2] =  rsi\n"
          ]
        }
      ],
      "source": [
        "\n",
        "str = 'University'\n",
        "print('str = ', str)\n",
        "\n",
        "#first character\n",
        "print('str[0] = ', str[0])\n",
        "\n",
        "#last character\n",
        "print('str[-1] = ', str[-1])\n",
        "\n",
        "#slicing 2nd to 5th character\n",
        "print('str[1:5] = ', str[1:5])\n",
        "\n",
        "#slicing 6th to 2nd last character\n",
        "print('str[5:-2] = ', str[5:-2])\n"
      ]
    },
    {
      "cell_type": "code",
      "execution_count": null,
      "metadata": {
        "id": "yGTcc_9fIRV1",
        "outputId": "148d6e43-7ee3-4ad5-9365-03808560e3e8"
      },
      "outputs": [
        {
          "name": "stdout",
          "output_type": "stream",
          "text": [
            "adf\n"
          ]
        }
      ],
      "source": [
        "str=\"abcd efgh\"\n",
        "print(str[::3])\n"
      ]
    },
    {
      "cell_type": "code",
      "execution_count": null,
      "metadata": {
        "id": "UElG6vQnIRV1",
        "outputId": "5587e2f6-289c-48c9-ad26-4a1eded788c2"
      },
      "outputs": [
        {
          "name": "stdout",
          "output_type": "stream",
          "text": [
            "dcba\n"
          ]
        }
      ],
      "source": [
        "str=\"abcd\"\n",
        "print(str[::-1])\n"
      ]
    },
    {
      "cell_type": "markdown",
      "metadata": {
        "id": "9Uf4lD0PIRV1"
      },
      "source": [
        "<h2> Lists"
      ]
    },
    {
      "cell_type": "markdown",
      "metadata": {
        "id": "Lz1Z_C6yIRV1"
      },
      "source": [
        "1. List is an ordered collection of elements and it is mutable\n",
        "2. All elements are placed inside [], separated by commas\n",
        "3. It can have any number of elements and they may be of different types "
      ]
    },
    {
      "cell_type": "markdown",
      "metadata": {
        "id": "7aaI1mNXIRV2"
      },
      "source": [
        "Let us consider a list : <br>\n",
        "l1       = [ 5 , 9 , -1 , 4 ] <br>\n",
        "index    =   0   1    2   3 <br>\n",
        "negative =  -4  -3   -2  -1 <br>"
      ]
    },
    {
      "cell_type": "code",
      "execution_count": null,
      "metadata": {
        "id": "EM1692eqIRV2",
        "outputId": "2ea3a86a-126a-4380-9898-83fe0326d225"
      },
      "outputs": [
        {
          "data": {
            "text/plain": [
              "[1, 2, 3, 4, 5, 5]"
            ]
          },
          "execution_count": 37,
          "metadata": {},
          "output_type": "execute_result"
        }
      ],
      "source": [
        "a = [1,2,3,4,5,5]\n",
        "a"
      ]
    },
    {
      "cell_type": "code",
      "execution_count": null,
      "metadata": {
        "id": "gddD-R5yIRV2",
        "outputId": "d20d02d8-ce92-4366-adf1-49c33fcbeb5f"
      },
      "outputs": [
        {
          "data": {
            "text/plain": [
              "[1, 2, 3, 4, 5, 6]"
            ]
          },
          "execution_count": 38,
          "metadata": {},
          "output_type": "execute_result"
        }
      ],
      "source": [
        "a = list([1,2,3,4,5,6])\n",
        "a"
      ]
    },
    {
      "cell_type": "code",
      "execution_count": null,
      "metadata": {
        "id": "PnybJFYkIRV2",
        "outputId": "5eec040a-5df8-4cef-ed0f-5c91431db9b2"
      },
      "outputs": [
        {
          "name": "stdout",
          "output_type": "stream",
          "text": [
            "1\n",
            "2\n",
            "6\n"
          ]
        }
      ],
      "source": [
        "print(a[0])\n",
        "print(a[1])\n",
        "print(a[-1])"
      ]
    },
    {
      "cell_type": "code",
      "execution_count": null,
      "metadata": {
        "id": "UbTb2ZZKIRV2",
        "outputId": "5b2b836e-b494-44e7-f0c6-74c68fc73c5c"
      },
      "outputs": [
        {
          "name": "stdout",
          "output_type": "stream",
          "text": [
            "[3, 4]\n"
          ]
        }
      ],
      "source": [
        "print(a[2:4])"
      ]
    },
    {
      "cell_type": "code",
      "execution_count": null,
      "metadata": {
        "id": "rymYQMPZIRV2",
        "outputId": "cf3560f1-5c4f-4a94-cecc-fa5fbce494ec"
      },
      "outputs": [
        {
          "name": "stdout",
          "output_type": "stream",
          "text": [
            "3\n",
            "7\n",
            "4\n",
            "2\n"
          ]
        }
      ],
      "source": [
        "z=[3,7,4,2]\n",
        "for i in z:\n",
        "    print(i)"
      ]
    },
    {
      "cell_type": "markdown",
      "metadata": {
        "id": "Jq60PE91IRV3"
      },
      "source": [
        "<h3>Mutability"
      ]
    },
    {
      "cell_type": "markdown",
      "metadata": {
        "id": "xTTyz0ilIRV3"
      },
      "source": [
        "1. Lists are mutable because we can modify a list after creation\n",
        "2. You can do various operations like push and pop"
      ]
    },
    {
      "cell_type": "code",
      "execution_count": null,
      "metadata": {
        "id": "nHIDn7OSIRV3",
        "outputId": "48d733f4-0ede-4496-d77f-e3fcc10588f1"
      },
      "outputs": [
        {
          "name": "stdout",
          "output_type": "stream",
          "text": [
            "8\n"
          ]
        }
      ],
      "source": [
        "#len() - counts the number of elemnts in the list\n",
        "list1 = [10,25,30.5,'Myil',15,15,15,16]\n",
        "print(len(list1))"
      ]
    },
    {
      "cell_type": "code",
      "execution_count": null,
      "metadata": {
        "id": "9eLrq08PIRV3",
        "outputId": "ada1b44d-3435-42af-d16d-615993f2e5b2"
      },
      "outputs": [
        {
          "name": "stdout",
          "output_type": "stream",
          "text": [
            "3\n"
          ]
        }
      ],
      "source": [
        "#count() - it returns the number of times a particular value appears in a list\n",
        "print(list1.count(15))"
      ]
    },
    {
      "cell_type": "code",
      "execution_count": null,
      "metadata": {
        "id": "O5UeKcgJIRV3",
        "outputId": "0ae282a7-a350-411d-df78-d7369e6af05b"
      },
      "outputs": [
        {
          "name": "stdout",
          "output_type": "stream",
          "text": [
            "[10, 25, 30.5, 'Myil', 15, 15, 15, 16, 'Vaughanan']\n"
          ]
        }
      ],
      "source": [
        "#append() - adds an element at the end of the list\n",
        "list1.append(\"Vaughanan\")\n",
        "print(list1)"
      ]
    },
    {
      "cell_type": "code",
      "execution_count": null,
      "metadata": {
        "id": "jjam2cnvIRV3",
        "outputId": "83a178c8-77f3-40d5-cad4-1a8b8d386269"
      },
      "outputs": [
        {
          "name": "stdout",
          "output_type": "stream",
          "text": [
            "[10, 25, 30.5, 'Data Science', 'Myil', 15, 15, 15, 16, 'Vaughanan']\n"
          ]
        }
      ],
      "source": [
        "#insert() - inserts value at a particular position in a list\n",
        "#By default the position is the end of the list just like append()\n",
        "list1.insert(3,'Data Science')\n",
        "print(list1)"
      ]
    },
    {
      "cell_type": "code",
      "execution_count": null,
      "metadata": {
        "id": "UlnGtkz7IRV4",
        "outputId": "a52a77ea-0401-435e-f017-f585b3be5898"
      },
      "outputs": [
        {
          "name": "stdout",
          "output_type": "stream",
          "text": [
            "[10, 25, 30.5, 'Data Science', 'Myil', 15, 15, 15, 16]\n",
            "[10, 25, 'Data Science', 'Myil', 15, 15, 15, 16]\n"
          ]
        }
      ],
      "source": [
        "#pop() - removes the element at a specified position\n",
        "#By default the last element stored in the list is removed\n",
        "list1.pop()\n",
        "print(list1)\n",
        "list1.pop(2)\n",
        "print(list1)"
      ]
    },
    {
      "cell_type": "code",
      "execution_count": null,
      "metadata": {
        "id": "ksmQzEEiIRV4",
        "outputId": "20168f33-b99b-4b00-fa8a-80bc16470390"
      },
      "outputs": [
        {
          "name": "stdout",
          "output_type": "stream",
          "text": [
            "[10, 25, 'Data Science', 'Myil', 15, 15, 16]\n"
          ]
        }
      ],
      "source": [
        "#remove() - removes the first occurrence of the of specified value\n",
        "list1.remove(15)\n",
        "print(list1)"
      ]
    },
    {
      "cell_type": "code",
      "execution_count": null,
      "metadata": {
        "id": "HnveFOJsIRV4",
        "outputId": "b76d4118-ea80-4070-87c1-7fa584b8305a"
      },
      "outputs": [
        {
          "data": {
            "text/plain": [
              "2"
            ]
          },
          "execution_count": 49,
          "metadata": {},
          "output_type": "execute_result"
        }
      ],
      "source": [
        "#index() - finds the position at the first occurrence of specified value\n",
        "list1.index('Data Science')"
      ]
    },
    {
      "cell_type": "code",
      "execution_count": null,
      "metadata": {
        "id": "SkZczciSIRV4",
        "outputId": "b774fd00-564e-4808-cdee-cdd841c6866b"
      },
      "outputs": [
        {
          "name": "stdout",
          "output_type": "stream",
          "text": [
            "[10, 25, 'Data Science', 'Myil', 15, 15, 16]\n",
            "Before reversal:  2553639611456\n",
            "[16, 15, 15, 'Myil', 'Data Science', 25, 10]\n",
            "After reversal:  2553639611456\n"
          ]
        }
      ],
      "source": [
        "#reverse() - reverses the contents of the list\n",
        "print(list1)\n",
        "print(\"Before reversal: \",id(list1))\n",
        "list1.reverse()\n",
        "print(list1)\n",
        "print(\"After reversal: \",id(list1))"
      ]
    },
    {
      "cell_type": "code",
      "execution_count": null,
      "metadata": {
        "id": "1NCeJkMSIRV6",
        "outputId": "dc3635e7-ae11-4561-ca5f-1454b8f709ad"
      },
      "outputs": [
        {
          "name": "stdout",
          "output_type": "stream",
          "text": [
            "Ascending order:  [2, 3, 4, 4, 6, 7, 9]\n",
            "Decending order:  [9, 7, 6, 4, 4, 3, 2]\n"
          ]
        }
      ],
      "source": [
        "#sort() - sorts the list in ascending order by default\n",
        "#By default reverse = False\n",
        "list2 = [4,2,4,6,7,3,9]\n",
        "list2.sort()\n",
        "print(\"Ascending order: \", list2)\n",
        "list2.sort(reverse = True)\n",
        "print(\"Decending order: \", list2)\n"
      ]
    },
    {
      "cell_type": "markdown",
      "metadata": {
        "id": "gumbEAAUIRV6"
      },
      "source": [
        "<h3> Aliasing in Python"
      ]
    },
    {
      "cell_type": "markdown",
      "metadata": {
        "id": "i--trxdqIRV6"
      },
      "source": [
        "It means to refer the same instance with different names. An alias is a a second name for a piece of data."
      ]
    },
    {
      "cell_type": "code",
      "execution_count": null,
      "metadata": {
        "id": "y-q6pcH1IRV6",
        "outputId": "9ac91126-b154-4c2b-d3cd-1d5082c83ea4"
      },
      "outputs": [
        {
          "name": "stdout",
          "output_type": "stream",
          "text": [
            "List 2:  2553639611456\n",
            "List 1:  2553639611456\n"
          ]
        }
      ],
      "source": [
        "list3 = list1\n",
        "print(\"List 2: \",id(list3))\n",
        "print(\"List 1: \",id(list1))"
      ]
    },
    {
      "cell_type": "code",
      "execution_count": null,
      "metadata": {
        "id": "XgAUmJOSIRV6",
        "outputId": "f0006b41-a63d-4d69-b891-b71d4d8215e2"
      },
      "outputs": [
        {
          "name": "stdout",
          "output_type": "stream",
          "text": [
            "List 2:  2553645888512\n",
            "List 1:  2553639611456\n"
          ]
        }
      ],
      "source": [
        "#copy() - if we don't want to create a alias but we need a duplicate value then we can use copy()\n",
        "list3 = list1.copy()\n",
        "print(\"List 2: \",id(list3))\n",
        "print(\"List 1: \",id(list1))"
      ]
    },
    {
      "cell_type": "markdown",
      "metadata": {
        "id": "nqTkptNtIRV7"
      },
      "source": [
        "<h3> Cloning Lists"
      ]
    },
    {
      "cell_type": "markdown",
      "metadata": {
        "id": "ohg2j3A8IRV7"
      },
      "source": [
        "If we want to modify a list and also keep the copy of the original list"
      ]
    },
    {
      "cell_type": "code",
      "execution_count": null,
      "metadata": {
        "id": "b7H46DMDIRV7",
        "outputId": "fc21fb43-bbf4-432d-f837-d1812d0f9c93"
      },
      "outputs": [
        {
          "name": "stdout",
          "output_type": "stream",
          "text": [
            "Comparing Values:  True\n",
            "Comparing Address:  False\n"
          ]
        }
      ],
      "source": [
        "list4 = list1[:] #make clones by using slice operator\n",
        "print(\"Comparing Values: \",list4 == list1)\n",
        "print(\"Comparing Address: \",list4 is list1)\n"
      ]
    },
    {
      "cell_type": "code",
      "execution_count": null,
      "metadata": {
        "id": "MaqkWr_PIRV7",
        "outputId": "7f496475-3f1f-47cb-84ec-22dd4e8e5968"
      },
      "outputs": [
        {
          "ename": "IndexError",
          "evalue": "list assignment index out of range",
          "output_type": "error",
          "traceback": [
            "\u001b[1;31m---------------------------------------------------------------------------\u001b[0m",
            "\u001b[1;31mIndexError\u001b[0m                                Traceback (most recent call last)",
            "\u001b[1;32m<ipython-input-3-cf0e77af9a2c>\u001b[0m in \u001b[0;36m<module>\u001b[1;34m\u001b[0m\n\u001b[0;32m      5\u001b[0m \u001b[1;32mfor\u001b[0m \u001b[0mi\u001b[0m \u001b[1;32min\u001b[0m \u001b[0mrange\u001b[0m\u001b[1;33m(\u001b[0m\u001b[0mn\u001b[0m\u001b[1;33m)\u001b[0m\u001b[1;33m:\u001b[0m\u001b[1;33m\u001b[0m\u001b[1;33m\u001b[0m\u001b[0m\n\u001b[0;32m      6\u001b[0m     \u001b[1;32mfor\u001b[0m \u001b[0mj\u001b[0m \u001b[1;32min\u001b[0m \u001b[0ma\u001b[0m\u001b[1;33m:\u001b[0m\u001b[1;33m\u001b[0m\u001b[1;33m\u001b[0m\u001b[0m\n\u001b[1;32m----> 7\u001b[1;33m         \u001b[0mb\u001b[0m\u001b[1;33m[\u001b[0m\u001b[0mctr\u001b[0m\u001b[1;33m]\u001b[0m \u001b[1;33m=\u001b[0m \u001b[0ma\u001b[0m\u001b[1;33m[\u001b[0m\u001b[0mi\u001b[0m\u001b[1;33m]\u001b[0m\u001b[1;33m\u001b[0m\u001b[1;33m\u001b[0m\u001b[0m\n\u001b[0m\u001b[0;32m      8\u001b[0m         \u001b[0mb\u001b[0m\u001b[1;33m[\u001b[0m\u001b[0mctr\u001b[0m\u001b[1;33m+\u001b[0m\u001b[1;36m1\u001b[0m\u001b[1;33m]\u001b[0m \u001b[1;33m=\u001b[0m \u001b[0ma\u001b[0m\u001b[1;33m[\u001b[0m\u001b[0mi\u001b[0m\u001b[1;33m]\u001b[0m\u001b[1;33m\u001b[0m\u001b[1;33m\u001b[0m\u001b[0m\n\u001b[0;32m      9\u001b[0m         \u001b[0mctr\u001b[0m \u001b[1;33m=\u001b[0m \u001b[0mctr\u001b[0m \u001b[1;33m+\u001b[0m \u001b[1;36m1\u001b[0m\u001b[1;33m\u001b[0m\u001b[1;33m\u001b[0m\u001b[0m\n",
            "\u001b[1;31mIndexError\u001b[0m: list assignment index out of range"
          ]
        }
      ],
      "source": [
        "a = [1,2,3,4,5]\n",
        "b = []\n",
        "ctr = 0\n",
        "n = int(input(\"Enter the number of times you want the iteration\"))\n",
        "for i in range(n):\n",
        "    for j in a:    \n",
        "        b[ctr] = a[i]\n",
        "        b[ctr+1] = a[i]\n",
        "        ctr = ctr + 1\n",
        "        \n",
        "print(a)        "
      ]
    },
    {
      "cell_type": "code",
      "execution_count": null,
      "metadata": {
        "id": "uYIj2mAJIRV7",
        "outputId": "02c0ebed-db59-4337-d0af-e87f1525e195"
      },
      "outputs": [
        {
          "name": "stdout",
          "output_type": "stream",
          "text": [
            "[1, 1, 1, 2, 2, 2, 3, 3, 3, 4, 4, 4, 5, 5, 5]\n"
          ]
        }
      ],
      "source": [
        "n = int(input(\"Enter the number of times you want the iteration\"))\n",
        "c = []\n",
        "for b in a:\n",
        "    for x in range(n):\n",
        "        c.append(b)\n",
        "\n",
        "print(c)"
      ]
    },
    {
      "cell_type": "code",
      "execution_count": null,
      "metadata": {
        "id": "Kpjf2x-FIRV7"
      },
      "outputs": [],
      "source": [
        ""
      ]
    },
    {
      "cell_type": "code",
      "execution_count": null,
      "metadata": {
        "id": "94LZ8-nHIRV7",
        "outputId": "40243ec2-0193-46b7-d0c1-1ccb42eb45c9"
      },
      "outputs": [
        {
          "name": "stdout",
          "output_type": "stream",
          "text": [
            "[1, 2, 3, 4, 5]   1281121666880\n",
            "[]   1281121666880\n"
          ]
        }
      ],
      "source": [
        "#clear() - Removes contents of the list\n",
        "x = [1,2,3,4,5]\n",
        "print(x,\" \", id(x))\n",
        "x.clear()\n",
        "print(x,\" \", id(x))\n"
      ]
    },
    {
      "cell_type": "code",
      "execution_count": null,
      "metadata": {
        "id": "XX3i5uYyIRV8",
        "outputId": "b2cfe814-21b5-4fcf-823c-a80e79f27f44"
      },
      "outputs": [
        {
          "ename": "NameError",
          "evalue": "name 'x' is not defined",
          "output_type": "error",
          "traceback": [
            "\u001b[1;31m---------------------------------------------------------------------------\u001b[0m",
            "\u001b[1;31mNameError\u001b[0m                                 Traceback (most recent call last)",
            "\u001b[1;32m<ipython-input-2-5947be95e5c2>\u001b[0m in \u001b[0;36m<module>\u001b[1;34m\u001b[0m\n\u001b[0;32m      2\u001b[0m \u001b[0mx\u001b[0m \u001b[1;33m=\u001b[0m \u001b[1;33m[\u001b[0m\u001b[1;36m1\u001b[0m\u001b[1;33m,\u001b[0m\u001b[1;36m2\u001b[0m\u001b[1;33m,\u001b[0m\u001b[1;36m3\u001b[0m\u001b[1;33m,\u001b[0m\u001b[1;36m4\u001b[0m\u001b[1;33m,\u001b[0m\u001b[1;36m5\u001b[0m\u001b[1;33m]\u001b[0m\u001b[1;33m\u001b[0m\u001b[1;33m\u001b[0m\u001b[0m\n\u001b[0;32m      3\u001b[0m \u001b[1;32mdel\u001b[0m\u001b[1;33m(\u001b[0m\u001b[0mx\u001b[0m\u001b[1;33m)\u001b[0m\u001b[1;33m\u001b[0m\u001b[1;33m\u001b[0m\u001b[0m\n\u001b[1;32m----> 4\u001b[1;33m \u001b[0mprint\u001b[0m\u001b[1;33m(\u001b[0m\u001b[0mx\u001b[0m\u001b[1;33m)\u001b[0m\u001b[1;33m\u001b[0m\u001b[1;33m\u001b[0m\u001b[0m\n\u001b[0m",
            "\u001b[1;31mNameError\u001b[0m: name 'x' is not defined"
          ]
        }
      ],
      "source": [
        "#del() - deletes the existence of the variable or deletes the particular value in a list\n",
        "x = [1,2,3,4,5]\n",
        "del(x)\n",
        "print(x) #we get error because x is deleted"
      ]
    },
    {
      "cell_type": "code",
      "execution_count": null,
      "metadata": {
        "id": "5ryF4z8wIRV8",
        "outputId": "b406cb7d-7d50-40be-f784-791ad9ef28a7"
      },
      "outputs": [
        {
          "name": "stdout",
          "output_type": "stream",
          "text": [
            "[1, 2, 4, 5]\n"
          ]
        }
      ],
      "source": [
        "x = [1,2,3,4,5]\n",
        "del(x[2])\n",
        "print(x) #value at 2nd index in x list is deleted"
      ]
    },
    {
      "cell_type": "code",
      "execution_count": null,
      "metadata": {
        "id": "WtPM52SQIRV8",
        "outputId": "a5771b1d-99ef-4d1d-cd1d-9687454c8338"
      },
      "outputs": [
        {
          "name": "stdout",
          "output_type": "stream",
          "text": [
            "[1, 2, 3, 4, 5]\n",
            "[6, 7, 8]\n",
            "[1, 2, 3, 4, 5, 6, 7, 8]\n",
            "[6, 7, 8, 1, 2, 3, 4, 5, 6, 7, 8]\n"
          ]
        }
      ],
      "source": [
        "#extend() - adds the specified list elements to the end of the current list\n",
        "x = [1,2,3,4,5]\n",
        "print(x)\n",
        "y = [6,7,8]\n",
        "print(y)\n",
        "x.extend(y)\n",
        "print(x)\n",
        "y.extend(x)\n",
        "print(y)"
      ]
    },
    {
      "cell_type": "markdown",
      "metadata": {
        "id": "qw0RbzrqIRV8"
      },
      "source": [
        "<h2> List Comprehension"
      ]
    },
    {
      "cell_type": "markdown",
      "metadata": {
        "id": "fWRSIavvIRV8"
      },
      "source": [
        "List comprehension offers a shorter syntax when you want to create a new list based on the values of an existing list."
      ]
    },
    {
      "cell_type": "code",
      "execution_count": null,
      "metadata": {
        "id": "D0JMJx5OIRV8",
        "outputId": "972e875b-f333-47c6-98e8-449598459cf2"
      },
      "outputs": [
        {
          "data": {
            "text/plain": [
              "[1, 4, 9, 16, 25]"
            ]
          },
          "execution_count": 6,
          "metadata": {},
          "output_type": "execute_result"
        }
      ],
      "source": [
        "#finding the square of the elements in the list\n",
        "x = [1,2,3,4,5]\n",
        "#using loop\n",
        "y = []\n",
        "for i in x:\n",
        "    y.append(i*i)\n",
        "y"
      ]
    },
    {
      "cell_type": "code",
      "execution_count": null,
      "metadata": {
        "id": "TZPFpV9pIRV9",
        "outputId": "fc7ad4bc-4981-400c-ecf1-c79e163d5b73"
      },
      "outputs": [
        {
          "data": {
            "text/plain": [
              "[1, 4, 9, 16, 25]"
            ]
          },
          "execution_count": 8,
          "metadata": {},
          "output_type": "execute_result"
        }
      ],
      "source": [
        "#using list comprehension\n",
        "y = [i*i for i in x]\n",
        "y"
      ]
    },
    {
      "cell_type": "code",
      "execution_count": null,
      "metadata": {
        "id": "PSLi6clCIRV9",
        "outputId": "350af136-e403-4e4f-a0db-adbf558c0860"
      },
      "outputs": [
        {
          "data": {
            "text/plain": [
              "[40, 50]"
            ]
          },
          "execution_count": 9,
          "metadata": {},
          "output_type": "execute_result"
        }
      ],
      "source": [
        "#printing all the number greater than 30 using loop\n",
        "x = [10,20,30,40,50]\n",
        "y = []\n",
        "for i in x:\n",
        "    if i > 30:\n",
        "        y.append(i)\n",
        "y"
      ]
    },
    {
      "cell_type": "code",
      "execution_count": null,
      "metadata": {
        "id": "DxMuIod7IRV9",
        "outputId": "9cc91de8-2cbe-4f3a-9b55-a695f26bc207"
      },
      "outputs": [
        {
          "data": {
            "text/plain": [
              "[40, 50]"
            ]
          },
          "execution_count": 10,
          "metadata": {},
          "output_type": "execute_result"
        }
      ],
      "source": [
        "#printing all the number greater than 30 using list comprehension\n",
        "y = [i for i in x if i>30]\n",
        "y"
      ]
    },
    {
      "cell_type": "code",
      "execution_count": null,
      "metadata": {
        "id": "pwo-djPdIRV9",
        "outputId": "5d9c70c4-730a-44ed-d31a-2536cd851757"
      },
      "outputs": [
        {
          "data": {
            "text/plain": [
              "[1,\n",
              " 2,\n",
              " 3,\n",
              " 4,\n",
              " 5,\n",
              " 6,\n",
              " 7,\n",
              " 8,\n",
              " 9,\n",
              " 10,\n",
              " 11,\n",
              " 12,\n",
              " 13,\n",
              " 14,\n",
              " 15,\n",
              " 16,\n",
              " 17,\n",
              " 18,\n",
              " 19,\n",
              " 20,\n",
              " 21,\n",
              " 22,\n",
              " 23,\n",
              " 24,\n",
              " 25,\n",
              " 26,\n",
              " 27,\n",
              " 28,\n",
              " 29,\n",
              " 30,\n",
              " 31,\n",
              " 32,\n",
              " 33,\n",
              " 34,\n",
              " 35,\n",
              " 36,\n",
              " 37,\n",
              " 38,\n",
              " 39,\n",
              " 40,\n",
              " 41,\n",
              " 42,\n",
              " 43,\n",
              " 44,\n",
              " 45,\n",
              " 46,\n",
              " 47,\n",
              " 48,\n",
              " 49,\n",
              " 50,\n",
              " 51,\n",
              " 52,\n",
              " 53,\n",
              " 54,\n",
              " 55,\n",
              " 56,\n",
              " 57,\n",
              " 58,\n",
              " 59,\n",
              " 60,\n",
              " 61,\n",
              " 62,\n",
              " 63,\n",
              " 64,\n",
              " 65,\n",
              " 66,\n",
              " 67,\n",
              " 68,\n",
              " 69,\n",
              " 70,\n",
              " 71,\n",
              " 72,\n",
              " 73,\n",
              " 74,\n",
              " 75,\n",
              " 76,\n",
              " 77,\n",
              " 78,\n",
              " 79,\n",
              " 80,\n",
              " 81,\n",
              " 82,\n",
              " 83,\n",
              " 84,\n",
              " 85,\n",
              " 86,\n",
              " 87,\n",
              " 88,\n",
              " 89,\n",
              " 90,\n",
              " 91,\n",
              " 92,\n",
              " 93,\n",
              " 94,\n",
              " 95,\n",
              " 96,\n",
              " 97,\n",
              " 98,\n",
              " 99,\n",
              " 100]"
            ]
          },
          "execution_count": 13,
          "metadata": {},
          "output_type": "execute_result"
        }
      ],
      "source": [
        "#create a list of numbers from 1 to 100 using list comprehension\n",
        "x = [i for i in range(1,101)]\n",
        "x"
      ]
    },
    {
      "cell_type": "code",
      "execution_count": null,
      "metadata": {
        "id": "IP9IVzY2IRV9",
        "outputId": "a93553b8-32ab-49d2-cc7c-6deed032f5ac"
      },
      "outputs": [
        {
          "data": {
            "text/plain": [
              "[1, 4, 9, 16, 25, 36, 49, 64, 81, 100]"
            ]
          },
          "execution_count": 16,
          "metadata": {},
          "output_type": "execute_result"
        }
      ],
      "source": [
        "#to create a list that contains the square of all numbers from 1 to 10 using list comprehension\n",
        "y = [i*i for i in range(1,11)]\n",
        "y"
      ]
    },
    {
      "cell_type": "code",
      "execution_count": null,
      "metadata": {
        "id": "nAnjqfhaIRV-",
        "outputId": "38a24785-a5fb-4be8-d789-d298a9093288"
      },
      "outputs": [
        {
          "data": {
            "text/plain": [
              "[50,\n",
              " 52,\n",
              " 54,\n",
              " 56,\n",
              " 58,\n",
              " 60,\n",
              " 62,\n",
              " 64,\n",
              " 66,\n",
              " 68,\n",
              " 70,\n",
              " 72,\n",
              " 74,\n",
              " 76,\n",
              " 78,\n",
              " 80,\n",
              " 82,\n",
              " 84,\n",
              " 86,\n",
              " 88,\n",
              " 90,\n",
              " 92,\n",
              " 94,\n",
              " 96,\n",
              " 98,\n",
              " 100]"
            ]
          },
          "execution_count": 18,
          "metadata": {},
          "output_type": "execute_result"
        }
      ],
      "source": [
        "#Generate a list of even numbers from 50 to 100(both inclusive) using list comprehension\n",
        "x = [i for i in range(50,101) if i%2==0]\n",
        "x"
      ]
    },
    {
      "cell_type": "code",
      "execution_count": null,
      "metadata": {
        "id": "wBiZrGcDIRV-",
        "outputId": "05b5ee06-7fa0-4e12-d3cb-6ad7ade3e53b"
      },
      "outputs": [
        {
          "data": {
            "text/plain": [
              "[15, 30, 45, 60, 75, 90]"
            ]
          },
          "execution_count": 20,
          "metadata": {},
          "output_type": "execute_result"
        }
      ],
      "source": [
        "#Generate a list that contains the numbers divisible by 3 and 5 from 1 to 100\n",
        "x = [i for i in range(1,101) if i%3==0 and i%5==0]\n",
        "x\n"
      ]
    },
    {
      "cell_type": "markdown",
      "metadata": {
        "id": "GIIL3jigIRV-"
      },
      "source": [
        "<h2>Nested List"
      ]
    },
    {
      "cell_type": "code",
      "execution_count": null,
      "metadata": {
        "id": "HjO1nTrpIRV-",
        "outputId": "c50a1a7a-51c0-401d-c448-67a03a022fb7"
      },
      "outputs": [
        {
          "data": {
            "text/plain": [
              "[[1, 2, 3], [4, 5, 6], [7, 8, 9]]"
            ]
          },
          "execution_count": 21,
          "metadata": {},
          "output_type": "execute_result"
        }
      ],
      "source": [
        "a = [[1,2,3], [4,5,6], [7,8,9]]\n",
        "a"
      ]
    },
    {
      "cell_type": "code",
      "execution_count": null,
      "metadata": {
        "id": "GPmKkKyhIRV-",
        "outputId": "f64a9a78-25e8-4eec-c556-51eda02d1b77"
      },
      "outputs": [
        {
          "name": "stdout",
          "output_type": "stream",
          "text": [
            "[1, 2, 3]\n",
            "1\n"
          ]
        }
      ],
      "source": [
        "#to access particular element in a nested list\n",
        "print(a[0]) \n",
        "print(a[0][0]) #first element of the first list within the list"
      ]
    },
    {
      "cell_type": "markdown",
      "metadata": {
        "id": "D0OhpQaOIRV-"
      },
      "source": [
        "<h2>Tuples"
      ]
    },
    {
      "cell_type": "markdown",
      "metadata": {
        "id": "Xn7HknxBIRV-"
      },
      "source": [
        "Tuples are a sequence of immutable data structures (Python Objects) enclosed within paranthesis '()'. <br>\n",
        "It can contain values of any type"
      ]
    },
    {
      "cell_type": "markdown",
      "metadata": {
        "id": "7fjsOfHaIRV_"
      },
      "source": [
        "<b>NOTE: Both list and Tuples are Sequenced  "
      ]
    },
    {
      "cell_type": "code",
      "execution_count": null,
      "metadata": {
        "id": "PDcoGjE7IRV_",
        "outputId": "493b8283-62cc-438b-8699-95caa67f40ad"
      },
      "outputs": [
        {
          "name": "stdout",
          "output_type": "stream",
          "text": [
            "(10, 20, 30, 'orange', 'mango')\n"
          ]
        },
        {
          "data": {
            "text/plain": [
              "tuple"
            ]
          },
          "execution_count": 23,
          "metadata": {},
          "output_type": "execute_result"
        }
      ],
      "source": [
        "a = (10,20,30,\"orange\",\"mango\")\n",
        "print(a)\n",
        "type(a)"
      ]
    },
    {
      "cell_type": "code",
      "execution_count": null,
      "metadata": {
        "id": "0DQQYc3nIRV_",
        "outputId": "e88a175e-998a-49be-d971-ecd504901e9f"
      },
      "outputs": [
        {
          "name": "stdout",
          "output_type": "stream",
          "text": [
            "(10, 20, 30, 'apple', 'banana')\n"
          ]
        },
        {
          "data": {
            "text/plain": [
              "tuple"
            ]
          },
          "execution_count": 24,
          "metadata": {},
          "output_type": "execute_result"
        }
      ],
      "source": [
        "b = 10,20,30,\"apple\",\"banana\"\n",
        "print(b)\n",
        "type(b)"
      ]
    },
    {
      "cell_type": "code",
      "execution_count": null,
      "metadata": {
        "id": "1N1VHOr0IRV_",
        "outputId": "f6804327-0193-47b8-cce4-56abb7e6ecc9"
      },
      "outputs": [
        {
          "name": "stdout",
          "output_type": "stream",
          "text": [
            "10\n",
            "(20, 30)\n",
            "mango\n",
            "(10, 20, 30, 'orange')\n",
            "('mango', 'orange', 30, 20, 10)\n"
          ]
        }
      ],
      "source": [
        "#accessing a particular element in a tuple\n",
        "print(a[0]) #printint the value of tuple at the 0th index\n",
        "print(a[1:3]) #printing values of tuple at the indices 1 and 2\n",
        "print(a[-1]) #printing only the last element\n",
        "print(a[:-1]) #last element excluded\n",
        "print(a[::-1]) #reverse order of a tuple"
      ]
    },
    {
      "cell_type": "markdown",
      "metadata": {
        "id": "OtudOoLFIRV_"
      },
      "source": [
        "<h2>Tuples Continuation - Functions in Tuples"
      ]
    },
    {
      "cell_type": "code",
      "execution_count": null,
      "metadata": {
        "id": "Hx2fTP88IRV_",
        "outputId": "cd88d8ca-e086-416e-cf3c-7332cf70372e"
      },
      "outputs": [
        {
          "name": "stdout",
          "output_type": "stream",
          "text": [
            "7\n"
          ]
        }
      ],
      "source": [
        "#count(): Checks the total number of occurences of a particular value in a Tuple.\n",
        "a = (1,2,3,4,5,6,7,7,7,7,7,7,7)\n",
        "print(a.count(7))"
      ]
    },
    {
      "cell_type": "code",
      "execution_count": null,
      "metadata": {
        "id": "VnfH0PN4IRV_",
        "outputId": "398ef442-ab68-4ed7-adc9-3bc5f7cc1103"
      },
      "outputs": [
        {
          "name": "stdout",
          "output_type": "stream",
          "text": [
            "6\n"
          ]
        }
      ],
      "source": [
        "#index(): checks the index of the first occurence of a particular value in a tuple\n",
        "print(a.index(7)) "
      ]
    },
    {
      "cell_type": "code",
      "execution_count": null,
      "metadata": {
        "id": "t6hmbtqmIRWA",
        "outputId": "fb13506d-816a-43d6-9a87-0d7dd8cd45bd"
      },
      "outputs": [
        {
          "name": "stdout",
          "output_type": "stream",
          "text": [
            "13\n"
          ]
        }
      ],
      "source": [
        "#len(): It gives the length of the tuple\n",
        "print(len(a))"
      ]
    },
    {
      "cell_type": "code",
      "execution_count": null,
      "metadata": {
        "id": "kQuPpFjrIRWA",
        "outputId": "9fd772a3-c44e-47ec-c897-cbdc0146c367"
      },
      "outputs": [
        {
          "name": "stdout",
          "output_type": "stream",
          "text": [
            "1\n"
          ]
        }
      ],
      "source": [
        "#min(): It returns the smallest value in a tuple\n",
        "print(min(a))"
      ]
    },
    {
      "cell_type": "code",
      "execution_count": null,
      "metadata": {
        "id": "-JvDFojNIRWA",
        "outputId": "6d02a7d0-9b09-4069-af23-5dce66cb2dd6"
      },
      "outputs": [
        {
          "name": "stdout",
          "output_type": "stream",
          "text": [
            "7\n"
          ]
        }
      ],
      "source": [
        "#max(): It returns the largest value in a tuple\n",
        "print(max(a))"
      ]
    },
    {
      "cell_type": "code",
      "execution_count": null,
      "metadata": {
        "id": "cqjXrmopIRWA",
        "outputId": "64b6dcb0-28fb-4ee6-9e12-c700ed9da7be"
      },
      "outputs": [
        {
          "name": "stdout",
          "output_type": "stream",
          "text": [
            "[1, 2, 3, 4, 5, 6, 7, 7, 7, 7, 7, 7, 7]\n"
          ]
        }
      ],
      "source": [
        "#sorted(): Sorts the values in a tuple\n",
        "print(sorted(a))"
      ]
    },
    {
      "cell_type": "code",
      "execution_count": null,
      "metadata": {
        "id": "-L-ud9l2IRWB",
        "outputId": "9bc9bc65-1389-4d1d-87e1-746809bfe25f"
      },
      "outputs": [
        {
          "name": "stdout",
          "output_type": "stream",
          "text": [
            "[7, 7, 7, 7, 7, 7, 7, 6, 5, 4, 3, 2, 1]\n"
          ]
        }
      ],
      "source": [
        "print(sorted(a, reverse=True))"
      ]
    },
    {
      "cell_type": "code",
      "execution_count": null,
      "metadata": {
        "id": "L7W_4dXzIRWB",
        "outputId": "6501f8e3-9873-4aed-8622-2391b2036154"
      },
      "outputs": [
        {
          "ename": "TypeError",
          "evalue": "'<' not supported between instances of 'int' and 'str'",
          "output_type": "error",
          "traceback": [
            "\u001b[1;31m---------------------------------------------------------------------------\u001b[0m",
            "\u001b[1;31mTypeError\u001b[0m                                 Traceback (most recent call last)",
            "\u001b[1;32m<ipython-input-10-2ddf80c3a986>\u001b[0m in \u001b[0;36m<module>\u001b[1;34m\u001b[0m\n\u001b[0;32m      1\u001b[0m \u001b[0mb\u001b[0m \u001b[1;33m=\u001b[0m \u001b[1;33m(\u001b[0m\u001b[1;34m'a'\u001b[0m\u001b[1;33m,\u001b[0m\u001b[1;34m'b'\u001b[0m\u001b[1;33m,\u001b[0m\u001b[1;34m'c'\u001b[0m\u001b[1;33m,\u001b[0m\u001b[1;36m5\u001b[0m\u001b[1;33m)\u001b[0m\u001b[1;33m\u001b[0m\u001b[1;33m\u001b[0m\u001b[0m\n\u001b[1;32m----> 2\u001b[1;33m \u001b[0mprint\u001b[0m\u001b[1;33m(\u001b[0m\u001b[0msorted\u001b[0m\u001b[1;33m(\u001b[0m\u001b[0mb\u001b[0m\u001b[1;33m)\u001b[0m\u001b[1;33m)\u001b[0m\u001b[1;33m\u001b[0m\u001b[1;33m\u001b[0m\u001b[0m\n\u001b[0m",
            "\u001b[1;31mTypeError\u001b[0m: '<' not supported between instances of 'int' and 'str'"
          ]
        }
      ],
      "source": [
        "b = ('a','b','c',5) \n",
        "print(sorted(b))"
      ]
    },
    {
      "cell_type": "code",
      "execution_count": null,
      "metadata": {
        "id": "lEl9Hy0DIRWB",
        "outputId": "9164e089-c049-4b9e-8ffc-1f27c051cb94"
      },
      "outputs": [
        {
          "data": {
            "text/plain": [
              "(10, 20, 30, 10, 20, 30, 10, 20, 30)"
            ]
          },
          "execution_count": 14,
          "metadata": {},
          "output_type": "execute_result"
        }
      ],
      "source": [
        "#Repition using * operation on tuples\n",
        "a = (10,20,30)\n",
        "b = 3*a\n",
        "b"
      ]
    },
    {
      "cell_type": "code",
      "execution_count": null,
      "metadata": {
        "id": "GF4CJpk9IRWB",
        "outputId": "61c71ea4-d435-42fd-cdfe-43066c12c804"
      },
      "outputs": [
        {
          "data": {
            "text/plain": [
              "(3, 6, 9, 4, 7, 9)"
            ]
          },
          "execution_count": 22,
          "metadata": {},
          "output_type": "execute_result"
        }
      ],
      "source": [
        "#Concatination using + operation on tuples\n",
        "a = (3,6,9)\n",
        "b = (4,7,9)\n",
        "c = a+b\n",
        "c"
      ]
    },
    {
      "cell_type": "code",
      "execution_count": null,
      "metadata": {
        "id": "MFcxlaEiIRWB",
        "outputId": "ccb83c75-7084-45ae-aa91-b4097f424cad"
      },
      "outputs": [
        {
          "data": {
            "text/plain": [
              "(4, 7, 9, 'm', 'y', 'i', 'l')"
            ]
          },
          "execution_count": 16,
          "metadata": {},
          "output_type": "execute_result"
        }
      ],
      "source": [
        "d = ('m','y','i','l')\n",
        "b+d"
      ]
    },
    {
      "cell_type": "code",
      "execution_count": null,
      "metadata": {
        "id": "nPrrJoxUIRWB",
        "outputId": "95643917-2142-4196-ac63-6e1e39b0e7ce"
      },
      "outputs": [
        {
          "data": {
            "text/plain": [
              "True"
            ]
          },
          "execution_count": 18,
          "metadata": {},
          "output_type": "execute_result"
        }
      ],
      "source": [
        "'m' in d"
      ]
    },
    {
      "cell_type": "code",
      "execution_count": null,
      "metadata": {
        "id": "rbpNrftSIRWC",
        "outputId": "79a803b5-00c6-401c-897c-90259129b628"
      },
      "outputs": [
        {
          "ename": "NameError",
          "evalue": "name 'c' is not defined",
          "output_type": "error",
          "traceback": [
            "\u001b[1;31m---------------------------------------------------------------------------\u001b[0m",
            "\u001b[1;31mNameError\u001b[0m                                 Traceback (most recent call last)",
            "\u001b[1;32m<ipython-input-23-a7758c4ba4b3>\u001b[0m in \u001b[0;36m<module>\u001b[1;34m\u001b[0m\n\u001b[0;32m      1\u001b[0m \u001b[1;31m#del(): It is a function used to remove the tuples from the memory\u001b[0m\u001b[1;33m\u001b[0m\u001b[1;33m\u001b[0m\u001b[1;33m\u001b[0m\u001b[0m\n\u001b[0;32m      2\u001b[0m \u001b[1;32mdel\u001b[0m\u001b[1;33m(\u001b[0m\u001b[0mc\u001b[0m\u001b[1;33m)\u001b[0m\u001b[1;33m\u001b[0m\u001b[1;33m\u001b[0m\u001b[0m\n\u001b[1;32m----> 3\u001b[1;33m \u001b[0mprint\u001b[0m\u001b[1;33m(\u001b[0m\u001b[0mc\u001b[0m\u001b[1;33m)\u001b[0m\u001b[1;33m\u001b[0m\u001b[1;33m\u001b[0m\u001b[0m\n\u001b[0m",
            "\u001b[1;31mNameError\u001b[0m: name 'c' is not defined"
          ]
        }
      ],
      "source": [
        "#del(): It is a function used to remove the tuples from the memory\n",
        "del(c)\n",
        "print(c)"
      ]
    },
    {
      "cell_type": "markdown",
      "metadata": {
        "id": "U67gC-S7IRWC"
      },
      "source": [
        "<h3> Tuples are faster than list"
      ]
    },
    {
      "cell_type": "code",
      "execution_count": null,
      "metadata": {
        "id": "YHUdWhppIRWC",
        "outputId": "e6e5e0b9-3422-4f25-db13-f956331579df"
      },
      "outputs": [
        {
          "data": {
            "text/plain": [
              "0.10089240000002064"
            ]
          },
          "execution_count": 27,
          "metadata": {},
          "output_type": "execute_result"
        }
      ],
      "source": [
        "import timeit\n",
        "timeit.timeit('x = [1,2,3,4,5,6,7]')"
      ]
    },
    {
      "cell_type": "code",
      "execution_count": null,
      "metadata": {
        "id": "Z_5VkAj-IRWC",
        "outputId": "a1a125a5-3600-4b40-9fa5-80260565c4b6"
      },
      "outputs": [
        {
          "data": {
            "text/plain": [
              "0.02545290000011846"
            ]
          },
          "execution_count": 28,
          "metadata": {},
          "output_type": "execute_result"
        }
      ],
      "source": [
        "timeit.timeit('x = (1,2,3,4,5,6,7)')"
      ]
    },
    {
      "cell_type": "code",
      "execution_count": null,
      "metadata": {
        "id": "6CoKXnOBIRWC",
        "outputId": "e3aff2cb-ebc3-4200-a3e8-4cc8e29c0a3d"
      },
      "outputs": [
        {
          "name": "stdout",
          "output_type": "stream",
          "text": [
            "89.3 ns ▒ 5.63 ns per loop (mean ▒ std. dev. of 7 runs, 10000000 loops each)\n"
          ]
        }
      ],
      "source": [
        "%timeit x = [1,2,3,4,5,6,7]"
      ]
    },
    {
      "cell_type": "code",
      "execution_count": null,
      "metadata": {
        "id": "vQp3jqwFIRWC",
        "outputId": "293b0a60-5ccc-4da5-abe4-5341271d0ae2"
      },
      "outputs": [
        {
          "name": "stdout",
          "output_type": "stream",
          "text": [
            "24.9 ns ▒ 2.21 ns per loop (mean ▒ std. dev. of 7 runs, 10000000 loops each)\n"
          ]
        }
      ],
      "source": [
        "%timeit x = (1,2,3,4,5,6,7)"
      ]
    },
    {
      "cell_type": "code",
      "execution_count": null,
      "metadata": {
        "id": "95NDXspQIRWC",
        "outputId": "871fc63a-5a96-4bca-be66-1cccb5e6b465"
      },
      "outputs": [
        {
          "name": "stdout",
          "output_type": "stream",
          "text": [
            "x as list = 96\n",
            "x as tuple = 80\n"
          ]
        }
      ],
      "source": [
        "x = [1,2,3,4,5,6,7]\n",
        "print('x as list =',x.__sizeof__())\n",
        "x = (1,2,3,4,5,6,7)\n",
        "print('x as tuple =',x.__sizeof__())"
      ]
    },
    {
      "cell_type": "markdown",
      "metadata": {
        "id": "0mBEu9bYIRWD"
      },
      "source": [
        "<h2> Sets"
      ]
    },
    {
      "cell_type": "markdown",
      "metadata": {
        "id": "e24MT_UKIRWD"
      },
      "source": [
        "Set is an unordered collection of unique elements enclosed by '{}'. <br>\n",
        "It can contain element of any type."
      ]
    },
    {
      "cell_type": "code",
      "execution_count": null,
      "metadata": {
        "id": "1U57SC0TIRWD",
        "outputId": "aa823ee1-a43d-4148-c49b-584ca6cee67c"
      },
      "outputs": [
        {
          "data": {
            "text/plain": [
              "{1, 2, 3, 4}"
            ]
          },
          "execution_count": 35,
          "metadata": {},
          "output_type": "execute_result"
        }
      ],
      "source": [
        "a = {1,2,3,4}\n",
        "a"
      ]
    },
    {
      "cell_type": "code",
      "execution_count": null,
      "metadata": {
        "id": "vvIh_vtfIRWD",
        "outputId": "1f22161f-a715-4270-99ed-ee7b8aedcd25"
      },
      "outputs": [
        {
          "ename": "TypeError",
          "evalue": "'set' object is not subscriptable",
          "output_type": "error",
          "traceback": [
            "\u001b[1;31m---------------------------------------------------------------------------\u001b[0m",
            "\u001b[1;31mTypeError\u001b[0m                                 Traceback (most recent call last)",
            "\u001b[1;32m<ipython-input-37-faafe052a2fc>\u001b[0m in \u001b[0;36m<module>\u001b[1;34m\u001b[0m\n\u001b[0;32m      1\u001b[0m \u001b[1;31m#Set cannot be indexed\u001b[0m\u001b[1;33m\u001b[0m\u001b[1;33m\u001b[0m\u001b[1;33m\u001b[0m\u001b[0m\n\u001b[1;32m----> 2\u001b[1;33m \u001b[0ma\u001b[0m\u001b[1;33m[\u001b[0m\u001b[1;36m0\u001b[0m\u001b[1;33m]\u001b[0m\u001b[1;33m\u001b[0m\u001b[1;33m\u001b[0m\u001b[0m\n\u001b[0m",
            "\u001b[1;31mTypeError\u001b[0m: 'set' object is not subscriptable"
          ]
        }
      ],
      "source": [
        "#Set cannot be indexed\n",
        "a[0]"
      ]
    },
    {
      "cell_type": "markdown",
      "metadata": {
        "id": "d7t2ROiAIRWD"
      },
      "source": [
        "<h2>Sets - Continuation & Set Functions"
      ]
    },
    {
      "cell_type": "code",
      "execution_count": null,
      "metadata": {
        "id": "DUBycwtyIRWD",
        "outputId": "a193ea72-627c-4733-abed-6f1c547c845c"
      },
      "outputs": [
        {
          "name": "stdout",
          "output_type": "stream",
          "text": [
            "{}\n",
            "<class 'dict'>\n"
          ]
        }
      ],
      "source": [
        "#empty set\n",
        "a = {}\n",
        "print(a)\n",
        "print(type(a))"
      ]
    },
    {
      "cell_type": "markdown",
      "metadata": {
        "id": "nEzHiHOLIRWD"
      },
      "source": [
        "Set elements are immutable <br>\n",
        "Set itself is mutable"
      ]
    },
    {
      "cell_type": "code",
      "execution_count": null,
      "metadata": {
        "id": "UhYLUiJvIRWE",
        "outputId": "de0b3618-1c22-4a0d-cc09-1a2ac0cb149a"
      },
      "outputs": [
        {
          "data": {
            "text/plain": [
              "{1, 2, 3, 4, 5}"
            ]
          },
          "execution_count": 22,
          "metadata": {},
          "output_type": "execute_result"
        }
      ],
      "source": [
        "a = {1,2,3,4,5}\n",
        "a"
      ]
    },
    {
      "cell_type": "code",
      "execution_count": null,
      "metadata": {
        "id": "0kS5_6STIRWE",
        "outputId": "a2dde10b-3a46-4026-8065-83c60735acd3"
      },
      "outputs": [
        {
          "data": {
            "text/plain": [
              "{1, 2, 3, 4}"
            ]
          },
          "execution_count": 5,
          "metadata": {},
          "output_type": "execute_result"
        }
      ],
      "source": [
        "a.add(4)\n",
        "a"
      ]
    },
    {
      "cell_type": "code",
      "execution_count": null,
      "metadata": {
        "id": "4YqXsPEUIRWE",
        "outputId": "240026c3-4227-44a8-f63f-688372a1f693"
      },
      "outputs": [
        {
          "data": {
            "text/plain": [
              "{1, 2, 3, 4, 5, 6}"
            ]
          },
          "execution_count": 7,
          "metadata": {},
          "output_type": "execute_result"
        }
      ],
      "source": [
        "#update(): This method updates the current set, by adding items from from another set\n",
        "b = {4,5,6}\n",
        "a.update(b)\n",
        "a"
      ]
    },
    {
      "cell_type": "code",
      "execution_count": null,
      "metadata": {
        "id": "1BK-JzOeIRWE",
        "outputId": "97f57955-0e08-47cd-f73d-64ca1cb58de0"
      },
      "outputs": [
        {
          "name": "stdout",
          "output_type": "stream",
          "text": [
            "{1, 2, 3, 4, 5, 6}\n",
            "2049786144800\n",
            "2049786145696\n"
          ]
        }
      ],
      "source": [
        "#copy(): Used to clone the sets (Cloning)\n",
        "c = a.copy()\n",
        "print(c)\n",
        "print(id(a))\n",
        "print(id(c))"
      ]
    },
    {
      "cell_type": "code",
      "execution_count": null,
      "metadata": {
        "id": "fEoCT_DQIRWE",
        "outputId": "33a3ac8b-ef90-43d1-fed6-d1cee7d12925"
      },
      "outputs": [
        {
          "name": "stdout",
          "output_type": "stream",
          "text": [
            "{1, 2, 3, 4, 5, 6}\n",
            "{1, 2, 3, 4, 5, 6}\n",
            "2049786144800\n",
            "2049786144800\n"
          ]
        }
      ],
      "source": [
        "#Aliasing\n",
        "c = a\n",
        "print(c)\n",
        "print(a)\n",
        "print(id(a))\n",
        "print(id(c))"
      ]
    },
    {
      "cell_type": "code",
      "execution_count": null,
      "metadata": {
        "id": "Zx0jqHnHIRWE",
        "outputId": "6d5a0bca-9a4c-43e2-8ce7-e823dbcdbf1e"
      },
      "outputs": [
        {
          "name": "stdout",
          "output_type": "stream",
          "text": [
            "set()\n"
          ]
        }
      ],
      "source": [
        "#clear(): It removes all the elements in a set\n",
        "c.clear()\n",
        "print(c)"
      ]
    },
    {
      "cell_type": "code",
      "execution_count": null,
      "metadata": {
        "id": "unPGVCyFIRWE",
        "outputId": "68cb24c0-557b-4222-dfcb-8488089ce9f0"
      },
      "outputs": [
        {
          "ename": "NameError",
          "evalue": "name 'c' is not defined",
          "output_type": "error",
          "traceback": [
            "\u001b[1;31m---------------------------------------------------------------------------\u001b[0m",
            "\u001b[1;31mNameError\u001b[0m                                 Traceback (most recent call last)",
            "\u001b[1;32m<ipython-input-14-5a7ccf79c027>\u001b[0m in \u001b[0;36m<module>\u001b[1;34m\u001b[0m\n\u001b[0;32m      1\u001b[0m \u001b[1;31m#del(): Deletes the set variable from the memory\u001b[0m\u001b[1;33m\u001b[0m\u001b[1;33m\u001b[0m\u001b[1;33m\u001b[0m\u001b[0m\n\u001b[1;32m----> 2\u001b[1;33m \u001b[1;32mdel\u001b[0m\u001b[1;33m(\u001b[0m\u001b[0mc\u001b[0m\u001b[1;33m)\u001b[0m\u001b[1;33m\u001b[0m\u001b[1;33m\u001b[0m\u001b[0m\n\u001b[0m\u001b[0;32m      3\u001b[0m \u001b[0mprint\u001b[0m\u001b[1;33m(\u001b[0m\u001b[0mc\u001b[0m\u001b[1;33m)\u001b[0m \u001b[1;31m#c is removed from memory hence error\u001b[0m\u001b[1;33m\u001b[0m\u001b[1;33m\u001b[0m\u001b[0m\n",
            "\u001b[1;31mNameError\u001b[0m: name 'c' is not defined"
          ]
        }
      ],
      "source": [
        "#del(): Deletes the set variable from the memory\n",
        "del(c)\n",
        "print(c) #c is removed from memory hence error"
      ]
    },
    {
      "cell_type": "markdown",
      "metadata": {
        "id": "bzoeCsK2IRWF"
      },
      "source": [
        "<h2> Sets - Operations"
      ]
    },
    {
      "cell_type": "markdown",
      "metadata": {
        "id": "_pnKPvt4IRWF"
      },
      "source": [
        "For operations we can either use operators (|, &, -, ^) or also methods (union(), intersection(), difference(), symmetric_difference()) <br>\n",
        "But the reason why we have both ways of doing it is because, \n",
        "1. using methods we can peform Set operations on different data structures like lists and sets\n",
        "2. using operators we can perform Set operations only on sets "
      ]
    },
    {
      "cell_type": "code",
      "execution_count": null,
      "metadata": {
        "id": "Qo_rFkWVIRWF",
        "outputId": "cc8088c8-869b-4cf4-e7e7-7f5e3f6cff44"
      },
      "outputs": [
        {
          "name": "stdout",
          "output_type": "stream",
          "text": [
            "a =  {1, 2, 3, 4, 5}\n",
            "b =  {4, 5, 6}\n",
            "c =  {1, 2, 3, 4, 5, 6}\n"
          ]
        }
      ],
      "source": [
        "#Union (|)\n",
        "c = a|b\n",
        "print(\"a = \",a)\n",
        "print(\"b = \",b)\n",
        "print(\"c = \",c)"
      ]
    },
    {
      "cell_type": "code",
      "execution_count": null,
      "metadata": {
        "id": "lwp4ar6qIRWF",
        "outputId": "0d4d0588-3e8f-4f5f-9edb-3cbd74013fff"
      },
      "outputs": [
        {
          "name": "stdout",
          "output_type": "stream",
          "text": [
            "a =  {1, 2, 3, 4, 5}\n",
            "b =  {4, 5, 6}\n",
            "c =  {1, 2, 3, 4, 5, 6}\n"
          ]
        }
      ],
      "source": [
        "#Union using union()\n",
        "c = a.union(b)\n",
        "print(\"a = \",a)\n",
        "print(\"b = \",b)\n",
        "print(\"c = \",c)"
      ]
    },
    {
      "cell_type": "code",
      "execution_count": null,
      "metadata": {
        "id": "UTwsanHRIRWF",
        "outputId": "76c3d821-3028-4613-f4f0-a3d2c33b7048"
      },
      "outputs": [
        {
          "name": "stdout",
          "output_type": "stream",
          "text": [
            "a =  {1, 2, 3, 4, 5}\n",
            "b =  {4, 5, 6}\n",
            "c =  {4, 5}\n"
          ]
        }
      ],
      "source": [
        "#intersection (&)\n",
        "c = a&b\n",
        "print(\"a = \",a)\n",
        "print(\"b = \",b)\n",
        "print(\"c = \",c)"
      ]
    },
    {
      "cell_type": "code",
      "execution_count": null,
      "metadata": {
        "id": "TTGVL2blIRWF",
        "outputId": "cacae3d6-7f8b-41ce-ce56-62391b089c62"
      },
      "outputs": [
        {
          "name": "stdout",
          "output_type": "stream",
          "text": [
            "a =  {1, 2, 3, 4, 5}\n",
            "b =  {4, 5, 6}\n",
            "c =  {4, 5}\n"
          ]
        }
      ],
      "source": [
        "#intersection using intersection()\n",
        "c = a.intersection(b)\n",
        "print(\"a = \",a)\n",
        "print(\"b = \",b)\n",
        "print(\"c = \",c)"
      ]
    },
    {
      "cell_type": "code",
      "execution_count": null,
      "metadata": {
        "id": "N_BXvY2TIRWF",
        "outputId": "b7ec30e1-c864-4f23-ff41-073e55085fc2"
      },
      "outputs": [
        {
          "name": "stdout",
          "output_type": "stream",
          "text": [
            "a =  {1, 2, 3, 4, 5}\n",
            "b =  {4, 5, 6}\n",
            "c =  {1, 2, 3}\n"
          ]
        }
      ],
      "source": [
        "#Set Difference (-)\n",
        "c = a-b\n",
        "print(\"a = \",a)\n",
        "print(\"b = \",b)\n",
        "print(\"c = \",c)"
      ]
    },
    {
      "cell_type": "code",
      "execution_count": null,
      "metadata": {
        "id": "7XRvKr7YIRWG",
        "outputId": "33bbfb32-78e7-4d35-f11b-015f945955a5"
      },
      "outputs": [
        {
          "name": "stdout",
          "output_type": "stream",
          "text": [
            "a =  {1, 2, 3, 4, 5}\n",
            "b =  {4, 5, 6}\n",
            "c =  {6}\n"
          ]
        }
      ],
      "source": [
        "c = b-a\n",
        "print(\"a = \",a)\n",
        "print(\"b = \",b)\n",
        "print(\"c = \",c)"
      ]
    },
    {
      "cell_type": "code",
      "execution_count": null,
      "metadata": {
        "id": "G8H4kirEIRWG",
        "outputId": "b270ded7-fe74-4632-c916-a55e659b51be"
      },
      "outputs": [
        {
          "name": "stdout",
          "output_type": "stream",
          "text": [
            "a =  {1, 2, 3, 4, 5}\n",
            "b =  {4, 5, 6}\n",
            "c =  {6}\n"
          ]
        }
      ],
      "source": [
        "#Set Difference using difference()\n",
        "c = b.difference(a)\n",
        "print(\"a = \",a)\n",
        "print(\"b = \",b)\n",
        "print(\"c = \",c)"
      ]
    },
    {
      "cell_type": "code",
      "execution_count": null,
      "metadata": {
        "id": "-FIfMrThIRWG",
        "outputId": "5f8e8a84-59c3-4d9a-c57c-b0485701643e"
      },
      "outputs": [
        {
          "name": "stdout",
          "output_type": "stream",
          "text": [
            "a =  {1, 2, 3, 4, 5}\n",
            "b =  {4, 5, 6}\n",
            "c =  {1, 2, 3, 6}\n"
          ]
        }
      ],
      "source": [
        "#Symmetric Set Difference (^)\n",
        "c = a^b\n",
        "print(\"a = \",a)\n",
        "print(\"b = \",b)\n",
        "print(\"c = \",c)"
      ]
    },
    {
      "cell_type": "code",
      "execution_count": null,
      "metadata": {
        "id": "HxZn65MbIRWG",
        "outputId": "61e1a825-325d-4427-8ec6-041b44f3fe44"
      },
      "outputs": [
        {
          "name": "stdout",
          "output_type": "stream",
          "text": [
            "a =  {1, 2, 3, 4, 5}\n",
            "b =  {4, 5, 6}\n",
            "c =  {1, 2, 3, 6}\n"
          ]
        }
      ],
      "source": [
        "#Symmetric Set Difference using symmetrical_difference()\n",
        "c = a.symmetric_difference(b)\n",
        "print(\"a = \",a)\n",
        "print(\"b = \",b)\n",
        "print(\"c = \",c)"
      ]
    },
    {
      "cell_type": "code",
      "execution_count": null,
      "metadata": {
        "id": "XXE0uestIRWG",
        "outputId": "da9e2fff-cf61-4f0c-a898-8787006b89cc"
      },
      "outputs": [
        {
          "data": {
            "text/plain": [
              "{2, 3, 6}"
            ]
          },
          "execution_count": 34,
          "metadata": {},
          "output_type": "execute_result"
        }
      ],
      "source": [
        "#remove() - removes a particular element from the set\n",
        "#gives error if the element is not there in the set\n",
        "c.remove(1)\n",
        "c"
      ]
    },
    {
      "cell_type": "code",
      "execution_count": null,
      "metadata": {
        "id": "X4T0Uqe8IRWG",
        "outputId": "86f960e7-bb2b-483f-fc26-9600590ad364"
      },
      "outputs": [
        {
          "ename": "KeyError",
          "evalue": "1",
          "output_type": "error",
          "traceback": [
            "\u001b[1;31m---------------------------------------------------------------------------\u001b[0m",
            "\u001b[1;31mKeyError\u001b[0m                                  Traceback (most recent call last)",
            "\u001b[1;32m<ipython-input-36-838cb2528206>\u001b[0m in \u001b[0;36m<module>\u001b[1;34m\u001b[0m\n\u001b[1;32m----> 1\u001b[1;33m \u001b[0mc\u001b[0m\u001b[1;33m.\u001b[0m\u001b[0mremove\u001b[0m\u001b[1;33m(\u001b[0m\u001b[1;36m1\u001b[0m\u001b[1;33m)\u001b[0m \u001b[1;31m#Gives error\u001b[0m\u001b[1;33m\u001b[0m\u001b[1;33m\u001b[0m\u001b[0m\n\u001b[0m",
            "\u001b[1;31mKeyError\u001b[0m: 1"
          ]
        }
      ],
      "source": [
        "c.remove(1) #Gives error"
      ]
    },
    {
      "cell_type": "code",
      "execution_count": null,
      "metadata": {
        "id": "LnSJ53lQIRWG",
        "outputId": "20e69cbe-173f-4d20-a946-387a188171ad"
      },
      "outputs": [
        {
          "data": {
            "text/plain": [
              "{2, 3, 6}"
            ]
          },
          "execution_count": 35,
          "metadata": {},
          "output_type": "execute_result"
        }
      ],
      "source": [
        "#discard() - removes a particular element from the set\n",
        "#doesn't give error when element is not there in the set\n",
        "c.discard(1)\n",
        "c"
      ]
    },
    {
      "cell_type": "code",
      "execution_count": null,
      "metadata": {
        "id": "JowRSlZiIRWH",
        "outputId": "b39908a1-4aa2-43e8-9cd1-cc6100c7bf71"
      },
      "outputs": [
        {
          "name": "stdout",
          "output_type": "stream",
          "text": [
            "False\n",
            "True\n"
          ]
        }
      ],
      "source": [
        "#issubset() - This method returns True if all the items in the set exists in the specified set, otherwise it returns false\n",
        "a = {1,2,3,4,5,6}\n",
        "b = {7,8,9}\n",
        "c = {1,2,3}\n",
        "print(b.issubset(a)) \n",
        "print(c.issubset(a)) "
      ]
    },
    {
      "cell_type": "code",
      "execution_count": null,
      "metadata": {
        "id": "INDaJj6LIRWH",
        "outputId": "56b4b2da-0ebb-4e4f-a128-25ddd6734da9"
      },
      "outputs": [
        {
          "name": "stdout",
          "output_type": "stream",
          "text": [
            "False\n",
            "True\n"
          ]
        }
      ],
      "source": [
        "#issuperset() - This method returns True if a set contains all the elements that a particular set has\n",
        "a = {1,2,3,4,5,6}\n",
        "b = {7,8,9}\n",
        "c = {1,2,3}\n",
        "print(a.issuperset(b)) \n",
        "print(a.issuperset(c))"
      ]
    },
    {
      "cell_type": "code",
      "execution_count": null,
      "metadata": {
        "id": "EK7o6GZOIRWH",
        "outputId": "4a20c26c-eaa1-47d6-f413-0557d2ea42d8"
      },
      "outputs": [
        {
          "name": "stdout",
          "output_type": "stream",
          "text": [
            "True\n",
            "False\n"
          ]
        }
      ],
      "source": [
        "#isdisjoint() - This method returns True if 2 sets doesn't contain any elements in common\n",
        "a = {1,2,3,4,5,6}\n",
        "b = {7,8,9}\n",
        "c = {1,2,3}\n",
        "print(b.isdisjoint(a)) \n",
        "print(c.isdisjoint(a))"
      ]
    },
    {
      "cell_type": "code",
      "execution_count": null,
      "metadata": {
        "id": "Iv4S2Eq9IRWH"
      },
      "outputs": [],
      "source": [
        ""
      ]
    },
    {
      "cell_type": "markdown",
      "metadata": {
        "id": "Kw065yTVIRWH"
      },
      "source": [
        "<h2> Dictionaries"
      ]
    },
    {
      "cell_type": "markdown",
      "metadata": {
        "id": "xbwOhN5XIRWH"
      },
      "source": [
        "1. A Dictionary is a collection of values which are unordered, changeable and indexed.\n",
        "2. In Python, a Dictionary can be created by placing sequence of elements within '{}', separated by ','\n",
        "3. Dictionary holds a pair of values, one being the key and the other corresponding pair element being its 'Key : value'.\n",
        "4. Can be of any datatype\n",
        "5. We use immutable datatypes like strings, int .....etc."
      ]
    },
    {
      "cell_type": "code",
      "execution_count": null,
      "metadata": {
        "id": "MDRMrfc5IRWH",
        "outputId": "783982c0-1421-4b78-cebd-fea092053ff5"
      },
      "outputs": [
        {
          "name": "stdout",
          "output_type": "stream",
          "text": [
            "{97: 'Myil', 98: 'Mithun', 99: 'Sunaina', 100: 'Rishabh', 101: 'Naveen'}\n",
            "Myil\n",
            "Myil\n",
            "There is no key with the values specified\n"
          ]
        }
      ],
      "source": [
        "students = {\n",
        "    97 : \"Myil\",\n",
        "    98 : \"Mithun\",\n",
        "    99 : \"Sunaina\",\n",
        "    100 : \"Rishabh\",\n",
        "    101 : \"Naveen\"\n",
        "}\n",
        "\n",
        "print(students)\n",
        "x = students[97]\n",
        "print(x)\n",
        "\n",
        "x = students.get(97)\n",
        "print(x)\n",
        "\n",
        "x = students.get(102,'There is no key with the values specified')\n",
        "print(x)\n",
        "\n",
        "# If the dictionary has duplicate keys, \n",
        "# the value associated with the key at the latest initialisation is accepted \n",
        "# and the other values associated with the original key is discarded"
      ]
    },
    {
      "cell_type": "code",
      "execution_count": null,
      "metadata": {
        "id": "p2AqWwMaIRWI",
        "outputId": "51ab59cd-ecd8-488c-f31d-d24a9afc63d5"
      },
      "outputs": [
        {
          "name": "stdout",
          "output_type": "stream",
          "text": [
            "{}\n"
          ]
        }
      ],
      "source": [
        "Dict = {}\n",
        "print(Dict)"
      ]
    },
    {
      "cell_type": "code",
      "execution_count": null,
      "metadata": {
        "id": "8i7iCJyPIRWI",
        "outputId": "7547e44a-5a0d-4a3b-8fcd-d81882c994aa"
      },
      "outputs": [
        {
          "name": "stdout",
          "output_type": "stream",
          "text": [
            "Dictionary after adding 3 elements {0: 'Data', 1: 'Science', 3: 'Class'}\n"
          ]
        }
      ],
      "source": [
        "#Adding elements one at a time\n",
        "Dict[0] = 'Data'\n",
        "Dict[1] = 'Science'\n",
        "Dict[3] = 'Class'\n",
        "print(\"Dictionary after adding 3 elements\", Dict)"
      ]
    },
    {
      "cell_type": "code",
      "execution_count": null,
      "metadata": {
        "id": "knLBfUfyIRWI",
        "outputId": "b39928f3-c84b-4dee-cd38-f11ae0c4f454"
      },
      "outputs": [
        {
          "name": "stdout",
          "output_type": "stream",
          "text": [
            "['ML', 'Python', 'R programming']\n",
            "ML\n"
          ]
        }
      ],
      "source": [
        "#Adding a list of values to a key\n",
        "Dict['Subject'] = ['ML', 'Python', 'R programming']\n",
        "print(Dict['Subject'])\n",
        "print(Dict['Subject'][0])"
      ]
    },
    {
      "cell_type": "code",
      "execution_count": null,
      "metadata": {
        "id": "Fseyq4o6IRWI",
        "outputId": "fcf42856-f552-448f-a1f0-235cb2092da8"
      },
      "outputs": [
        {
          "name": "stdout",
          "output_type": "stream",
          "text": [
            "{'x': 'A', 'y': 'B', 'z': 'C'}\n",
            "A\n"
          ]
        }
      ],
      "source": [
        "students = dict(x = 'A', y = 'B', z = 'C')\n",
        "print(students)\n",
        "print(students['x'])"
      ]
    },
    {
      "cell_type": "markdown",
      "metadata": {
        "id": "dV-TZl9LIRWI"
      },
      "source": [
        "<h3>Dictionary - Methods"
      ]
    },
    {
      "cell_type": "code",
      "execution_count": null,
      "metadata": {
        "id": "bhBRrbAsIRWI",
        "outputId": "d7980e6c-657c-46bf-f4bc-7c0eb3424e06"
      },
      "outputs": [
        {
          "data": {
            "text/plain": [
              "dict_keys(['x', 'y', 'z'])"
            ]
          },
          "execution_count": 21,
          "metadata": {},
          "output_type": "execute_result"
        }
      ],
      "source": [
        "#keys() : this method returns the keys of the dictionary\n",
        "students.keys()"
      ]
    },
    {
      "cell_type": "code",
      "execution_count": null,
      "metadata": {
        "id": "cvMyef8aIRWJ",
        "outputId": "a60be83b-7d1e-474c-9100-30eb38302a8c"
      },
      "outputs": [
        {
          "data": {
            "text/plain": [
              "dict_values(['A', 'B', 'C'])"
            ]
          },
          "execution_count": 22,
          "metadata": {},
          "output_type": "execute_result"
        }
      ],
      "source": [
        "#values() : this method returns the values of the dictionary\n",
        "students.values()"
      ]
    },
    {
      "cell_type": "code",
      "execution_count": null,
      "metadata": {
        "id": "w_1zXNF3IRWJ",
        "outputId": "87308cbb-6933-4f95-b3bf-dc0b8fcb0172"
      },
      "outputs": [
        {
          "data": {
            "text/plain": [
              "dict_items([('x', 'A'), ('y', 'B'), ('z', 'C')])"
            ]
          },
          "execution_count": 23,
          "metadata": {},
          "output_type": "execute_result"
        }
      ],
      "source": [
        "#items() : this method returns the items in the dictionary with the key-value pair\n",
        "students.items()"
      ]
    },
    {
      "cell_type": "code",
      "execution_count": null,
      "metadata": {
        "id": "fYAecV4uIRWJ",
        "outputId": "7ed249f4-6a3d-4248-ef88-622e3b1f59e3"
      },
      "outputs": [
        {
          "data": {
            "text/plain": [
              "{'x': 'A', 'y': 'B', 'z': 'C', 'age': '18'}"
            ]
          },
          "execution_count": 24,
          "metadata": {},
          "output_type": "execute_result"
        }
      ],
      "source": [
        "#update() : This method inserts the specified items to the dictionary. The specified items can be a dictionary or iterable objects with key value pairs\n",
        "students.update({'age':'18'})\n",
        "students"
      ]
    },
    {
      "cell_type": "code",
      "execution_count": null,
      "metadata": {
        "id": "vWM7csP0IRWJ",
        "outputId": "ca1583ca-c140-477d-c5b7-5d14c50d1ae4"
      },
      "outputs": [
        {
          "data": {
            "text/plain": [
              "{'x': 'A', 'y': 'B', 'z': 'C', 'age': '18'}"
            ]
          },
          "execution_count": 25,
          "metadata": {},
          "output_type": "execute_result"
        }
      ],
      "source": [
        "#copy() : Performs Cloning on the dictionary\n",
        "x = students.copy()\n",
        "x"
      ]
    },
    {
      "cell_type": "code",
      "execution_count": null,
      "metadata": {
        "id": "hiG8-NwzIRWJ",
        "outputId": "7295dc3f-2d23-49f8-b6b0-4911c2fe3d5d"
      },
      "outputs": [
        {
          "name": "stdout",
          "output_type": "stream",
          "text": [
            "['age', 'x', 'y', 'z']\n",
            "[('age', '18'), ('x', 'A'), ('y', 'B'), ('z', 'C')]\n",
            "['z', 'y', 'x', 'age']\n",
            "[('z', 'C'), ('y', 'B'), ('x', 'A'), ('age', '18')]\n"
          ]
        }
      ],
      "source": [
        "#sorted() : this returns a sorted sequence of the keys in the dictionary\n",
        "x = sorted(students)\n",
        "print(x)\n",
        "\n",
        "x = sorted(students.items())\n",
        "print(x)\n",
        "\n",
        "print(sorted(students, reverse = True))\n",
        "print(sorted(students.items(), reverse = True))"
      ]
    },
    {
      "cell_type": "code",
      "execution_count": null,
      "metadata": {
        "id": "TQBxsjjGIRWJ",
        "outputId": "ffd4b0f0-d96d-47c9-e37b-728437660aab"
      },
      "outputs": [
        {
          "name": "stdout",
          "output_type": "stream",
          "text": [
            "[('age', '18'), ('x', 'A'), ('y', 'B'), ('z', 'C')]\n",
            "B\n",
            "-1\n"
          ]
        }
      ],
      "source": [
        "#pop() : This method is used to remove and display an item from the dictionary\n",
        "print(x)\n",
        "x = students.pop('y')\n",
        "print(x)\n",
        "x = students.pop(5,\"Key not present\") #proceeds to other statements \n",
        "x = students.pop(5,-1) #Doesn't proceed to other statements \n",
        "print(x)\n"
      ]
    },
    {
      "cell_type": "code",
      "execution_count": null,
      "metadata": {
        "id": "HUExcrUTIRWK",
        "outputId": "0743e760-9b4f-4b95-b828-d0796f7f3173"
      },
      "outputs": [
        {
          "data": {
            "text/plain": [
              "{'z': 'C', 'age': '18'}"
            ]
          },
          "execution_count": 28,
          "metadata": {},
          "output_type": "execute_result"
        }
      ],
      "source": [
        "#del()\n",
        "del students['x']\n",
        "students"
      ]
    },
    {
      "cell_type": "code",
      "execution_count": null,
      "metadata": {
        "id": "dpuDlQYpIRWK",
        "outputId": "ca4ce364-ddc9-4958-d1c8-2f3172df1a04"
      },
      "outputs": [
        {
          "ename": "NameError",
          "evalue": "name 'students' is not defined",
          "output_type": "error",
          "traceback": [
            "\u001b[1;31m---------------------------------------------------------------------------\u001b[0m",
            "\u001b[1;31mNameError\u001b[0m                                 Traceback (most recent call last)",
            "\u001b[1;32m<ipython-input-29-a20ebc36c606>\u001b[0m in \u001b[0;36m<module>\u001b[1;34m\u001b[0m\n\u001b[0;32m      1\u001b[0m \u001b[1;32mdel\u001b[0m \u001b[0mstudents\u001b[0m\u001b[1;33m\u001b[0m\u001b[1;33m\u001b[0m\u001b[0m\n\u001b[1;32m----> 2\u001b[1;33m \u001b[0mstudents\u001b[0m \u001b[1;31m#error because no students dictionary in the memory\u001b[0m\u001b[1;33m\u001b[0m\u001b[1;33m\u001b[0m\u001b[0m\n\u001b[0m",
            "\u001b[1;31mNameError\u001b[0m: name 'students' is not defined"
          ]
        }
      ],
      "source": [
        "del students\n",
        "students #error because no students dictionary in the memory"
      ]
    },
    {
      "cell_type": "markdown",
      "metadata": {
        "id": "YlMH2IYkIRWK"
      },
      "source": [
        "<h2> Dictionary Comprehension"
      ]
    },
    {
      "cell_type": "code",
      "execution_count": null,
      "metadata": {
        "id": "iPjrdBKyIRWK",
        "outputId": "515869ca-c6b2-45c3-ce4f-0fe3c543d337"
      },
      "outputs": [
        {
          "data": {
            "text/plain": [
              "{1: 1, 2: 4, 3: 9, 4: 16, 5: 25, 6: 36, 7: 49, 8: 64, 9: 81, 10: 100}"
            ]
          },
          "execution_count": 30,
          "metadata": {},
          "output_type": "execute_result"
        }
      ],
      "source": [
        "# Program to generate a dicitonary that contains(i, i*i) such that is an integral number between 1 and n (both included), \n",
        "# and then the program should print the dictionary\n",
        "Dict = {}\n",
        "n = int(input(\"Enter a number\"))\n",
        "for x in range(1,n+1):\n",
        "    Dict[x] = x*x\n",
        "\n",
        "Dict"
      ]
    },
    {
      "cell_type": "code",
      "execution_count": null,
      "metadata": {
        "id": "gw6Fk8osIRWK",
        "outputId": "e622074a-5625-4e6b-a5ba-46c03d92bb06"
      },
      "outputs": [
        {
          "data": {
            "text/plain": [
              "{1: 1, 2: 4, 3: 9, 4: 16, 5: 25, 6: 36, 7: 49, 8: 64, 9: 81, 10: 100}"
            ]
          },
          "execution_count": 31,
          "metadata": {},
          "output_type": "execute_result"
        }
      ],
      "source": [
        "#using dictionary comprehension\n",
        "d = {i:i**2 for i in range(1,n+1)}\n",
        "d"
      ]
    }
  ],
  "metadata": {
    "interpreter": {
      "hash": "fb3892b00b79664a70d11c0a8e6958c6397afea78e7a3809587c8dd80409c80e"
    },
    "kernelspec": {
      "display_name": "Python 3.8.10 64-bit ('My_enviroment': conda)",
      "name": "python3"
    },
    "language_info": {
      "codemirror_mode": {
        "name": "ipython",
        "version": 3
      },
      "file_extension": ".py",
      "mimetype": "text/x-python",
      "name": "python",
      "nbconvert_exporter": "python",
      "pygments_lexer": "ipython3",
      "version": "3.8.10"
    },
    "colab": {
      "name": "Basic_Python.ipynb",
      "provenance": []
    }
  },
  "nbformat": 4,
  "nbformat_minor": 0
}