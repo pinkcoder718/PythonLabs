{
 "cells": [
  {
   "cell_type": "markdown",
   "id": "fd94b74c",
   "metadata": {},
   "source": [
    "<h3>General syntax of creating numpy array:</h3>\n",
    "numpy.array(object, dtype = None, copy = True, order = None, ndmin = 0)\n",
    "<br>\n",
    "\n",
    "<h3>Definitions:</h3>\n",
    "object: Any object exposing the array interface method returns an array or any (nested) sequence.<br>\n",
    "dtype: Desired data type of array, optional<br>\n",
    "copy: Optional. By default (true), the object is copied<br>\n",
    "order: C (row major as in C) or F (column major as in matlab) or A (any) (default)\n",
    "<br>ndmin: Specifies minimum dimensions of resultant array"
   ]
  },
  {
   "cell_type": "code",
   "execution_count": 22,
   "id": "4b6e1203",
   "metadata": {},
   "outputs": [],
   "source": [
    "import numpy as np"
   ]
  },
  {
   "cell_type": "code",
   "execution_count": 23,
   "id": "0d520762",
   "metadata": {},
   "outputs": [
    {
     "name": "stdout",
     "output_type": "stream",
     "text": [
      "[10 20 30 40 50 60]\n",
      "<class 'numpy.ndarray'>\n"
     ]
    }
   ],
   "source": [
    "a = np.array([10, 20, 30, 40, 50, 60])\n",
    "print(a)\n",
    "print(type(a))"
   ]
  },
  {
   "cell_type": "code",
   "execution_count": 24,
   "id": "6011f2fe",
   "metadata": {},
   "outputs": [
    {
     "name": "stdout",
     "output_type": "stream",
     "text": [
      "[[ 1  2  3  4]\n",
      " [ 5  6  7  8]\n",
      " [ 9 10 11 12]]\n"
     ]
    }
   ],
   "source": [
    "a = np.array([[1, 2, 3, 4], [5, 6, 7, 8], [9, 10, 11,12]])\n",
    "print(a)"
   ]
  },
  {
   "cell_type": "code",
   "execution_count": 25,
   "id": "6e373529",
   "metadata": {},
   "outputs": [
    {
     "name": "stdout",
     "output_type": "stream",
     "text": [
      "[0. 0. 0. 0. 0.]\n"
     ]
    }
   ],
   "source": [
    "#To create an array filled with 0’s:  \n",
    "print(np.zeros(5))"
   ]
  },
  {
   "cell_type": "code",
   "execution_count": 26,
   "id": "2a404240",
   "metadata": {},
   "outputs": [
    {
     "name": "stdout",
     "output_type": "stream",
     "text": [
      "[1. 1. 1. 1. 1.]\n"
     ]
    }
   ],
   "source": [
    "#To create an array filled with 1’s:\n",
    "print(np.ones(5))"
   ]
  },
  {
   "cell_type": "code",
   "execution_count": 27,
   "id": "6214c27e",
   "metadata": {},
   "outputs": [
    {
     "name": "stdout",
     "output_type": "stream",
     "text": [
      "[0 1 2 3]\n"
     ]
    }
   ],
   "source": [
    "#To create an array with a range of elements:\n",
    "print(np.arange(4))"
   ]
  },
  {
   "cell_type": "code",
   "execution_count": 28,
   "id": "4133af45",
   "metadata": {},
   "outputs": [
    {
     "name": "stdout",
     "output_type": "stream",
     "text": [
      "[ 5 10 15 20 25]\n"
     ]
    }
   ],
   "source": [
    "#To create an array that contains a range of evenly spaced intervals. \n",
    "#To do this, you will specify the first number, last number, and the step size.\n",
    "print(np.arange(5,30,5))"
   ]
  },
  {
   "cell_type": "code",
   "execution_count": 29,
   "id": "ad0efc1d",
   "metadata": {},
   "outputs": [
    {
     "data": {
      "text/plain": [
       "array([ 20.        ,  28.88888889,  37.77777778,  46.66666667,\n",
       "        55.55555556,  64.44444444,  73.33333333,  82.22222222,\n",
       "        91.11111111, 100.        ])"
      ]
     },
     "execution_count": 29,
     "metadata": {},
     "output_type": "execute_result"
    }
   ],
   "source": [
    "#to create an array with values that are spaced linearly in a specified interval\n",
    "np.linspace(20, 100, num=10)"
   ]
  },
  {
   "cell_type": "code",
   "execution_count": 30,
   "id": "a0c7195c",
   "metadata": {},
   "outputs": [
    {
     "name": "stdout",
     "output_type": "stream",
     "text": [
      "float64\n"
     ]
    }
   ],
   "source": [
    "#Specifying your data type\n",
    "#By default data type is floating point (np.float64),\n",
    "#We can explicitly specify which data type we want using the dtype keyword.\n",
    "x=np.ones(5)\n",
    "print(x.dtype)"
   ]
  },
  {
   "cell_type": "code",
   "execution_count": 31,
   "id": "eb7a7db6",
   "metadata": {},
   "outputs": [
    {
     "name": "stdout",
     "output_type": "stream",
     "text": [
      "int64\n"
     ]
    }
   ],
   "source": [
    "x=np.ones(5,dtype=np.int64)\n",
    "print(x.dtype)"
   ]
  },
  {
   "cell_type": "code",
   "execution_count": 32,
   "id": "c626f962",
   "metadata": {},
   "outputs": [],
   "source": [
    "#ndarray.ndim will tell you the number of axes, or dimensions, of the array.\n",
    "\n",
    "#ndarray.size will tell you the total number of elements of the array.\n",
    "#This is the product of the elements of the array’s shape.\n",
    "\n",
    "#ndarray.shape will display a tuple of integers that indicate the number of \n",
    "#elements stored along each dimension of the array. If, for example, \n",
    "#you have a 2-D array with 2 rows and 3 columns, the shape of your array is (2, 3)."
   ]
  },
  {
   "cell_type": "code",
   "execution_count": 33,
   "id": "3754d734",
   "metadata": {},
   "outputs": [
    {
     "name": "stdout",
     "output_type": "stream",
     "text": [
      "[[1 2]\n",
      " [3 4]]\n",
      "2\n",
      "4\n",
      "(2, 2)\n"
     ]
    }
   ],
   "source": [
    "x = np.array([[1, 2], [3, 4]])\n",
    "print(x)\n",
    "print(x.ndim)\n",
    "print(x.size)\n",
    "print(x.shape)"
   ]
  },
  {
   "cell_type": "markdown",
   "id": "63297340",
   "metadata": {},
   "source": [
    "<h3>Indexing and slicing"
   ]
  },
  {
   "cell_type": "code",
   "execution_count": 34,
   "id": "f840e9de",
   "metadata": {},
   "outputs": [
    {
     "name": "stdout",
     "output_type": "stream",
     "text": [
      "[ 5  6  7  8  9 10]\n"
     ]
    }
   ],
   "source": [
    "#You can index and slice NumPy arrays in the same ways you can slice Python lists.\n",
    "a = np.array([5,6,7,8,9,10])\n",
    "print(a)"
   ]
  },
  {
   "cell_type": "code",
   "execution_count": 35,
   "id": "028789ba",
   "metadata": {},
   "outputs": [
    {
     "name": "stdout",
     "output_type": "stream",
     "text": [
      "5 8\n"
     ]
    }
   ],
   "source": [
    "print(a[0],a[3])"
   ]
  },
  {
   "cell_type": "code",
   "execution_count": 36,
   "id": "9db58b19",
   "metadata": {},
   "outputs": [
    {
     "name": "stdout",
     "output_type": "stream",
     "text": [
      "[10  9  8  7  6  5]\n"
     ]
    }
   ],
   "source": [
    "#Reversing the numpy array\n",
    "print(a[::-1])"
   ]
  },
  {
   "cell_type": "code",
   "execution_count": 37,
   "id": "b4654fad",
   "metadata": {},
   "outputs": [
    {
     "name": "stdout",
     "output_type": "stream",
     "text": [
      "10\n"
     ]
    }
   ],
   "source": [
    "#Accessing the last element\n",
    "print(a[-1])"
   ]
  },
  {
   "cell_type": "code",
   "execution_count": 38,
   "id": "9b7459bb",
   "metadata": {},
   "outputs": [
    {
     "name": "stdout",
     "output_type": "stream",
     "text": [
      "[ 9 10]\n",
      "[7 8 9]\n"
     ]
    }
   ],
   "source": [
    "print(a[-2:])\n",
    "print(a[-4:-1])\n"
   ]
  },
  {
   "cell_type": "code",
   "execution_count": 39,
   "id": "5eb336dc",
   "metadata": {},
   "outputs": [
    {
     "name": "stdout",
     "output_type": "stream",
     "text": [
      "[[ 1  2  3  4]\n",
      " [ 5  6  7  8]\n",
      " [ 9 10 11 12]]\n"
     ]
    }
   ],
   "source": [
    "a = np.array([[1 , 2, 3, 4], [5, 6, 7, 8], [9, 10, 11, 12]])\n",
    "print(a)"
   ]
  },
  {
   "cell_type": "code",
   "execution_count": 40,
   "id": "5dfc44f2",
   "metadata": {},
   "outputs": [
    {
     "name": "stdout",
     "output_type": "stream",
     "text": [
      "[1 2 3 4 5 6 7]\n",
      "[ 9 10 11 12]\n"
     ]
    }
   ],
   "source": [
    "print(a[a<8])\n",
    "print(a[a>8])"
   ]
  },
  {
   "cell_type": "code",
   "execution_count": 41,
   "id": "b6b00a34",
   "metadata": {},
   "outputs": [
    {
     "name": "stdout",
     "output_type": "stream",
     "text": [
      "[ 3  4  5  6  7  8  9 10]\n"
     ]
    }
   ],
   "source": [
    "a1 = a[(a > 2) & (a < 11)]\n",
    "print(a1)"
   ]
  },
  {
   "cell_type": "markdown",
   "id": "62da49fc",
   "metadata": {},
   "source": [
    "<h3>Basic Operations"
   ]
  },
  {
   "cell_type": "code",
   "execution_count": 42,
   "id": "57d08375",
   "metadata": {},
   "outputs": [
    {
     "name": "stdout",
     "output_type": "stream",
     "text": [
      "[[1 2 3 4]\n",
      " [5 6 7 8]]\n"
     ]
    }
   ],
   "source": [
    "x=np.array([[1,2,3,4],[5,6,7,8]])\n",
    "print(x)"
   ]
  },
  {
   "cell_type": "code",
   "execution_count": 43,
   "id": "5aee01a6",
   "metadata": {},
   "outputs": [
    {
     "name": "stdout",
     "output_type": "stream",
     "text": [
      "36\n"
     ]
    }
   ],
   "source": [
    "#To find the sum of all the elements\n",
    "print(np.sum(x))"
   ]
  },
  {
   "cell_type": "code",
   "execution_count": 44,
   "id": "5c4c3e4a",
   "metadata": {},
   "outputs": [
    {
     "name": "stdout",
     "output_type": "stream",
     "text": [
      "[[1 2 3 4]\n",
      " [5 6 7 8]]\n"
     ]
    }
   ],
   "source": [
    "#For axis=0, this means that we apply a function along each “column”, or all values that occur vertically.\n",
    "\n",
    "#For axis=1, this means that we apply a function along each “row”, or all values horizontally.\n",
    "\n",
    "x=np.array([[1,2,3,4],[5,6,7,8]])\n",
    "print(x)"
   ]
  },
  {
   "cell_type": "code",
   "execution_count": 45,
   "id": "8cea4502",
   "metadata": {},
   "outputs": [
    {
     "name": "stdout",
     "output_type": "stream",
     "text": [
      "[ 6  8 10 12]\n"
     ]
    }
   ],
   "source": [
    "#To find the sum of elements columnwise\n",
    "print(np.sum(x,axis=0))"
   ]
  },
  {
   "cell_type": "code",
   "execution_count": 46,
   "id": "4305da3a",
   "metadata": {},
   "outputs": [
    {
     "name": "stdout",
     "output_type": "stream",
     "text": [
      "[10 26]\n"
     ]
    }
   ],
   "source": [
    "#To find the sum of elements rowwise\n",
    "print(np.sum(x,axis=1))"
   ]
  },
  {
   "cell_type": "code",
   "execution_count": 47,
   "id": "56e59f98",
   "metadata": {},
   "outputs": [
    {
     "name": "stdout",
     "output_type": "stream",
     "text": [
      "[3. 4. 5. 6.]\n"
     ]
    }
   ],
   "source": [
    "print(np.mean(x, axis=0)) "
   ]
  },
  {
   "cell_type": "code",
   "execution_count": 48,
   "id": "9b78a80e",
   "metadata": {},
   "outputs": [
    {
     "name": "stdout",
     "output_type": "stream",
     "text": [
      "[2.5 6.5]\n"
     ]
    }
   ],
   "source": [
    "print(np.mean(x, axis=1))"
   ]
  },
  {
   "cell_type": "code",
   "execution_count": 49,
   "id": "e589ec48",
   "metadata": {},
   "outputs": [
    {
     "name": "stdout",
     "output_type": "stream",
     "text": [
      "4.5\n"
     ]
    }
   ],
   "source": [
    "print(np.mean(x))"
   ]
  },
  {
   "cell_type": "markdown",
   "id": "ffa69483",
   "metadata": {},
   "source": [
    "<h3>Sorting numpy array elements"
   ]
  },
  {
   "cell_type": "code",
   "execution_count": 50,
   "id": "3daf0e99",
   "metadata": {},
   "outputs": [
    {
     "name": "stdout",
     "output_type": "stream",
     "text": [
      "[ 2  5  6  8 10]\n"
     ]
    }
   ],
   "source": [
    "a=np.array([10,5,6,8,2])\n",
    "s=np.sort(a)\n",
    "print(s)"
   ]
  },
  {
   "cell_type": "code",
   "execution_count": 51,
   "id": "d93b4448",
   "metadata": {},
   "outputs": [
    {
     "name": "stdout",
     "output_type": "stream",
     "text": [
      "[ 2  5  6  8 10]\n"
     ]
    }
   ],
   "source": [
    "#In Numpy, the np.sort() function does not allow us to sort an array in \n",
    "#descending order. Instead, we can reverse an array utilizing list slicing in \n",
    "#Python, after it has been sorted in ascending order(By default quicksort).\n",
    "s1 = np.sort(a)\n",
    "print(s1)"
   ]
  },
  {
   "cell_type": "code",
   "execution_count": 52,
   "id": "c04316f7",
   "metadata": {},
   "outputs": [
    {
     "name": "stdout",
     "output_type": "stream",
     "text": [
      "[10 -5  4 67  8]\n",
      "[-5  4  8 10 67]\n",
      "[67 10  8  4 -5]\n"
     ]
    }
   ],
   "source": [
    "x1=np.array([10,-5,4,67,8])\n",
    "print(x1)\n",
    "x2=np.sort(x1)\n",
    "print(x2)\n",
    "x3=np.sort(x1)[::-1]\n",
    "print(x3)"
   ]
  },
  {
   "cell_type": "code",
   "execution_count": 53,
   "id": "3426dab8",
   "metadata": {},
   "outputs": [
    {
     "name": "stdout",
     "output_type": "stream",
     "text": [
      "[10  8  6  5  2]\n"
     ]
    }
   ],
   "source": [
    "s2 = s1[::-1]\n",
    "print(s2)"
   ]
  },
  {
   "cell_type": "code",
   "execution_count": 55,
   "id": "9c461d6f",
   "metadata": {},
   "outputs": [
    {
     "data": {
      "text/plain": [
       "array([1, 2, 3, 4, 5, 6, 7, 8])"
      ]
     },
     "execution_count": 55,
     "metadata": {},
     "output_type": "execute_result"
    }
   ],
   "source": [
    "#Concatenating numpy arrays\n",
    "a = np.array([1, 2, 3, 4])\n",
    "b = np.array([5, 6, 7, 8])\n",
    "\n",
    "np.concatenate((a, b))"
   ]
  },
  {
   "cell_type": "code",
   "execution_count": 56,
   "id": "7b6cc504",
   "metadata": {},
   "outputs": [
    {
     "name": "stdout",
     "output_type": "stream",
     "text": [
      "[[1 2]\n",
      " [3 4]\n",
      " [5 6]\n",
      " [7 8]]\n"
     ]
    }
   ],
   "source": [
    "x = np.array([[1, 2], [3, 4]])\n",
    "y = np.array([[5, 6], [7, 8]])\n",
    "\n",
    "x1=np.concatenate((x, y))\n",
    "print(x1)"
   ]
  },
  {
   "cell_type": "code",
   "execution_count": 57,
   "id": "9983aa08",
   "metadata": {},
   "outputs": [
    {
     "name": "stdout",
     "output_type": "stream",
     "text": [
      "[[1 2]\n",
      " [3 4]\n",
      " [5 6]\n",
      " [7 8]]\n"
     ]
    }
   ],
   "source": [
    "x1=np.concatenate((x, y),axis=0)\n",
    "print(x1)"
   ]
  },
  {
   "cell_type": "code",
   "execution_count": 58,
   "id": "bf5d4b2c",
   "metadata": {},
   "outputs": [
    {
     "name": "stdout",
     "output_type": "stream",
     "text": [
      "[[1 2 5 6]\n",
      " [3 4 7 8]]\n"
     ]
    }
   ],
   "source": [
    "x2=np.concatenate((x, y),axis=1)\n",
    "print(x2)"
   ]
  },
  {
   "cell_type": "code",
   "execution_count": 59,
   "id": "f876546e",
   "metadata": {},
   "outputs": [
    {
     "name": "stdout",
     "output_type": "stream",
     "text": [
      "[[1 2]\n",
      " [3 4]]\n",
      "Max value is:  4\n",
      "Min value is:  1\n"
     ]
    }
   ],
   "source": [
    "#to compute min, max n on the ndarray\n",
    "print(x)\n",
    "\n",
    "print(\"Max value is: \", x.max())\n",
    "print(\"Min value is: \", x.min())"
   ]
  },
  {
   "cell_type": "code",
   "execution_count": 60,
   "id": "9db3b3e3",
   "metadata": {},
   "outputs": [
    {
     "name": "stdout",
     "output_type": "stream",
     "text": [
      "[[1 2]\n",
      " [3 4]]\n",
      "Max value is:  [3 4]\n",
      "Min value is:  [1 2]\n"
     ]
    }
   ],
   "source": [
    "#to compute min, max n on the ndarray columnwise\n",
    "print(x)\n",
    "\n",
    "print(\"Max value is: \", x.max(axis=0))\n",
    "print(\"Min value is: \", x.min(axis=0))"
   ]
  },
  {
   "cell_type": "code",
   "execution_count": 61,
   "id": "f0a21889",
   "metadata": {},
   "outputs": [
    {
     "name": "stdout",
     "output_type": "stream",
     "text": [
      "[ 1  2  3  4  5  6  7  8  9 10 11 12]\n"
     ]
    }
   ],
   "source": [
    "#Reshaping is changing the arrangement of items so that shape of the array \n",
    "#changes while maintaining the same number of dimensions.\n",
    "import numpy as np\n",
    "x=np.array([1,2,3,4,5,6,7,8,9,10,11,12])\n",
    "print(x)"
   ]
  },
  {
   "cell_type": "code",
   "execution_count": 62,
   "id": "9b7c2fb9",
   "metadata": {},
   "outputs": [
    {
     "name": "stdout",
     "output_type": "stream",
     "text": [
      "[[ 1  2  3]\n",
      " [ 4  5  6]\n",
      " [ 7  8  9]\n",
      " [10 11 12]]\n"
     ]
    }
   ],
   "source": [
    "x1=x.reshape(4,3)\n",
    "print(x1)"
   ]
  },
  {
   "cell_type": "code",
   "execution_count": 67,
   "id": "dec2bdc6",
   "metadata": {},
   "outputs": [
    {
     "name": "stdout",
     "output_type": "stream",
     "text": [
      "[[ 1  2  3  4  5  6]\n",
      " [ 7  8  9 10 11 12]]\n"
     ]
    }
   ],
   "source": [
    "x2=x.reshape(2,6)\n",
    "print(x2)"
   ]
  },
  {
   "cell_type": "code",
   "execution_count": 68,
   "id": "ce0dbac5",
   "metadata": {},
   "outputs": [
    {
     "name": "stdout",
     "output_type": "stream",
     "text": [
      "[[ 1  2  3  4]\n",
      " [ 5  6  7  8]\n",
      " [ 9 10 11 12]]\n",
      "[ 1  2  3  4  5  6  7  8  9 10 11 12]\n",
      "[ 1  2  3  4  5  6  7  8  9 10 11 12]\n",
      "Parent array is:\n",
      "[[ 1  2  3  4]\n",
      " [ 5  6  7  8]\n",
      " [ 9 10 11 12]]\n",
      "[  1   2 100   4   5   6   7   8   9  10  11  12]\n",
      "[  1   2 100   4   5   6   7   8   9  10  11  12]\n"
     ]
    }
   ],
   "source": [
    "#flatten():It will convert a multi-dimensional array to a flat 1d array.\n",
    "#And not any other shape.\n",
    "#Changing the flattened array does not change parent array\n",
    "list5=[[1,2,3,4],[5,6,7,8],[9,10,11,12]]\n",
    "a1=np.array(list5)\n",
    "print(a1)\n",
    "a3=a1.flatten()\n",
    "print(a3)\n",
    "a4=a3\n",
    "print(a4)\n",
    "a4[2]=100\n",
    "print(\"Parent array is:\")\n",
    "print(a1)\n",
    "print(a3)\n",
    "print(a4)"
   ]
  },
  {
   "cell_type": "code",
   "execution_count": 69,
   "id": "c35d048b",
   "metadata": {},
   "outputs": [
    {
     "name": "stdout",
     "output_type": "stream",
     "text": [
      "[[ 1  2  3  4]\n",
      " [ 5  6  7  8]\n",
      " [ 9 10 11 12]]\n",
      "[ 1  2  3  4  5  6  7  8  9 10 11 12]\n",
      "[   1    2 1000    4    5    6    7    8    9   10   11   12]\n",
      "[[   1    2 1000    4]\n",
      " [   5    6    7    8]\n",
      " [   9   10   11   12]]\n"
     ]
    }
   ],
   "source": [
    "#ravel():The new array created using ravel() method is a reference to the parent\n",
    "#array. So, any changes to the new array will affect the parent as well.\n",
    "#But is memory efficient since it does not create a copy.\n",
    "print(a1)\n",
    "a11=a1.ravel()\n",
    "print(a11)\n",
    "a12=a11\n",
    "#print(a12)\n",
    "a12[2]=1000\n",
    "print(a12)\n",
    "#print(a11)\n",
    "print(a1)"
   ]
  },
  {
   "cell_type": "code",
   "execution_count": 70,
   "id": "bfdb441b",
   "metadata": {},
   "outputs": [
    {
     "name": "stdout",
     "output_type": "stream",
     "text": [
      "[[1 2]\n",
      " [3 4]]\n",
      "[[5 6]\n",
      " [7 8]]\n"
     ]
    }
   ],
   "source": [
    "#Stacking: Several arrays can be stacked together along different axes\n",
    "#np.vstack:To stack arrays along vertical axis\n",
    "#np.hstack: To stack arrays along horizontal axis\n",
    "\n",
    "x1=np.array([[1,2],[3,4]])\n",
    "x2=np.array([[5,6],[7,8]])\n",
    "print(x1)\n",
    "print(x2)"
   ]
  },
  {
   "cell_type": "markdown",
   "id": "aaa21901",
   "metadata": {},
   "source": [
    "np.vstack((x1,x2))"
   ]
  },
  {
   "cell_type": "code",
   "execution_count": 72,
   "id": "0a222f8f",
   "metadata": {},
   "outputs": [
    {
     "data": {
      "text/plain": [
       "array([[1, 2, 5, 6],\n",
       "       [3, 4, 7, 8]])"
      ]
     },
     "execution_count": 72,
     "metadata": {},
     "output_type": "execute_result"
    }
   ],
   "source": [
    "np.hstack((x1,x2))"
   ]
  },
  {
   "cell_type": "markdown",
   "id": "a4d954bb",
   "metadata": {},
   "source": [
    "<h3>Numpy Module provides different methods for matrix operations."
   ]
  },
  {
   "cell_type": "code",
   "execution_count": 73,
   "id": "9adc6469",
   "metadata": {},
   "outputs": [
    {
     "name": "stdout",
     "output_type": "stream",
     "text": [
      "[[1 2]\n",
      " [3 4]]\n",
      "[[1 2]\n",
      " [3 4]]\n"
     ]
    }
   ],
   "source": [
    "x = np.array([[1, 2], [3, 4]])\n",
    "y = np.array([[1, 2], [3, 4]])\n",
    "print(x)\n",
    "print(y)"
   ]
  },
  {
   "cell_type": "code",
   "execution_count": 74,
   "id": "28b04727",
   "metadata": {},
   "outputs": [
    {
     "name": "stdout",
     "output_type": "stream",
     "text": [
      "Addition of two matrices: \n",
      "[[2 4]\n",
      " [6 8]]\n"
     ]
    }
   ],
   "source": [
    "#  add()is used to add matrices\n",
    "print (\"Addition of two matrices: \")\n",
    "print (np.add(x,y))"
   ]
  },
  {
   "cell_type": "code",
   "execution_count": 76,
   "id": "a7ac1f89",
   "metadata": {},
   "outputs": [
    {
     "name": "stdout",
     "output_type": "stream",
     "text": [
      "[1 2 3 4 5 6]\n",
      "[6 5 4 3 2 1]\n"
     ]
    }
   ],
   "source": [
    "#NumPy’s np.flip() function allows you to flip, or reverse, the contents of an \n",
    "#array along an axis. When using np.flip, specify the array you would like to \n",
    "#reverse and the axis. If you don’t specify the axis, NumPy will reverse the \n",
    "#contents along all of the axes of your input array.\n",
    "\n",
    "a=np.array([1,2,3,4,5,6])\n",
    "print(a)\n",
    "print(np.flip(a,axis=0))"
   ]
  },
  {
   "cell_type": "code",
   "execution_count": 77,
   "id": "ffe36aab",
   "metadata": {},
   "outputs": [
    {
     "name": "stdout",
     "output_type": "stream",
     "text": [
      "[[1 2 3]\n",
      " [4 5 6]]\n",
      "[[4 5 6]\n",
      " [1 2 3]]\n",
      "[[3 2 1]\n",
      " [6 5 4]]\n"
     ]
    }
   ],
   "source": [
    "#2D array\n",
    "x=np.array([[1,2,3],[4,5,6]])\n",
    "print(x)\n",
    "\n",
    "#Column-wise flip\n",
    "print(np.flip(x,axis=0))\n",
    "\n",
    "#Row-wise flip\n",
    "print(np.flip(x,axis=1))"
   ]
  },
  {
   "cell_type": "code",
   "execution_count": 78,
   "id": "e3161bfd",
   "metadata": {},
   "outputs": [
    {
     "name": "stdout",
     "output_type": "stream",
     "text": [
      "[[1 2]\n",
      " [3 4]]\n",
      "[[1 2]\n",
      " [3 4]]\n"
     ]
    }
   ],
   "source": [
    "a=np.array([[1,2],[3,4]])\n",
    "b=np.array([[1,2],[3,4]])\n",
    "print(a)\n",
    "print(b)"
   ]
  },
  {
   "cell_type": "code",
   "execution_count": 79,
   "id": "80677823",
   "metadata": {},
   "outputs": [
    {
     "name": "stdout",
     "output_type": "stream",
     "text": [
      "[[ 1  4]\n",
      " [ 9 16]]\n"
     ]
    }
   ],
   "source": [
    "#Hammard Multiplication\n",
    "\n",
    "d=a*b\n",
    "print(d)"
   ]
  },
  {
   "cell_type": "code",
   "execution_count": 80,
   "id": "c100d5aa",
   "metadata": {},
   "outputs": [
    {
     "name": "stdout",
     "output_type": "stream",
     "text": [
      "[[ 7 10]\n",
      " [15 22]]\n"
     ]
    }
   ],
   "source": [
    "#Dot product\n",
    "\n",
    "e=a.dot(b)\n",
    "print(e)"
   ]
  },
  {
   "cell_type": "code",
   "execution_count": 81,
   "id": "eb5ae76b",
   "metadata": {},
   "outputs": [
    {
     "name": "stdout",
     "output_type": "stream",
     "text": [
      "\n",
      " Given array is:\n",
      "\n",
      "[[ 1  2  3  4  5]\n",
      " [ 6  7  8  9 10]\n",
      " [11 12 13 14 15]\n",
      " [16 17 18 19 20]\n",
      " [21 22 23 24 25]\n",
      " [26 27 28 29 30]]\n",
      "\n",
      " Odd rows of array is:\n",
      "\n",
      "[1 2 3 4 5]\n",
      "[11 12 13 14 15]\n",
      "[21 22 23 24 25]\n",
      "\n",
      " Even rows of array is:\n",
      "\n",
      "[ 6  7  8  9 10]\n",
      "[16 17 18 19 20]\n",
      "[26 27 28 29 30]\n",
      "\n",
      " Even Columns of array is:\n",
      "\n",
      "[ 2  7 12 17 22 27]\n",
      "[ 4  9 14 19 24 29]\n",
      "\n",
      " Odd Columns of array is:\n",
      "\n",
      "[ 1  6 11 16 21 26]\n",
      "[ 3  8 13 18 23 28]\n",
      "[ 5 10 15 20 25 30]\n"
     ]
    }
   ],
   "source": [
    "#A Simple excercise\n",
    "\n",
    "import numpy as np\n",
    "arr = np.array([[ 1,  2,  3,  4,  5],\n",
    "                   [ 6,  7,  8,  9, 10],\n",
    "                   [11, 12, 13, 14, 15],\n",
    "                   [16, 17, 18, 19, 20],\n",
    "                   [21, 22, 23, 24, 25],\n",
    "                   [26, 27, 28, 29, 30]])\n",
    "print(\"\\n Given array is:\\n\")\n",
    "print(arr)\n",
    "\n",
    "print(\"\\n Odd rows of array is:\\n\")\n",
    "for i in range(arr.shape[0]):\n",
    "    if i %2 == 0:\n",
    "        print(arr[i,:])\n",
    "        \n",
    "print(\"\\n Even rows of array is:\\n\")\n",
    "for i in range(arr.shape[0]):\n",
    "    if i %2 != 0:\n",
    "        print(arr[i,:])\n",
    "\n",
    "print(\"\\n Even Columns of array is:\\n\")\n",
    "for i in range(arr.shape[1]):\n",
    "    if i %2 == 1:\n",
    "        print(arr[:,i])\n",
    "        \n",
    "        \n",
    "print(\"\\n Odd Columns of array is:\\n\")\n",
    "for i in range(arr.shape[1]):\n",
    "    if i %2 != 1:\n",
    "        print(arr[:,i])"
   ]
  },
  {
   "cell_type": "code",
   "execution_count": null,
   "id": "fdecfd08",
   "metadata": {},
   "outputs": [],
   "source": []
  }
 ],
 "metadata": {
  "interpreter": {
   "hash": "7fea7620c0336ee420c92a2a2fccd6329016de0678b74e3fbcc0a0d230594f8e"
  },
  "kernelspec": {
   "display_name": "Python 3.8.10 64-bit",
   "language": "python",
   "name": "python3"
  },
  "language_info": {
   "codemirror_mode": {
    "name": "ipython",
    "version": 3
   },
   "file_extension": ".py",
   "mimetype": "text/x-python",
   "name": "python",
   "nbconvert_exporter": "python",
   "pygments_lexer": "ipython3",
   "version": "3.8.10"
  }
 },
 "nbformat": 4,
 "nbformat_minor": 5
}
