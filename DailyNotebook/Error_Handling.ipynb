{
 "cells": [
  {
   "cell_type": "markdown",
   "metadata": {},
   "source": [
    "<h1> Error Handling"
   ]
  },
  {
   "cell_type": "code",
   "execution_count": null,
   "metadata": {},
   "outputs": [],
   "source": [
    "# Normal Statements\n",
    "a = 200\n",
    "b = 20\n",
    "\n",
    "# Critical Statement\n",
    "print(a/b) "
   ]
  },
  {
   "cell_type": "markdown",
   "metadata": {},
   "source": [
    "<h2> Types of Errors"
   ]
  },
  {
   "cell_type": "code",
   "execution_count": null,
   "metadata": {},
   "outputs": [],
   "source": [
    "# Syntax Errors\n",
    "a = 5\n",
    "b = 10\n",
    "\n",
    "print a+b"
   ]
  },
  {
   "cell_type": "code",
   "execution_count": null,
   "metadata": {},
   "outputs": [],
   "source": [
    "# Logical Error\n",
    "print(\"MULTIPLICATION:\")\n",
    "\n",
    "a = 5\n",
    "b = 10\n",
    "print(\"The product of {} and {} is {}\".format(a,b,a/b))"
   ]
  },
  {
   "cell_type": "code",
   "execution_count": null,
   "metadata": {},
   "outputs": [],
   "source": [
    "# Exception or Run-Time Error\n",
    "\n",
    "a = 5\n",
    "b = 0\n",
    "print(\"{}/{} = {}\".format(a,b,a/b))\n",
    "\n",
    "print(\"Process is complete\")"
   ]
  },
  {
   "cell_type": "markdown",
   "metadata": {},
   "source": [
    "<h2> Handling Exceptions using try and except blocks"
   ]
  },
  {
   "cell_type": "code",
   "execution_count": null,
   "metadata": {},
   "outputs": [],
   "source": [
    "# Handling the Exception - when exception is present\n",
    "\n",
    "a = 5\n",
    "b = 0\n",
    "try:\n",
    "    print(\"{}/{} = {}\".format(a,b,a/b))\n",
    "except Exception:\n",
    "    print(\"We cannot divide a number by 0\")\n",
    "\n",
    "print(\"Process is complete\")\n"
   ]
  },
  {
   "cell_type": "code",
   "execution_count": null,
   "metadata": {},
   "outputs": [],
   "source": [
    "# Handling the Exception - when exception is absent\n",
    "\n",
    "a = 5\n",
    "b = 10\n",
    "try:\n",
    "    print(\"{}/{} = {}\".format(a,b,a/b))\n",
    "except Exception:\n",
    "    print(\"We cannot divide a number by 0\")\n",
    "\n",
    "print(\"Process is complete\")\n"
   ]
  },
  {
   "cell_type": "markdown",
   "metadata": {},
   "source": [
    "<h2> Displaying the Exception caught using referential objects"
   ]
  },
  {
   "cell_type": "code",
   "execution_count": null,
   "metadata": {},
   "outputs": [],
   "source": [
    "# To display the type of Exception - division by zero Exception\n",
    "\n",
    "a = 5\n",
    "b = 0\n",
    "try:\n",
    "    print(\"{}/{} = {}\".format(a,b,a/b))\n",
    "except Exception as e:\n",
    "    print(e,\"Exception has occured\")\n",
    "\n",
    "print(\"Process is complete\")\n",
    "\n"
   ]
  },
  {
   "cell_type": "code",
   "execution_count": null,
   "metadata": {},
   "outputs": [],
   "source": [
    "# To display the type of Exception - ValueError Exception\n",
    "\n",
    "try:    \n",
    "    a = int(input(\"Enter a number\"))\n",
    "    b = int(input(\"Enter an other number\"))\n",
    "    print(\"{}/{} = {}\".format(a,b,a/b))\n",
    "except Exception as e:\n",
    "    print(e,\"Exception has occured\")\n",
    "\n",
    "print(\"Process is complete\")\n"
   ]
  },
  {
   "cell_type": "markdown",
   "metadata": {},
   "source": [
    "<h3> Using else in Exception handling"
   ]
  },
  {
   "cell_type": "code",
   "execution_count": null,
   "metadata": {},
   "outputs": [],
   "source": [
    "# else statement - with Exception\n",
    "\n",
    "a = 5\n",
    "b = 0\n",
    "try:\n",
    "    print(\"{}/{} = {}\".format(a,b,a/b))\n",
    "except Exception:\n",
    "    print(\"We cannot divide a number by 0\")\n",
    "else:\n",
    "    print(\"Process is complete\") # DOESN'T Execute\n"
   ]
  },
  {
   "cell_type": "markdown",
   "metadata": {},
   "source": [
    "<h3> Finally in Exception Handling"
   ]
  },
  {
   "cell_type": "code",
   "execution_count": null,
   "metadata": {},
   "outputs": [],
   "source": [
    "# Explaination for finally\n",
    "\n",
    "a = 5\n",
    "b = 0\n",
    "try:\n",
    "    print(\"{}/{} = {}\".format(a,b,a/b))\n",
    "    print(\"Finally we are done!\") # DOESN'T Execute\n",
    "except Exception:\n",
    "    print(\"We cannot divide a number by 0\")\n",
    "else:\n",
    "    print(\"Process is complete\") # DOESN'T Execute\n"
   ]
  },
  {
   "cell_type": "code",
   "execution_count": null,
   "metadata": {},
   "outputs": [],
   "source": [
    "# finally block - with Exception\n",
    "\n",
    "a = 5\n",
    "b = 0\n",
    "try:\n",
    "    print(\"{}/{} = {}\".format(a,b,a/b))\n",
    "except Exception:\n",
    "    print(\"We cannot divide a number by 0\")\n",
    "else:\n",
    "    print(\"Process is complete\") # DOESN'T Execute\n",
    "finally:\n",
    "    print(\"This is the finally block\") # Executes w/o Exception\n"
   ]
  },
  {
   "cell_type": "code",
   "execution_count": null,
   "metadata": {},
   "outputs": [],
   "source": [
    "# finally block - No Exception\n",
    "\n",
    "a = 5\n",
    "b = 10\n",
    "try:\n",
    "    print(\"{}/{} = {}\".format(a,b,a/b))\n",
    "except Exception:\n",
    "    print(\"We cannot divide a number by 0\")\n",
    "else:\n",
    "    print(\"Process is complete\") \n",
    "finally:\n",
    "    print(\"This is the finally block\") # Executes w/o Exception\n"
   ]
  },
  {
   "cell_type": "markdown",
   "metadata": {},
   "source": [
    "<h3> One of the Application of Finally"
   ]
  },
  {
   "cell_type": "code",
   "execution_count": null,
   "metadata": {},
   "outputs": [],
   "source": [
    "# finally block application\n",
    "\n",
    "file1 = open(\"D://Study//Certificates and Online Courses//Python//Ex_Files_Learning_Python_Upd//Exercise Files//Ch4//textfile.txt\", 'r')\n",
    "try:\n",
    "    file1.write(\"Good Day\")\n",
    "except Exception as e:\n",
    "    print(e,\"Exception caught\")\n",
    "finally:\n",
    "    file1.close()\n",
    "    print(\"File is closed successfully!\")"
   ]
  },
  {
   "cell_type": "markdown",
   "metadata": {},
   "source": [
    "<h3>Handling multiple exceptions"
   ]
  },
  {
   "cell_type": "code",
   "execution_count": null,
   "metadata": {},
   "outputs": [],
   "source": [
    "# Multiple Exception Control\n",
    "\n",
    "try:\n",
    "    a = int(input(\"Enter a number\"))\n",
    "    b = int(input(\"Enter another number\"))\n",
    "    print(\"{}/{} = {}\".format(a,b,a/b))\n",
    "\n",
    "except ZeroDivisionError:\n",
    "    print(\"We cannot divide a number by 0\")\n",
    "\n",
    "except ValueError:\n",
    "    print(\"Can't take a literal value for integer datatype\")\n",
    "\n",
    "except Exception as e:\n",
    "    print(e,\"Exception has occured\")        \n",
    "\n",
    "else:\n",
    "    print(\"Process is complete\") \n",
    "\n",
    "finally:\n",
    "    print(\"Exiting....Bye....\")\n"
   ]
  },
  {
   "cell_type": "markdown",
   "metadata": {},
   "source": [
    "<h2> Throwing Exceptions"
   ]
  },
  {
   "cell_type": "code",
   "execution_count": null,
   "metadata": {},
   "outputs": [],
   "source": [
    "# raise\n",
    "\n",
    "x = int(input(\"Enter a number\"))\n",
    "if(x==0):\n",
    "    raise Exception(\"x shouldn't be 0\")\n"
   ]
  },
  {
   "cell_type": "code",
   "execution_count": null,
   "metadata": {},
   "outputs": [],
   "source": [
    "# Handling Raised Exception\n",
    "\n",
    "try:\n",
    "    x = int(input(\"Enter a number\"))\n",
    "    if(x==0):\n",
    "        raise Exception(\"x shouldn't be 0\")\n",
    "except Exception as e:\n",
    "    print(e)"
   ]
  },
  {
   "cell_type": "code",
   "execution_count": null,
   "metadata": {},
   "outputs": [],
   "source": [
    "# raise - Traceback\n",
    "\n",
    "try:\n",
    "    x = int(input(\"Enter a number\"))\n",
    "except Exception as e:\n",
    "    print(e)\n",
    "    raise Exception"
   ]
  }
 ],
 "metadata": {
  "interpreter": {
   "hash": "fb3892b00b79664a70d11c0a8e6958c6397afea78e7a3809587c8dd80409c80e"
  },
  "kernelspec": {
   "display_name": "Python 3.8.10 64-bit ('My_enviroment': conda)",
   "name": "python3"
  },
  "language_info": {
   "codemirror_mode": {
    "name": "ipython",
    "version": 3
   },
   "file_extension": ".py",
   "mimetype": "text/x-python",
   "name": "python",
   "nbconvert_exporter": "python",
   "pygments_lexer": "ipython3",
   "version": "3.8.10"
  },
  "orig_nbformat": 4
 },
 "nbformat": 4,
 "nbformat_minor": 2
}
