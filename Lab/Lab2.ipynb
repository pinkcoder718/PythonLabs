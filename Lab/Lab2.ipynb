{
 "cells": [
  {
   "cell_type": "markdown",
   "metadata": {},
   "source": [
    "<b>19BTRCR007 <br>\n",
    "Myil Vaughanan V L"
   ]
  },
  {
   "cell_type": "markdown",
   "metadata": {},
   "source": [
    "<b><h1> LAB PROGRAM 2: </h1></b> <br>\n",
    "Write and run a program <br> \n",
    "a. To find the sum and average of first n natural numbers <br>\n",
    "b. To find factorial, and fibonacci of a number, received by the user, with iterative as well as recursive process <br>"
   ]
  },
  {
   "cell_type": "code",
   "execution_count": 5,
   "metadata": {},
   "outputs": [
    {
     "name": "stdout",
     "output_type": "stream",
     "text": [
      "The sum of first 7 natural numbers is 28\n",
      "The average of first 7 natural numbers is 4.0\n"
     ]
    }
   ],
   "source": [
    "#a\n",
    "n = int(input(\"Enter the number of natural numbers\"))\n",
    "m = n\n",
    "sum = 0\n",
    "while(n>0):\n",
    "    sum = sum+n\n",
    "    n = n-1\n",
    "average = sum/m\n",
    "print(\"The sum of first {} natural numbers is {}\".format(m,sum))    \n",
    "print(\"The average of first {} natural numbers is {}\".format(m,average))"
   ]
  },
  {
   "cell_type": "code",
   "execution_count": 7,
   "metadata": {},
   "outputs": [
    {
     "name": "stdout",
     "output_type": "stream",
     "text": [
      "Factorial of 7 is 5040\n"
     ]
    }
   ],
   "source": [
    "#b Facotrial iterative method\n",
    "n = int(input(\"Enter the number for which we need to find the factorial\"))\n",
    "\n",
    "def Factorial_iteration(n):\n",
    "        fact = 1\n",
    "        if(n<0):\n",
    "            print(\"Factorial doesn't exist\")\n",
    "        elif(n==0):\n",
    "            print(\"Factorial of {} is {}\".format(n,fact))\n",
    "        else:\n",
    "            i = 1\n",
    "            while(i<=n):\n",
    "                fact = fact*i\n",
    "                i+=1\n",
    "            print(\"Factorial of {} is {}\".format(n,fact))\n",
    "\n",
    "Factorial_iteration(n)"
   ]
  },
  {
   "cell_type": "code",
   "execution_count": 9,
   "metadata": {},
   "outputs": [
    {
     "name": "stdout",
     "output_type": "stream",
     "text": [
      "Factorial of 7: 5040\n"
     ]
    }
   ],
   "source": [
    "#b Factorial Recursive method\n",
    "n = int(input(\"Enter the number for which we need to find the factorial\"))\n",
    "def Factorial_recursion(n):\n",
    "        if(n<0):\n",
    "            return \"Doesn't exist\"\n",
    "        elif(n==0 or n==1):\n",
    "            return 1\n",
    "        else:\n",
    "            return n*Factorial_recursion(n-1)\n",
    "fact = Factorial_recursion(n)\n",
    "print(\"Factorial of {}: {}\".format(n,fact))"
   ]
  },
  {
   "cell_type": "code",
   "execution_count": 20,
   "metadata": {},
   "outputs": [
    {
     "name": "stdout",
     "output_type": "stream",
     "text": [
      "Fibonacci series upto 5 terms: \n",
      "0\n",
      "1\n",
      "1\n",
      "2\n",
      "3\n"
     ]
    }
   ],
   "source": [
    "#b Fibonacci Series Iterative method\n",
    "n = int(input(\"Enter the numbers upto which you want to print fibonacci series\"))\n",
    "def Fibonacci_iterative(n):\n",
    "        n1, n2 = 0, 1\n",
    "        ctr = 0\n",
    "        if n<=0:\n",
    "            print(\"Enter a positive number\")\n",
    "        elif n==1:\n",
    "            print(\"Fibonacci series upto {} terms: {} \".format(n,n1))\n",
    "        else:\n",
    "            print(\"Fibonacci series upto {} terms: \".format(n))\n",
    "            while ctr<n:\n",
    "                print(n1)\n",
    "                sum, n1 = n1+n2, n2\n",
    "                n2 = sum\n",
    "                ctr = ctr+1\n",
    "                \n",
    "\n",
    "Fibonacci_iterative(n)"
   ]
  },
  {
   "cell_type": "code",
   "execution_count": 1,
   "metadata": {},
   "outputs": [
    {
     "name": "stdout",
     "output_type": "stream",
     "text": [
      "Fibonacci series upto 3 terms: \n",
      "0\n",
      "1\n",
      "1\n"
     ]
    }
   ],
   "source": [
    "#b Fibonacci Series recursive method\n",
    "def Fibonacci_recursive(n):\n",
    "    if n<=1:\n",
    "        return n\n",
    "    else:\n",
    "        return(Fibonacci_recursive(n-1)+Fibonacci_recursive(n-2))\n",
    "n = int(input(\"Enter the numbers upto which you want to print fibonacci series\"))\n",
    "if n<=0:\n",
    "    print(\"Enter Positive number\")\n",
    "else:\n",
    "    print(\"Fibonacci series upto {} terms: \".format(n))\n",
    "    for i in range(n):\n",
    "            print(Fibonacci_recursive(i))\n"
   ]
  },
  {
   "cell_type": "code",
   "execution_count": null,
   "metadata": {},
   "outputs": [],
   "source": []
  }
 ],
 "metadata": {
  "interpreter": {
   "hash": "fb3892b00b79664a70d11c0a8e6958c6397afea78e7a3809587c8dd80409c80e"
  },
  "kernelspec": {
   "display_name": "Python 3.8.10 64-bit ('My_enviroment': conda)",
   "name": "python3"
  },
  "language_info": {
   "codemirror_mode": {
    "name": "ipython",
    "version": 3
   },
   "file_extension": ".py",
   "mimetype": "text/x-python",
   "name": "python",
   "nbconvert_exporter": "python",
   "pygments_lexer": "ipython3",
   "version": "3.8.10"
  },
  "orig_nbformat": 4
 },
 "nbformat": 4,
 "nbformat_minor": 2
}
