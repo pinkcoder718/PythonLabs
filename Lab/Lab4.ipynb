{
 "cells": [
  {
   "cell_type": "markdown",
   "id": "cc2e6955",
   "metadata": {},
   "source": [
    "<b>19BTRCR007 <br>\n",
    "Myil Vaughanan V L"
   ]
  },
  {
   "cell_type": "markdown",
   "id": "694ca797-6462-461c-a9fb-1f91584220dc",
   "metadata": {},
   "source": [
    "<b><h1> LAB PROGRAM 4: </h1></b> <br>"
   ]
  },
  {
   "cell_type": "markdown",
   "id": "4b59e1a6-69f9-4b1e-aa85-1bd2934cae37",
   "metadata": {},
   "source": [
    "Write Python Program\n",
    "\n",
    "\n",
    "a. To shuffle a deck of the cards using module random and draw 8 cards<br>\n",
    "b. To display calendar of selected month and year by a user<br>\n",
    "c. To solve the quadratic equation ax**2 + bx +c"
   ]
  },
  {
   "cell_type": "code",
   "execution_count": 1,
   "id": "31b85989-e9ee-4ecf-8309-bb49da6e63ef",
   "metadata": {},
   "outputs": [
    {
     "name": "stdout",
     "output_type": "stream",
     "text": [
      "1  of  Spade\n",
      "1  of  Heart\n",
      "1  of  Diamond\n",
      "1  of  Club\n",
      "2  of  Spade\n",
      "2  of  Heart\n",
      "2  of  Diamond\n",
      "2  of  Club\n",
      "3  of  Spade\n",
      "3  of  Heart\n",
      "3  of  Diamond\n",
      "3  of  Club\n",
      "4  of  Spade\n",
      "4  of  Heart\n",
      "4  of  Diamond\n",
      "4  of  Club\n",
      "5  of  Spade\n",
      "5  of  Heart\n",
      "5  of  Diamond\n",
      "5  of  Club\n",
      "6  of  Spade\n",
      "6  of  Heart\n",
      "6  of  Diamond\n",
      "6  of  Club\n",
      "7  of  Spade\n",
      "7  of  Heart\n",
      "7  of  Diamond\n",
      "7  of  Club\n",
      "8  of  Spade\n",
      "8  of  Heart\n",
      "8  of  Diamond\n",
      "8  of  Club\n",
      "9  of  Spade\n",
      "9  of  Heart\n",
      "9  of  Diamond\n",
      "9  of  Club\n",
      "10  of  Spade\n",
      "10  of  Heart\n",
      "10  of  Diamond\n",
      "10  of  Club\n",
      "11  of  Spade\n",
      "11  of  Heart\n",
      "11  of  Diamond\n",
      "11  of  Club\n",
      "12  of  Spade\n",
      "12  of  Heart\n",
      "12  of  Diamond\n",
      "12  of  Club\n",
      "13  of  Spade\n",
      "13  of  Heart\n",
      "13  of  Diamond\n",
      "13  of  Club\n"
     ]
    }
   ],
   "source": [
    "# to create a deck of products, use the product() from the itertools() module, \n",
    "# it performs cartesian product of the 2 sequences\n",
    "\n",
    "import itertools\n",
    "import random\n",
    "\n",
    "# making a deck of cards\n",
    "\n",
    "deck = list(itertools.product(range(1,14),['Spade','Heart','Diamond','Club']))\n",
    "\n",
    "for i in range(0,52):\n",
    "    print(deck[i][0], \" of \", deck[i][1])"
   ]
  },
  {
   "cell_type": "markdown",
   "id": "c7361f34-0534-4efb-a2f9-e8fcbf973ffd",
   "metadata": {},
   "source": [
    "<h3>a"
   ]
  },
  {
   "cell_type": "code",
   "execution_count": 19,
   "id": "e3468217-54f3-4d4e-9b17-f520e05324a1",
   "metadata": {},
   "outputs": [
    {
     "name": "stdout",
     "output_type": "stream",
     "text": [
      "You have received: \n",
      "12  of  Diamond\n",
      "13  of  Spade\n",
      "5  of  Club\n",
      "1  of  Spade\n",
      "2  of  Diamond\n",
      "10  of  Spade\n",
      "12  of  Club\n",
      "11  of  Club\n"
     ]
    }
   ],
   "source": [
    "# shuffle the cards\n",
    "\n",
    "random.shuffle(deck)\n",
    "\n",
    "# to draw 8 cards\n",
    "\n",
    "print(\"You have received: \")\n",
    "for i in range(8):\n",
    "    print(deck[i][0], \" of \", deck[i][1])"
   ]
  },
  {
   "cell_type": "markdown",
   "id": "bde7fc60-3526-4554-b792-65e6e78a2989",
   "metadata": {},
   "source": [
    "<h3>b"
   ]
  },
  {
   "cell_type": "code",
   "execution_count": 20,
   "id": "c30c69d9-2f99-4e66-9b39-01bcfec402b8",
   "metadata": {},
   "outputs": [
    {
     "name": "stdout",
     "output_type": "stream",
     "text": [
      "Enter year:  2021\n",
      "Enter month:[1-12]  11\n"
     ]
    },
    {
     "name": "stdout",
     "output_type": "stream",
     "text": [
      "   November 2021\n",
      "Mo Tu We Th Fr Sa Su\n",
      " 1  2  3  4  5  6  7\n",
      " 8  9 10 11 12 13 14\n",
      "15 16 17 18 19 20 21\n",
      "22 23 24 25 26 27 28\n",
      "29 30\n",
      "\n"
     ]
    }
   ],
   "source": [
    "import calendar\n",
    "\n",
    "yy = int(input(\"Enter year: \"))\n",
    "mm = int(input(\"Enter month:[1-12] \"))\n",
    "\n",
    "print(calendar.month(yy,mm))"
   ]
  },
  {
   "cell_type": "markdown",
   "id": "5ad529da-44ef-4fc3-9451-626334556a32",
   "metadata": {},
   "source": [
    "<h3>c"
   ]
  },
  {
   "cell_type": "code",
   "execution_count": 26,
   "id": "b616566d-8b0d-4e13-aa86-9e1d64faaa96",
   "metadata": {},
   "outputs": [
    {
     "name": "stdout",
     "output_type": "stream",
     "text": [
      "Enter a:  1\n",
      "Enter b:  5\n",
      "Enter c:  6\n"
     ]
    },
    {
     "name": "stdout",
     "output_type": "stream",
     "text": [
      "Roots are real and distinct\n",
      "The roots values are  -2.0   -3.0\n"
     ]
    }
   ],
   "source": [
    "import math\n",
    "\n",
    "a = float(input(\"Enter a: \"))\n",
    "b = float(input(\"Enter b: \"))\n",
    "c = float(input(\"Enter c: \"))\n",
    "\n",
    "discriminant = (b**2) - (4*a*c)\n",
    "\n",
    "if discriminant == 0:\n",
    "    print(\"Roots are equal\")\n",
    "    root1 = root2 = -b/(2*a)\n",
    "    print(\"The roots values are \", root1, \" \",root2)\n",
    "    \n",
    "elif discriminant > 0:\n",
    "    print(\"Roots are real and distinct\")\n",
    "    root1 = (-b+math.sqrt(discriminant))/(2*a)\n",
    "    root2 = (-b-math.sqrt(discriminant))/(2*a)\n",
    "    print(\"The roots values are \", root1, \" \",root2)\n",
    "    \n",
    "else:\n",
    "    print(\"Roots are imaginary\")\n",
    "    root1 = -b/(2*a)\n",
    "    root2 = math.sqrt(-discriminant)/(2*a)\n",
    "    print(\"The roots values are \", root1, \" \",root2)"
   ]
  }
 ],
 "metadata": {
  "kernelspec": {
   "display_name": "Python 3 (ipykernel)",
   "language": "python",
   "name": "python3"
  },
  "language_info": {
   "codemirror_mode": {
    "name": "ipython",
    "version": 3
   },
   "file_extension": ".py",
   "mimetype": "text/x-python",
   "name": "python",
   "nbconvert_exporter": "python",
   "pygments_lexer": "ipython3",
   "version": "3.8.12"
  }
 },
 "nbformat": 4,
 "nbformat_minor": 5
}
