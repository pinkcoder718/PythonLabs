{
 "cells": [
  {
   "cell_type": "code",
   "execution_count": 1,
   "metadata": {},
   "outputs": [],
   "source": [
    "#Importing the Matplotlib module as plt referece\n",
    "import matplotlib.pyplot as plt\n",
    "%matplotlib inline"
   ]
  },
  {
   "cell_type": "code",
   "execution_count": 7,
   "metadata": {},
   "outputs": [
    {
     "data": {
      "image/png": "[encoded data removed]",
      "text/plain": [
       "<Figure size 432x288 with 1 Axes>"
      ]
     },
     "metadata": {},
     "output_type": "display_data"
    }
   ],
   "source": [
    "#gca() : Get current axis\n",
    "rect = plt.Rectangle((0,0), 200,200,fc='r')\n",
    "plt.gca().add_patch(rect)\n",
    "\n",
    "rect1 = plt.Rectangle((50,50), 100,100,fc='w')\n",
    "plt.gca().add_patch(rect1)\n",
    "\n",
    "rect2 = plt.Rectangle((75,75), 50,50,fc='r')\n",
    "plt.gca().add_patch(rect2)\n",
    "\n",
    "plt.axis('scaled')\n",
    "plt.show()\n"
   ]
  },
  {
   "cell_type": "code",
   "execution_count": 20,
   "metadata": {},
   "outputs": [
    {
     "data": {
      "image/png": "[encoded data removed]",
      "text/plain": [
       "<Figure size 432x288 with 1 Axes>"
      ]
     },
     "metadata": {},
     "output_type": "display_data"
    }
   ],
   "source": [
    "plt.figure()\n",
    "plt.axis([0,25,25,0])\n",
    "curr = plt.gca()\n",
    "for i in range(0,5):\n",
    "    for j in range(0,5):\n",
    "                        if((i+j)%2==0):\n",
    "                            curr.add_patch(plt.Rectangle((i*5,j*5),5,5,fc='w'))\n",
    "                        else:\n",
    "                            curr.add_patch(plt.Rectangle((i*5,j*5),5,5,fc='k'))\n",
    "plt.show()"
   ]
  },
  {
   "cell_type": "code",
   "execution_count": null,
   "metadata": {},
   "outputs": [],
   "source": []
  }
 ],
 "metadata": {
  "kernelspec": {
   "display_name": "Python 3",
   "language": "python",
   "name": "python3"
  },
  "language_info": {
   "codemirror_mode": {
    "name": "ipython",
    "version": 3
   },
   "file_extension": ".py",
   "mimetype": "text/x-python",
   "name": "python",
   "nbconvert_exporter": "python",
   "pygments_lexer": "ipython3",
   "version": "3.6.5"
  }
 },
 "nbformat": 4,
 "nbformat_minor": 2
}
