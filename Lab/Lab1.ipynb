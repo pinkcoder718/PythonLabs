{
 "cells": [
  {
   "cell_type": "markdown",
   "metadata": {},
   "source": [
    "<b>19BTRCR007<br>\n",
    "Myil Vaughanan V L"
   ]
  },
  {
   "cell_type": "markdown",
   "metadata": {},
   "source": [
    "<b><h1> LAB PROGRAM 1: </h1></b> <br>\n",
    "Write and run a program <br> \n",
    "a. To eloborate variables and their data types such as int, float, boolean, string, list, set, dictionary and tuples; exchange of two values <br>\n",
    "b. To elaborate mathematical operations such as addition, subtraction, multiplication, division, modulo, and power; also explore the operator precedence. <br>"
   ]
  },
  {
   "cell_type": "markdown",
   "metadata": {},
   "source": [
    "<u><b><h1>Python Data Types</h1></u></b> <br>\n",
    "1. Numbers    : int, float, complex, <u>Long (discontinued from Python 3.x)</u><br>\n",
    "2. Strings    : Any value within the \" \" or ' ' is a String <br>\n",
    "3. Lists      : It is a collection of values which are mutable and are contained with [] <br>\n",
    "4. Tuples     : It is a collection of values which are immutable and are contained within () <br>\n",
    "5. Dictionary : Declared in key-value pairs which are contained within {} <br>\n",
    "6. Bool       : Can store either True or False <br>\n",
    "7. Sets       : It can have a list of unique values contained within {} <br>"
   ]
  },
  {
   "cell_type": "code",
   "execution_count": 1,
   "metadata": {},
   "outputs": [
    {
     "name": "stdout",
     "output_type": "stream",
     "text": [
      " Value of a =  7 \n",
      " Value of b =  7.9 \n",
      " Value of c =  (7+9j)\n",
      " Type of a =  <class 'int'>\n",
      " Type of b =  <class 'float'>\n",
      " Type of c =  <class 'complex'>\n"
     ]
    }
   ],
   "source": [
    "#Numeric data type\n",
    "a = 7\n",
    "b = 7.9\n",
    "c = 7+9j\n",
    "print(\" Value of a = \",a,\"\\n Value of b = \",b,\"\\n Value of c = \",c)\n",
    "print(\" Type of a = \",type(a))\n",
    "print(\" Type of b = \",type(b))\n",
    "print(\" Type of c = \",type(c))"
   ]
  },
  {
   "cell_type": "code",
   "execution_count": 2,
   "metadata": {},
   "outputs": [
    {
     "name": "stdout",
     "output_type": "stream",
     "text": [
      " Value of a =  Python\n",
      " Type of a =  <class 'str'>\n"
     ]
    }
   ],
   "source": [
    "#Strings\n",
    "a = \"Python\"\n",
    "print(\" Value of a = \",a)\n",
    "print(\" Type of a = \",type(a))"
   ]
  },
  {
   "cell_type": "code",
   "execution_count": 3,
   "metadata": {},
   "outputs": [
    {
     "name": "stdout",
     "output_type": "stream",
     "text": [
      " Value of a =  [1, 2, 'a']\n",
      " Type of a =  <class 'list'>\n"
     ]
    }
   ],
   "source": [
    "#lists\n",
    "a = [1,2,'a']\n",
    "print(\" Value of a = \",a)\n",
    "print(\" Type of a = \",type(a))"
   ]
  },
  {
   "cell_type": "code",
   "execution_count": 4,
   "metadata": {},
   "outputs": [
    {
     "name": "stdout",
     "output_type": "stream",
     "text": [
      " Value of a =  {1, 2, 3, 4, 5}\n",
      " Type of a =  <class 'set'>\n"
     ]
    }
   ],
   "source": [
    "#Set\n",
    "a = {1,2,3,3,4,5,5}\n",
    "print(\" Value of a = \",a)\n",
    "print(\" Type of a = \",type(a))"
   ]
  },
  {
   "cell_type": "code",
   "execution_count": 5,
   "metadata": {},
   "outputs": [
    {
     "name": "stdout",
     "output_type": "stream",
     "text": [
      " Value of a =  {'a': 7, 'b': 'Seven'}\n",
      " Type of a =  <class 'dict'>\n"
     ]
    }
   ],
   "source": [
    "#Dictionary\n",
    "a = {'a':7 , 'b':'Seven'}\n",
    "print(\" Value of a = \",a)\n",
    "print(\" Type of a = \",type(a))"
   ]
  },
  {
   "cell_type": "code",
   "execution_count": 6,
   "metadata": {},
   "outputs": [
    {
     "name": "stdout",
     "output_type": "stream",
     "text": [
      " Value of a =  False\n",
      " Type of a =  <class 'bool'>\n"
     ]
    }
   ],
   "source": [
    "#Bool\n",
    "a = 7>9\n",
    "print(\" Value of a = \",a)\n",
    "print(\" Type of a = \",type(a))"
   ]
  },
  {
   "cell_type": "code",
   "execution_count": 7,
   "metadata": {},
   "outputs": [
    {
     "name": "stdout",
     "output_type": "stream",
     "text": [
      " Value of a =  (1, 2, 3, 'Python')\n",
      " Type of a =  <class 'tuple'>\n"
     ]
    }
   ],
   "source": [
    "#Tuples\n",
    "a = (1,2,3,'Python')\n",
    "print(\" Value of a = \",a)\n",
    "print(\" Type of a = \",type(a))"
   ]
  },
  {
   "cell_type": "markdown",
   "metadata": {},
   "source": [
    "<u><b><h1>Swapping Variables</h1>"
   ]
  },
  {
   "cell_type": "code",
   "execution_count": 12,
   "metadata": {},
   "outputs": [
    {
     "name": "stdout",
     "output_type": "stream",
     "text": [
      "Before Swapping: a =  7 , b =  9\n",
      "After Swapping: a =  9 , b =  7\n"
     ]
    }
   ],
   "source": [
    "#Swapping two integer Values\n",
    "a = int(input(\"Enter first number\"))\n",
    "b = int(input(\"Enter second number\"))\n",
    "print(\"Before Swapping: a = \",a,\", b = \",b)\n",
    "a, b= b, a\n",
    "print(\"After Swapping: a = \",a,\", b = \",b)"
   ]
  },
  {
   "cell_type": "code",
   "execution_count": null,
   "metadata": {},
   "outputs": [
    {
     "name": "stdout",
     "output_type": "stream",
     "text": [
      "Before Swapping: a =  5.5 , b =  6.6\n",
      "After Swapping: a =  6.6 , b =  5.5\n"
     ]
    }
   ],
   "source": [
    "#Swapping two float Values\n",
    "a = float(input(\"Enter first number\"))\n",
    "b = float(input(\"Enter second number\"))\n",
    "print(\"Before Swapping: a = \",a,\", b = \",b)\n",
    "a, b= b, a\n",
    "print(\"After Swapping: a = \",a,\", b = \",b)"
   ]
  },
  {
   "cell_type": "code",
   "execution_count": null,
   "metadata": {},
   "outputs": [
    {
     "name": "stdout",
     "output_type": "stream",
     "text": [
      "Before Swapping: a =  MVVL , b =  LVMV\n",
      "After Swapping: a =  LVMV , b =  MVVL\n"
     ]
    }
   ],
   "source": [
    "#Swapping two String Values\n",
    "a = input(\"Enter first number\")\n",
    "b = input(\"Enter second number\")\n",
    "print(\"Before Swapping: a = \",a,\", b = \",b)\n",
    "a, b= b, a\n",
    "print(\"After Swapping: a = \",a,\", b = \",b)"
   ]
  },
  {
   "cell_type": "code",
   "execution_count": null,
   "metadata": {},
   "outputs": [
    {
     "name": "stdout",
     "output_type": "stream",
     "text": [
      "Before Swapping: a =  7.9 , b =  Myil\n",
      "After Swapping: a =  Myil , b =  7.9\n"
     ]
    }
   ],
   "source": [
    "#Swapping two variables of different type\n",
    "a = float(input(\"Enter first number\"))\n",
    "b = input(\"Enter second number\")\n",
    "print(\"Before Swapping: a = \",a,\", b = \",b)\n",
    "a, b= b, a\n",
    "print(\"After Swapping: a = \",a,\", b = \",b)"
   ]
  },
  {
   "cell_type": "markdown",
   "metadata": {},
   "source": [
    "<u><b><h1>Mathematical Operations in Python</h1>"
   ]
  },
  {
   "cell_type": "code",
   "execution_count": 11,
   "metadata": {},
   "outputs": [
    {
     "name": "stdout",
     "output_type": "stream",
     "text": [
      "Sum               =  16\n",
      "Difference        =  -2\n",
      "Product           =  63\n",
      "Quotient          =  0.7777777777777778\n",
      "Remainder         =  7\n",
      "Floor Division    =  0\n",
      "7 to the power of 9= 40353607\n"
     ]
    }
   ],
   "source": [
    "a = int(input(\"Enter first number\"))\n",
    "b = int(input(\"Enter second number\"))\n",
    "print(\"Sum               = \",a+b)\n",
    "print(\"Difference        = \",a-b)\n",
    "print(\"Product           = \",a*b)\n",
    "print(\"Quotient          = \",a/b)\n",
    "print(\"Remainder         = \",a%b)   \n",
    "print(\"Floor Division    = \",a//b)\n",
    "print(\"{} to the power of {}= {}\".format(a,b,a**b))    \n"
   ]
  },
  {
   "cell_type": "markdown",
   "metadata": {},
   "source": [
    "<u><b><h1>Operator Precedence in Python</h1></u></b>\n",
    "<table border=\"5\">\n",
    "<tr>\n",
    "    <th>operator</th>\n",
    "    <th> meaning</th>\n",
    "</tr>\n",
    "    \n",
    "<tr>\n",
    "    <td>()</td>\n",
    "    <td>Parantheses</td>\n",
    "</tr>\n",
    "    <tr>\n",
    "    <td>+x, -x, ~x</td>\n",
    "    <td>Unary plus, Unary minus, Bitwise NOT</td>\n",
    "    </tr>\n",
    "    <tr>\n",
    "    <td>*, /, //, %</td>\n",
    "    <td>Multiplication, Division, Floor division, Modulus</td>\n",
    "    </tr>\n",
    "    <tr>\n",
    "    <td>+, -</td>\n",
    "    <td>Addition, Subtraction</td>\n",
    "    </tr>\n",
    "    <tr>\n",
    "    <td><<, >></td>\n",
    "    <td>Bitwise shift operators</td>\n",
    "    </tr>\n",
    "    <tr>\n",
    "    <td>&</td>\n",
    "    <td>Bitwise AND</td>\n",
    "    </tr>\n",
    "    <tr>\n",
    "    <td>^</td>\n",
    "    <td>Bitwise XOR</td>\n",
    "    </tr>\n",
    "    <tr>\n",
    "    <td>|</td>\n",
    "    <td>Bitwise OR</td>\n",
    "    </tr>\n",
    "    <tr>\n",
    "    <td>==, !=, >, >=, <, <=, is, is not, in, not in</td>\n",
    "    <td>Comparisons, Identity, Membership operators</td>\n",
    "    </tr>\n",
    "    <tr>\n",
    "    <td>not</td>\n",
    "    <td>Logical NOT</td>\n",
    "    </tr>\n",
    "    <tr>\n",
    "    <td>and</td>\n",
    "    <td>Logical AND</td>\n",
    "    </tr>\n",
    "    <tr>\n",
    "    <td>or</td>\n",
    "    <td>Logical OR</td>\n",
    "    </tr>\n",
    "</table>"
   ]
  },
  {
   "cell_type": "code",
   "execution_count": 10,
   "metadata": {},
   "outputs": [
    {
     "name": "stdout",
     "output_type": "stream",
     "text": [
      "24.75\n",
      "False\n",
      "16377.25\n"
     ]
    }
   ],
   "source": [
    "a, b, c = 4,7,9\n",
    "print((a+b)*c/a)     # BODMAS\n",
    "print(False or not True and True)  # not --> and --> or precedence   what else can be done? \n",
    "print(a**b +(a-b)*c/a ) # PEDMAS or PEMDAS"
   ]
  },
  {
   "cell_type": "code",
   "execution_count": null,
   "metadata": {},
   "outputs": [],
   "source": []
  }
 ],
 "metadata": {
  "interpreter": {
   "hash": "fb3892b00b79664a70d11c0a8e6958c6397afea78e7a3809587c8dd80409c80e"
  },
  "kernelspec": {
   "display_name": "Python 3.8.10 64-bit ('My_enviroment': conda)",
   "name": "python3"
  },
  "language_info": {
   "codemirror_mode": {
    "name": "ipython",
    "version": 3
   },
   "file_extension": ".py",
   "mimetype": "text/x-python",
   "name": "python",
   "nbconvert_exporter": "python",
   "pygments_lexer": "ipython3",
   "version": "3.8.10"
  },
  "orig_nbformat": 4
 },
 "nbformat": 4,
 "nbformat_minor": 2
}
