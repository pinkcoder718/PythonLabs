{
 "cells": [
  {
   "cell_type": "markdown",
   "source": [
    "<b>19BTRCR007 <br>\r\n",
    "Myil Vaughanan V L"
   ],
   "metadata": {}
  },
  {
   "cell_type": "markdown",
   "source": [
    "<b><h1> LAB PROGRAM 5: </h1></b> <br>\r\n",
    "Write python program to elaborate strings such as\r\n",
    "<br>1. String declaration, traversing, slicing, concatenating, and sorting in a list.\r\n",
    "<br>2. To check whether a string is palindrome or not; to remove punctuations from a string. <br>"
   ],
   "metadata": {}
  },
  {
   "cell_type": "code",
   "execution_count": 9,
   "source": [
    "#String declaration\r\n",
    "my_string = 'Hello'\r\n",
    "print(my_string)\r\n",
    "\r\n",
    "my_string = \"Hello\"\r\n",
    "print(my_string)\r\n",
    "\r\n",
    "# triple quotes string can extend multiple lines\r\n",
    "my_string = \"\"\"Hello, welcome to\r\n",
    "           the string in Python\r\n",
    "                        Fifth Sem Data Science Students\"\"\"\r\n",
    "print(my_string)\r\n",
    "\r\n"
   ],
   "outputs": [
    {
     "output_type": "stream",
     "name": "stdout",
     "text": [
      "Hello\n",
      "Hello\n",
      "Hello, welcome to\n",
      "           the string in Python\n",
      "                        Fifth Sem Data Science Students\n"
     ]
    }
   ],
   "metadata": {}
  },
  {
   "cell_type": "code",
   "execution_count": 10,
   "source": [
    "#traversing through a string\r\n",
    "a = 'Myil'\r\n",
    "for x in a:\r\n",
    "    print(x)"
   ],
   "outputs": [
    {
     "output_type": "stream",
     "name": "stdout",
     "text": [
      "M\n",
      "y\n",
      "i\n",
      "l\n"
     ]
    }
   ],
   "metadata": {}
  },
  {
   "cell_type": "code",
   "execution_count": 3,
   "source": [
    "#Slicing of string\r\n",
    "a[0:2]"
   ],
   "outputs": [
    {
     "output_type": "execute_result",
     "data": {
      "text/plain": [
       "'My'"
      ]
     },
     "metadata": {},
     "execution_count": 3
    }
   ],
   "metadata": {}
  },
  {
   "cell_type": "code",
   "execution_count": 4,
   "source": [
    "#Concatinating 2 strings\r\n",
    "b = 'Vaughanan'\r\n",
    "a+b"
   ],
   "outputs": [
    {
     "output_type": "execute_result",
     "data": {
      "text/plain": [
       "'MyilVaughanan'"
      ]
     },
     "metadata": {},
     "execution_count": 4
    }
   ],
   "metadata": {}
  },
  {
   "cell_type": "code",
   "execution_count": 7,
   "source": [
    "#sorting strings in a List\r\n",
    "c = ['Myil', 'Mithun', 'Messi', 'Ronaldo', 'Sunaina', 'Rishabh', 'Naveen']\r\n",
    "c.sort()\r\n",
    "c"
   ],
   "outputs": [
    {
     "output_type": "execute_result",
     "data": {
      "text/plain": [
       "['Messi', 'Mithun', 'Myil', 'Naveen', 'Rishabh', 'Ronaldo', 'Sunaina']"
      ]
     },
     "metadata": {},
     "execution_count": 7
    }
   ],
   "metadata": {}
  },
  {
   "cell_type": "code",
   "execution_count": 11,
   "source": [
    "#sorting strings in a Tuple\r\n",
    "c = ('Myil', 'Mithun', 'Messi', 'Ronaldo', 'Sunaina', 'Rishabh', 'Naveen')\r\n",
    "c = sorted(c)\r\n",
    "print(c)"
   ],
   "outputs": [
    {
     "output_type": "stream",
     "name": "stdout",
     "text": [
      "['Messi', 'Mithun', 'Myil', 'Naveen', 'Rishabh', 'Ronaldo', 'Sunaina']\n"
     ]
    }
   ],
   "metadata": {}
  },
  {
   "cell_type": "code",
   "execution_count": 13,
   "source": [
    "#sorting a string\r\n",
    "d = \"I am a Data Science Student\"\r\n",
    "words = d.split() #To split each word of the strings into the list format\r\n",
    "words.sort()\r\n",
    "words"
   ],
   "outputs": [
    {
     "output_type": "execute_result",
     "data": {
      "text/plain": [
       "['Data', 'I', 'Science', 'Student', 'a', 'am']"
      ]
     },
     "metadata": {},
     "execution_count": 13
    }
   ],
   "metadata": {}
  },
  {
   "cell_type": "code",
   "execution_count": 19,
   "source": [
    "#to check if the given String is a palindrome\r\n",
    "input_str = input(\"Enter the word for which you want to check it is palindrome\")\r\n",
    "rev_str = input_str[::-1]\r\n",
    "if(input_str == rev_str):\r\n",
    "    print(\"Palindrome\")\r\n",
    "else:\r\n",
    "    print(\"Not a Palindrome\")\r\n",
    "print(\"the Input String is: {} and the Reversed String is: {}\".format(input_str,rev_str))"
   ],
   "outputs": [
    {
     "output_type": "stream",
     "name": "stdout",
     "text": [
      "Not a Palindrome\n",
      "the Input String is: Myil and the Reversed String is: liyM\n"
     ]
    }
   ],
   "metadata": {}
  },
  {
   "cell_type": "code",
   "execution_count": 21,
   "source": [
    "#to remove the punctuations from a string\r\n",
    "punctuations = '''!()-[]{};:'\"\\,<>./?@#$%^&*_~'''\r\n",
    "input_str = input(\"Enter the string\")\r\n",
    "out_str = \"\"\r\n",
    "for x in input_str:\r\n",
    "    if x not in punctuations:\r\n",
    "        out_str = out_str + x\r\n",
    "print(\"Input String is: \",input_str)\r\n",
    "print(\"Punctuation-LESS String is: \",out_str) "
   ],
   "outputs": [
    {
     "output_type": "stream",
     "name": "stdout",
     "text": [
      "Input String is:  I am Myil Vaughanan, Student of Data Science.\n",
      "Punctuation-LESS String is:  I am Myil Vaughanan Student of Data Science\n"
     ]
    }
   ],
   "metadata": {}
  }
 ],
 "metadata": {
  "orig_nbformat": 4,
  "language_info": {
   "name": "python",
   "version": "3.8.10",
   "mimetype": "text/x-python",
   "codemirror_mode": {
    "name": "ipython",
    "version": 3
   },
   "pygments_lexer": "ipython3",
   "nbconvert_exporter": "python",
   "file_extension": ".py"
  },
  "kernelspec": {
   "name": "python3",
   "display_name": "Python 3.8.10 64-bit ('My_enviroment': conda)"
  },
  "interpreter": {
   "hash": "fb3892b00b79664a70d11c0a8e6958c6397afea78e7a3809587c8dd80409c80e"
  }
 },
 "nbformat": 4,
 "nbformat_minor": 2
}