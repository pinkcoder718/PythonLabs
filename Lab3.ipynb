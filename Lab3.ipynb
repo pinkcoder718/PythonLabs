{
 "cells": [
  {
   "cell_type": "markdown",
   "source": [
    "<b>19BTRCR007 <br>\r\n",
    "Myil Vaughanan V L"
   ],
   "metadata": {}
  },
  {
   "cell_type": "markdown",
   "source": [
    "<b><h1> LAB PROGRAM 3: </h1></b> <br>\r\n",
    "Write and run a program <br> \r\n",
    "a. To print all prime numbers in a series <br>\r\n",
    "b. To find largest among three numbers, input by user <br>\r\n",
    "c. To find HCF for two numbers, input by user"
   ],
   "metadata": {}
  },
  {
   "cell_type": "code",
   "execution_count": 3,
   "source": [
    "#a Prime Numbers (Series)\r\n",
    "lower = int(input(\"Enter the number from which you want to find the Prime Numbers\"))\r\n",
    "upper = int(input(\"Enter the number upto which you want to find the Prime Numbers\"))\r\n",
    "\r\n",
    "print(\"Prime numbers between\", lower, \"and\", upper, \"are:\")\r\n",
    "\r\n",
    "for num in range(lower, upper + 1):\r\n",
    "   if num > 1:\r\n",
    "       for i in range(2, num):\r\n",
    "           if (num % i) == 0:\r\n",
    "               break\r\n",
    "       else:\r\n",
    "           print(num)\r\n"
   ],
   "outputs": [
    {
     "output_type": "stream",
     "name": "stdout",
     "text": [
      "Prime numbers between 2 and 10 are:\n",
      "2\n",
      "3\n",
      "5\n",
      "7\n"
     ]
    }
   ],
   "metadata": {}
  },
  {
   "cell_type": "code",
   "execution_count": 33,
   "source": [
    "#a Check whether a number is a Prime Number (METHOD 1: iterating upto n elements)\r\n",
    "num = int(input(\"Enter the number to check if it is a Prime Number\"))\r\n",
    "if num > 1:\r\n",
    "    for i in range(2,num):\r\n",
    "       if (num % i) == 0:\r\n",
    "           print(num,\"is not a prime number\")\r\n",
    "           print(i,\"times\",num//i,\"is\",num)\r\n",
    "           break\r\n",
    "    else:\r\n",
    "       print(num,\"is a prime number\")\r\n",
    "       \r\n",
    "else:\r\n",
    "   print(num,\"is not a prime number\")\r\n"
   ],
   "outputs": [
    {
     "output_type": "stream",
     "name": "stdout",
     "text": [
      "505050 is not a prime number\n",
      "2 times 252525 is 505050\n"
     ]
    }
   ],
   "metadata": {}
  },
  {
   "cell_type": "code",
   "execution_count": 36,
   "source": [
    "#a Check whether a number is a Prime Number (METHOD 2: iterating upto n/2 elements)\r\n",
    "num = int(input(\"Enter the number to check if it is a Prime Number\"))\r\n",
    "if num > 1:\r\n",
    "    for i in range(2,(num//2)+1):\r\n",
    "       if (num % i) == 0:\r\n",
    "           print(num,\"is not a prime number\")\r\n",
    "           print(i,\"times\",num//i,\"is\",num)\r\n",
    "           break\r\n",
    "    else:\r\n",
    "       print(num,\"is a prime number\")\r\n",
    "       \r\n",
    "else:\r\n",
    "   print(num,\"is not a prime number\")\r\n"
   ],
   "outputs": [
    {
     "output_type": "stream",
     "name": "stdout",
     "text": [
      "505050 is not a prime number\n",
      "2 times 252525 is 505050\n"
     ]
    }
   ],
   "metadata": {}
  },
  {
   "cell_type": "code",
   "execution_count": 37,
   "source": [
    "#a Check whether a number is a Prime Number (METHOD 3: iterating upto square root n elements)\r\n",
    "import math\r\n",
    "num = int(input(\"Enter the number to check if it is a Prime Number\"))\r\n",
    "if num > 1:\r\n",
    "    for i in range(2,math.floor(math.sqrt(num))+1):\r\n",
    "       if (num % i) == 0:\r\n",
    "           print(num,\"is not a prime number\")\r\n",
    "           print(i,\"times\",num//i,\"is\",num)\r\n",
    "           break\r\n",
    "    else:\r\n",
    "       print(num,\"is a prime number\")\r\n",
    "       \r\n",
    "else:\r\n",
    "   print(num,\"is not a prime number\")"
   ],
   "outputs": [
    {
     "output_type": "stream",
     "name": "stdout",
     "text": [
      "505050 is not a prime number\n",
      "2 times 252525 is 505050\n"
     ]
    }
   ],
   "metadata": {}
  },
  {
   "cell_type": "code",
   "execution_count": 24,
   "source": [
    "#b Finding Greatest of 3 numbers\r\n",
    "a = int(input(\"Number 1 =>\"))\r\n",
    "b = int(input(\"Number 2 =>\"))\r\n",
    "c = int(input(\"Number 3 =>\"))\r\n",
    "\r\n",
    "if (a >= b) and (a >= c):\r\n",
    "    largest = a\r\n",
    "elif (b >= a) and (b >= c):\r\n",
    "    largest = b\r\n",
    "else:\r\n",
    "    largest = c\r\n",
    "\r\n",
    "print('The largest number = ', largest)\r\n"
   ],
   "outputs": [
    {
     "output_type": "stream",
     "name": "stdout",
     "text": [
      "The largest number =  30\n"
     ]
    }
   ],
   "metadata": {}
  },
  {
   "cell_type": "code",
   "execution_count": 28,
   "source": [
    "#c Finding GCD (Loop method)\r\n",
    "\r\n",
    "x = int(input(\"Enter 1st number: \"))\r\n",
    "y = int(input(\"Enter 2nd number: \"))\r\n",
    "a, b = x, y\r\n",
    "while(x!=y):\r\n",
    "    if(x > y):\r\n",
    "        x = x-y\r\n",
    "    else:\r\n",
    "        y = y-x\r\n",
    "\r\n",
    "print(\"GCD of the given two numbers {} and {} is {}\".format(a,b,x))"
   ],
   "outputs": [
    {
     "output_type": "stream",
     "name": "stdout",
     "text": [
      "GCD of the given two numbers 10 and 20 is 10\n"
     ]
    }
   ],
   "metadata": {}
  },
  {
   "cell_type": "code",
   "execution_count": 32,
   "source": [
    "#c Finding GCD (recursion method)\r\n",
    "def hcf(x,y): #math.gcd is a existing method so we can't use gcd() as a user defined function name\r\n",
    "    if y == 0:\r\n",
    "        return x\r\n",
    "    else:\r\n",
    "        return hcf(x, x%y)\r\n",
    "\r\n",
    "x = int(input(\"Enter the 1st number: \"))\r\n",
    "y = int(input(\"Enter the 2nd number: \"))\r\n",
    "print(\"The GCD of {} and {} is {}\".format(x,y,hcf(x,y)))"
   ],
   "outputs": [
    {
     "output_type": "stream",
     "name": "stdout",
     "text": [
      "The GCD of 10 and 20 is 10\n"
     ]
    }
   ],
   "metadata": {}
  }
 ],
 "metadata": {
  "orig_nbformat": 4,
  "language_info": {
   "name": "python",
   "version": "3.8.10",
   "mimetype": "text/x-python",
   "codemirror_mode": {
    "name": "ipython",
    "version": 3
   },
   "pygments_lexer": "ipython3",
   "nbconvert_exporter": "python",
   "file_extension": ".py"
  },
  "kernelspec": {
   "name": "python3",
   "display_name": "Python 3.8.10 64-bit ('My_enviroment': conda)"
  },
  "interpreter": {
   "hash": "fb3892b00b79664a70d11c0a8e6958c6397afea78e7a3809587c8dd80409c80e"
  }
 },
 "nbformat": 4,
 "nbformat_minor": 2
}