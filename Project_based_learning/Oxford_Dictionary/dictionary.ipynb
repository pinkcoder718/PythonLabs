{
 "cells": [
  {
   "cell_type": "markdown",
   "metadata": {},
   "source": [
    "<h2>English Dictionary - Word Definer"
   ]
  },
  {
   "cell_type": "markdown",
   "metadata": {},
   "source": [
    "A simple CUI based JSON file extractor to find the meaning of the english word entered present in the Oxford English Dictionary "
   ]
  },
  {
   "cell_type": "code",
   "execution_count": 1,
   "metadata": {},
   "outputs": [],
   "source": [
    "import numpy as np\n",
    "import pandas as pd\n",
    "from difflib import get_close_matches"
   ]
  },
  {
   "cell_type": "code",
   "execution_count": 2,
   "metadata": {},
   "outputs": [
    {
     "name": "stdout",
     "output_type": "stream",
     "text": [
      "<class 'pandas.core.frame.DataFrame'>\n",
      "RangeIndex: 58766 entries, 0 to 58765\n",
      "Data columns (total 4 columns):\n",
      " #   Column      Non-Null Count  Dtype \n",
      "---  ------      --------------  ----- \n",
      " 0   _id         58766 non-null  object\n",
      " 1   word        58766 non-null  object\n",
      " 2   definition  58766 non-null  object\n",
      " 3   __v         58766 non-null  int64 \n",
      "dtypes: int64(1), object(3)\n",
      "memory usage: 1.8+ MB\n"
     ]
    }
   ],
   "source": [
    "data = pd.read_json('dicts.json')\n",
    "data.info()"
   ]
  },
  {
   "cell_type": "code",
   "execution_count": 3,
   "metadata": {},
   "outputs": [
    {
     "name": "stdout",
     "output_type": "stream",
     "text": [
      "RangeIndex(start=0, stop=58766, step=1)\n",
      "Index(['_id', 'word', 'definition', '__v'], dtype='object')\n"
     ]
    }
   ],
   "source": [
    "print(data.index)\n",
    "print(data.columns)"
   ]
  },
  {
   "cell_type": "code",
   "execution_count": 4,
   "metadata": {},
   "outputs": [],
   "source": [
    "all_words = list(data.word)"
   ]
  },
  {
   "cell_type": "code",
   "execution_count": 5,
   "metadata": {},
   "outputs": [],
   "source": [
    "def translate(word):\n",
    "    nw = word.upper()\n",
    "    if nw in all_words:\n",
    "        def_word = data[data.word == nw].definition.item()\n",
    "        return def_word\n",
    "\n",
    "    elif len(get_close_matches(nw , data.word)) > 0 :\n",
    "        print(\"did you mean %s instead\" %get_close_matches(nw, data.word)[0])\n",
    "        decide = input(\"press y for yes or n for no\")\n",
    "        if decide == \"y\":\n",
    "            def_word = data[data.word == get_close_matches(nw , data.word)[0]].definition.item()\n",
    "            return def_word\n",
    "        elif decide == \"n\":\n",
    "            return(\"Sorry then your word doesn't exist in this dictionary\")\n",
    "        else:\n",
    "            return(\"You have entered wrong input please enter just y or n\")\n",
    "    \n",
    "    else:\n",
    "        print(\"Sorry!\")"
   ]
  },
  {
   "cell_type": "code",
   "execution_count": 6,
   "metadata": {},
   "outputs": [],
   "source": [
    "word = input(\"Enter the word you want to search: \")\n",
    "word = word.upper()"
   ]
  },
  {
   "cell_type": "code",
   "execution_count": 7,
   "metadata": {},
   "outputs": [
    {
     "name": "stdout",
     "output_type": "stream",
     "text": [
      "Word entered: LAUREATE \n",
      "\n",
      "Meaning:\n",
      " Crowned, or decked, with laurel. Chaucer.To strew the laureate hearse where Lycid lies. Milton.Soft on her lap her laureate son reclines. Pope.Poet laureate. (b) One who received an honorable degree in grammar,including poetry and rhetoric, at the English universities; -- socalled as being presented with a wreath of laurel. [Obs.] (b)Formerly, an officer of the king's household, whose business was tocompose an ode annually for the king's birthday, and other suitableoccasions; now, a poet officially distinguished by such honorarytitle, the office being a sinecure. It is said this title was firstgiven in the time of Edward IV. [Eng.]\n"
     ]
    }
   ],
   "source": [
    "output = translate(word)\n",
    "print(\"Word entered:\",word,\"\\n\")\n",
    "print(\"Meaning:\\n\",output)"
   ]
  }
 ],
 "metadata": {
  "interpreter": {
   "hash": "7fea7620c0336ee420c92a2a2fccd6329016de0678b74e3fbcc0a0d230594f8e"
  },
  "kernelspec": {
   "display_name": "Python 3.8.10 64-bit",
   "language": "python",
   "name": "python3"
  },
  "language_info": {
   "codemirror_mode": {
    "name": "ipython",
    "version": 3
   },
   "file_extension": ".py",
   "mimetype": "text/x-python",
   "name": "python",
   "nbconvert_exporter": "python",
   "pygments_lexer": "ipython3",
   "version": "3.8.10"
  },
  "orig_nbformat": 4
 },
 "nbformat": 4,
 "nbformat_minor": 2
}
