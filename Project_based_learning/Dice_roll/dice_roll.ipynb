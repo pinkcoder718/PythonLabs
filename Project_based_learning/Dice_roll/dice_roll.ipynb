{
 "cells": [
  {
   "cell_type": "markdown",
   "metadata": {},
   "source": [
    "<h2>Dice Simulator (CUI Interface)"
   ]
  },
  {
   "cell_type": "markdown",
   "metadata": {},
   "source": [
    "This is a beginner friendly project, that makes use of the random module in order to generate random numbers from 1-6 just like a dice would and displays the output in the form of the face of the dice which showes the number of dots as per the number generated"
   ]
  },
  {
   "cell_type": "code",
   "execution_count": null,
   "metadata": {},
   "outputs": [],
   "source": [
    "import random"
   ]
  },
  {
   "cell_type": "code",
   "execution_count": null,
   "metadata": {},
   "outputs": [],
   "source": [
    "print(\"This is a dice stimulator\")\n",
    "x = \"y\""
   ]
  },
  {
   "cell_type": "code",
   "execution_count": null,
   "metadata": {},
   "outputs": [],
   "source": [
    "while x == \"y\":\n",
    "    number = random.randint(1,6)\n",
    "\n",
    "    if number == 1:\n",
    "        print(\"----------\")\n",
    "        print(\"|        |\")\n",
    "        print(\"|    O   |\")\n",
    "        print(\"|        |\")\n",
    "        print(\"----------\")\n",
    "\n",
    "    if number == 2:\n",
    "        print(\"----------\")\n",
    "        print(\"|        |\")\n",
    "        print(\"| O    O |\")\n",
    "        print(\"|        |\")\n",
    "        print(\"----------\")\n",
    "\n",
    "    if number == 3:\n",
    "        print(\"----------\")\n",
    "        print(\"|    O   |\")\n",
    "        print(\"|    O   |\")\n",
    "        print(\"|    O   |\")\n",
    "        print(\"----------\")\n",
    "\n",
    "    if number == 4:\n",
    "        print(\"----------\")\n",
    "        print(\"| O    O |\")\n",
    "        print(\"|        |\")\n",
    "        print(\"| O    O |\")\n",
    "        print(\"----------\")\n",
    "\n",
    "    if number == 5:\n",
    "        print(\"----------\")\n",
    "        print(\"| O    O |\")\n",
    "        print(\"|    O   |\")\n",
    "        print(\"| O    O |\")\n",
    "        print(\"----------\")\n",
    "    \n",
    "    if number == 6:\n",
    "        print(\"----------\")\n",
    "        print(\"| O    O |\")\n",
    "        print(\"| O    O |\")\n",
    "        print(\"| O    O |\")\n",
    "        print(\"----------\")\n",
    "    \n",
    "    x = input(\"Press y to roll again\")"
   ]
  }
 ],
 "metadata": {
  "interpreter": {
   "hash": "7fea7620c0336ee420c92a2a2fccd6329016de0678b74e3fbcc0a0d230594f8e"
  },
  "kernelspec": {
   "display_name": "Python 3.8.10 64-bit",
   "language": "python",
   "name": "python3"
  },
  "language_info": {
   "codemirror_mode": {
    "name": "ipython",
    "version": 3
   },
   "file_extension": ".py",
   "mimetype": "text/x-python",
   "name": "python",
   "nbconvert_exporter": "python",
   "pygments_lexer": "ipython3",
   "version": "3.8.10"
  },
  "orig_nbformat": 4
 },
 "nbformat": 4,
 "nbformat_minor": 2
}
