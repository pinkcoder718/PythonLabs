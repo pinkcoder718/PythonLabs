{
 "cells": [
  {
   "cell_type": "markdown",
   "metadata": {},
   "source": [
    "<b>19BTRCR007 <br>\n",
    "Myil Vaughanan V L"
   ]
  },
  {
   "cell_type": "markdown",
   "metadata": {},
   "source": [
    "<b><h1> LAB PROGRAM 7: </h1></b> <br>\n",
    "Write and run a program:<br> \n",
    "a. To find the addition of two matrices<br>\n",
    "b. To find the product of two matrices<br>\n",
    "c. To find the transpose of a matrix"
   ]
  },
  {
   "cell_type": "code",
   "execution_count": 2,
   "metadata": {},
   "outputs": [],
   "source": [
    "import numpy as np"
   ]
  },
  {
   "cell_type": "code",
   "execution_count": 14,
   "metadata": {},
   "outputs": [
    {
     "name": "stdout",
     "output_type": "stream",
     "text": [
      "ndarray A:\n",
      " [[1 2]\n",
      " [3 4]]\n",
      "ndarray B:\n",
      " [[5 6]\n",
      " [7 8]]\n",
      "Addition of two ndarray: \n",
      "[[ 6  8]\n",
      " [10 12]]\n"
     ]
    }
   ],
   "source": [
    "#a Addition of two matrices\n",
    "\n",
    "#using array\n",
    "a=np.array([[1,2],[3,4]])\n",
    "b=np.array([[5,6],[7,8]])\n",
    "print(\"ndarray A:\\n\",a)\n",
    "print(\"ndarray B:\\n\",b)\n",
    "print (\"Addition of two ndarray: \")\n",
    "print (np.add(a,b)) # we can also use a+b\n"
   ]
  },
  {
   "cell_type": "code",
   "execution_count": 15,
   "metadata": {},
   "outputs": [
    {
     "name": "stdout",
     "output_type": "stream",
     "text": [
      "Matrix A:\n",
      " [[1 2]\n",
      " [3 4]]\n",
      "Matrix B:\n",
      " [[5 6]\n",
      " [7 8]]\n",
      "Addition of two matrices: \n",
      "[[ 6  8]\n",
      " [10 12]]\n"
     ]
    }
   ],
   "source": [
    "#using matrix\n",
    "a=np.matrix(((1,2),(3,4)))\n",
    "b=np.matrix(((5,6),(7,8)))\n",
    "print(\"Matrix A:\\n\",a)\n",
    "print(\"Matrix B:\\n\",b)\n",
    "print (\"Addition of two matrices: \")\n",
    "print (np.add(a,b))"
   ]
  },
  {
   "cell_type": "code",
   "execution_count": 7,
   "metadata": {},
   "outputs": [
    {
     "name": "stdout",
     "output_type": "stream",
     "text": [
      "Matrix A:\n",
      " [[1 2]\n",
      " [3 4]]\n",
      "Matrix B:\n",
      " [[5 6]\n",
      " [7 8]]\n",
      "Hadammard Multiplication of two matrices: \n",
      "[[ 5 12]\n",
      " [21 32]]\n"
     ]
    }
   ],
   "source": [
    "#b Hadammard Multiplication\n",
    "\n",
    "#using array\n",
    "a=np.array([[1,2],[3,4]])\n",
    "b=np.array([[5,6],[7,8]])\n",
    "print(\"ndarray A:\\n\",a)\n",
    "print(\"ndarray B:\\n\",b)\n",
    "print (\"Hadammard Multiplication of two ndarrays: \")\n",
    "print (np.multiply(a,b))"
   ]
  },
  {
   "cell_type": "code",
   "execution_count": 16,
   "metadata": {},
   "outputs": [
    {
     "name": "stdout",
     "output_type": "stream",
     "text": [
      "Matrix A:\n",
      " [[1 2]\n",
      " [3 4]]\n",
      "Matrix B:\n",
      " [[5 6]\n",
      " [7 8]]\n",
      "Hadammard Multiplication of two matrices: \n",
      "[[ 5 12]\n",
      " [21 32]]\n"
     ]
    }
   ],
   "source": [
    "#using matrix\n",
    "a=np.matrix(((1,2),(3,4)))\n",
    "b=np.matrix(((5,6),(7,8)))\n",
    "print(\"Matrix A:\\n\",a)\n",
    "print(\"Matrix B:\\n\",b)\n",
    "print (\"Hadammard Multiplication of two matrices: \")\n",
    "print (np.multiply(a,b))"
   ]
  },
  {
   "cell_type": "code",
   "execution_count": 21,
   "metadata": {},
   "outputs": [
    {
     "name": "stdout",
     "output_type": "stream",
     "text": [
      "ndarray A:\n",
      " [[1 2]\n",
      " [3 4]]\n",
      "ndarray B:\n",
      " [[5 6]\n",
      " [7 8]]\n",
      "Multiplication of two ndarrays: \n",
      "[[19 22]\n",
      " [43 50]]\n"
     ]
    }
   ],
   "source": [
    "#b Normal Dot product\n",
    "\n",
    "#using arrays\n",
    "a=np.array([[1,2],[3,4]])\n",
    "b=np.array([[5,6],[7,8]])\n",
    "print(\"ndarray A:\\n\",a)\n",
    "print(\"ndarray B:\\n\",b)\n",
    "print (\"Multiplication of two ndarrays: \")\n",
    "print (np.dot(a,b))"
   ]
  },
  {
   "cell_type": "code",
   "execution_count": 18,
   "metadata": {},
   "outputs": [
    {
     "name": "stdout",
     "output_type": "stream",
     "text": [
      "Matrix A:\n",
      " [[1 2]\n",
      " [3 4]]\n",
      "Matrix B:\n",
      " [[5 6]\n",
      " [7 8]]\n",
      "Multiplication of two matrices: \n",
      "[[19 22]\n",
      " [43 50]]\n"
     ]
    }
   ],
   "source": [
    "#using matrix\n",
    "a=np.matrix(((1,2),(3,4)))\n",
    "b=np.matrix(((5,6),(7,8)))\n",
    "print(\"Matrix A:\\n\",a)\n",
    "print(\"Matrix B:\\n\",b)\n",
    "print (\"Multiplication of two matrices: \")\n",
    "print (np.dot(a,b))"
   ]
  },
  {
   "cell_type": "code",
   "execution_count": 19,
   "metadata": {},
   "outputs": [
    {
     "name": "stdout",
     "output_type": "stream",
     "text": [
      "Given ndarray is:\n",
      " [[1 2]\n",
      " [3 4]]\n",
      "Transpose of the given ndarray is:\n",
      " [[1 3]\n",
      " [2 4]]\n"
     ]
    }
   ],
   "source": [
    "#c Transpose of the matrix\n",
    "\n",
    "#using arrays\n",
    "a=np.array([[1,2],[3,4]])\n",
    "print(\"Given ndarray is:\\n\",a)\n",
    "print(\"Transpose of the given ndarray is:\\n\",a.T)"
   ]
  },
  {
   "cell_type": "code",
   "execution_count": 20,
   "metadata": {},
   "outputs": [
    {
     "name": "stdout",
     "output_type": "stream",
     "text": [
      "Given matrix is:\n",
      " [[1 2]\n",
      " [3 4]]\n",
      "Transpose of the given matrix is:\n",
      " [[1 3]\n",
      " [2 4]]\n"
     ]
    }
   ],
   "source": [
    "#using matrices\n",
    "a=np.matrix(((1,2),(3,4)))\n",
    "print(\"Given matrix is:\\n\",a)\n",
    "print(\"Transpose of the given matrix is:\\n\",a.T)"
   ]
  }
 ],
 "metadata": {
  "interpreter": {
   "hash": "fb3892b00b79664a70d11c0a8e6958c6397afea78e7a3809587c8dd80409c80e"
  },
  "kernelspec": {
   "display_name": "Python 3.8.10 64-bit ('My_enviroment': conda)",
   "name": "python3"
  },
  "language_info": {
   "codemirror_mode": {
    "name": "ipython",
    "version": 3
   },
   "file_extension": ".py",
   "mimetype": "text/x-python",
   "name": "python",
   "nbconvert_exporter": "python",
   "pygments_lexer": "ipython3",
   "version": "3.8.10"
  },
  "orig_nbformat": 4
 },
 "nbformat": 4,
 "nbformat_minor": 2
}
